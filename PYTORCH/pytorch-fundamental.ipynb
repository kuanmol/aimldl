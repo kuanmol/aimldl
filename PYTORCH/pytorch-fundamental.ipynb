{
 "cells": [
  {
   "cell_type": "code",
   "id": "bf1ee82e-9291-4e30-92fa-3269eb9dfe64",
   "metadata": {},
   "source": [
    "import torch\n",
    "\n",
    "if torch.cuda.is_available():\n",
    "    print(\"GPU is available!\")\n",
    "    print(f\"GPU Name: {torch.cuda.get_device_name(0)}\")\n",
    "    print(f\"Total Memory: {torch.cuda.get_device_properties(0).total_memory / 1e9:.2f} GB\")\n",
    "    print(f\"CUDA Version: {torch.version.cuda}\")\n",
    "else:\n",
    "    print(\"GPU is not available, using CPU.\")"
   ],
   "outputs": [],
   "execution_count": null
  },
  {
   "metadata": {},
   "cell_type": "code",
   "source": [
    "#https://pytorch.org/docs/stable/tensors.html\n",
    "#creating tensor\n",
    "#scalar\n",
    "scalar = torch.tensor(1)\n",
    "scalar"
   ],
   "id": "f4a2740917b919ec",
   "outputs": [],
   "execution_count": null
  },
  {
   "metadata": {},
   "cell_type": "code",
   "source": [
    "print(scalar.item())\n",
    "scalar.item()"
   ],
   "id": "724ae3bf7fc5b289",
   "outputs": [],
   "execution_count": null
  },
  {
   "metadata": {},
   "cell_type": "code",
   "source": [
    "vector = torch.tensor([1, 3])\n",
    "vector"
   ],
   "id": "62fd1e78b462731e",
   "outputs": [],
   "execution_count": null
  },
  {
   "metadata": {},
   "cell_type": "code",
   "source": [
    "import torch\n",
    "\n",
    "float_32_tensor = torch.tensor([3.0, 4.0, 5.0],\n",
    "                               dtype=torch.float32,\n",
    "                               device=\"cpu\",\n",
    "                               requires_grad=False)\n",
    "print(float_32_tensor.dtype)\n",
    "float_32_tensor\n"
   ],
   "id": "89a3ef391b315b9b",
   "outputs": [],
   "execution_count": null
  },
  {
   "metadata": {},
   "cell_type": "code",
   "source": [
    "float_16_tensor = float_32_tensor.type(torch.float16)\n",
    "float_16_tensor"
   ],
   "id": "c940cabcd311fb0d",
   "outputs": [],
   "execution_count": null
  },
  {
   "metadata": {},
   "cell_type": "markdown",
   "source": "Manupilating Tensors",
   "id": "80e5fc005f0b646b"
  },
  {
   "metadata": {},
   "cell_type": "code",
   "source": [
    "tensor = torch.tensor([1, 2, 3, 4, 5])\n",
    "print(tensor + 10)\n",
    "\n",
    "#multiply\n",
    "print(tensor * 10)\n",
    "print(torch.mul(tensor, 10))"
   ],
   "id": "252ddb73c43329a3",
   "outputs": [],
   "execution_count": null
  },
  {
   "metadata": {},
   "cell_type": "code",
   "source": [
    "#Matrix multiplication\n",
    "\n",
    "#Element wise multiplication\n",
    "print(tensor, \"*\", tensor, \"=\", {tensor * tensor})\n",
    "\n",
    "#matrix multiplcation\n",
    "print(torch.matmul(tensor, tensor))\n"
   ],
   "id": "814207bffe90655",
   "outputs": [],
   "execution_count": null
  },
  {
   "metadata": {},
   "cell_type": "code",
   "source": [
    "%%time\n",
    "mil_cpu = torch.rand(10000, 10000)\n",
    "\n",
    "value_cpu = torch.sum(mil_cpu * mil_cpu)\n",
    "print(value_cpu)"
   ],
   "id": "72118d063e19b751",
   "outputs": [],
   "execution_count": null
  },
  {
   "metadata": {},
   "cell_type": "code",
   "source": [
    "%%time\n",
    "mil_gpu = torch.rand(10000, 10000, device=\"cuda\")\n",
    "\n",
    "torch.cuda.synchronize()\n",
    "\n",
    "value_gpu = torch.sum(mil_gpu * mil_gpu)\n",
    "torch.cuda.synchronize()  # Ensure the computation is done\n",
    "print(value_gpu)\n"
   ],
   "id": "dc8920b0df82ea93",
   "outputs": [],
   "execution_count": null
  },
  {
   "metadata": {},
   "cell_type": "code",
   "source": [
    "import torch\n",
    "\n",
    "# Create a tensor\n",
    "x = torch.arange(6).reshape(2, 3)\n",
    "print(\"Original Tensor:\\n\", x)\n",
    "\n",
    "# View as a different shape\n",
    "y = x.view(3, 2)\n",
    "print(\"Viewed Tensor:\\n\", y)\n",
    "\n",
    "# Modifying the viewed tensor affects the original\n",
    "y[0, 0] = 999\n",
    "print(\"Modified View Tensor:\\n\", y)\n",
    "print(\"Original Tensor After Modification:\\n\", x)\n"
   ],
   "id": "4386f50b36eaf47c",
   "outputs": [],
   "execution_count": null
  },
  {
   "metadata": {},
   "cell_type": "code",
   "source": [
    "x = torch.arange(6).reshape(2, 3)\n",
    "z = x.T  # Transpose makes it non-contiguous\n",
    "\n",
    "# Reshape works without needing .contiguous()\n",
    "reshaped_z = z.reshape(3, 2)\n",
    "print(\"Reshaped Tensor:\\n\", reshaped_z)\n",
    "\n",
    "x_stack=torch.stack([x,x], dim=1)\n",
    "x_stack"
   ],
   "id": "36479799d171b6d1",
   "outputs": [],
   "execution_count": null
  }
 ],
 "metadata": {
  "kernelspec": {
   "display_name": "Python 3 (ipykernel)",
   "language": "python",
   "name": "python3"
  },
  "language_info": {
   "codemirror_mode": {
    "name": "ipython",
    "version": 3
   },
   "file_extension": ".py",
   "mimetype": "text/x-python",
   "name": "python",
   "nbconvert_exporter": "python",
   "pygments_lexer": "ipython3",
   "version": "3.12.8"
  }
 },
 "nbformat": 4,
 "nbformat_minor": 5
}
