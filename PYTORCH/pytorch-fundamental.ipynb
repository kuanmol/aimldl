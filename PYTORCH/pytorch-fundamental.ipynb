{
 "cells": [
  {
   "cell_type": "code",
   "id": "bf1ee82e-9291-4e30-92fa-3269eb9dfe64",
   "metadata": {
    "ExecuteTime": {
     "end_time": "2025-02-26T11:37:31.642678Z",
     "start_time": "2025-02-26T11:37:26.096160Z"
    }
   },
   "source": [
    "import torch\n",
    "\n",
    "if torch.cuda.is_available():\n",
    "    print(\"GPU is available!\")\n",
    "    print(f\"GPU Name: {torch.cuda.get_device_name(0)}\")\n",
    "    print(f\"Total Memory: {torch.cuda.get_device_properties(0).total_memory / 1e9:.2f} GB\")\n",
    "    print(f\"CUDA Version: {torch.version.cuda}\")\n",
    "else:\n",
    "    print(\"GPU is not available, using CPU.\")"
   ],
   "outputs": [
    {
     "name": "stdout",
     "output_type": "stream",
     "text": [
      "GPU is available!\n",
      "GPU Name: NVIDIA GeForce RTX 3050 6GB Laptop GPU\n",
      "Total Memory: 6.44 GB\n",
      "CUDA Version: 12.6\n"
     ]
    }
   ],
   "execution_count": 1
  },
  {
   "metadata": {},
   "cell_type": "code",
   "source": [
    "#https://pytorch.org/docs/stable/tensors.html\n",
    "#creating tensor\n",
    "#scalar\n",
    "scalar = torch.tensor(1)\n",
    "scalar"
   ],
   "id": "f4a2740917b919ec",
   "outputs": [],
   "execution_count": null
  },
  {
   "metadata": {},
   "cell_type": "code",
   "source": [
    "print(scalar.item())\n",
    "scalar.item()"
   ],
   "id": "724ae3bf7fc5b289",
   "outputs": [],
   "execution_count": null
  },
  {
   "metadata": {},
   "cell_type": "code",
   "source": [
    "vector = torch.tensor([1, 3])\n",
    "vector"
   ],
   "id": "62fd1e78b462731e",
   "outputs": [],
   "execution_count": null
  },
  {
   "metadata": {},
   "cell_type": "code",
   "source": [
    "import torch\n",
    "\n",
    "float_32_tensor = torch.tensor([3.0, 4.0, 5.0],\n",
    "                               dtype=torch.float32,\n",
    "                               device=\"cpu\",\n",
    "                               requires_grad=False)\n",
    "print(float_32_tensor.dtype)\n",
    "float_32_tensor\n"
   ],
   "id": "89a3ef391b315b9b",
   "outputs": [],
   "execution_count": null
  },
  {
   "metadata": {},
   "cell_type": "code",
   "source": [
    "float_16_tensor = float_32_tensor.type(torch.float16)\n",
    "float_16_tensor"
   ],
   "id": "c940cabcd311fb0d",
   "outputs": [],
   "execution_count": null
  },
  {
   "metadata": {},
   "cell_type": "markdown",
   "source": "Manupilating Tensors",
   "id": "80e5fc005f0b646b"
  },
  {
   "metadata": {},
   "cell_type": "code",
   "source": [
    "tensor = torch.tensor([1, 2, 3, 4, 5])\n",
    "print(tensor + 10)\n",
    "\n",
    "#multiply\n",
    "print(tensor * 10)\n",
    "print(torch.mul(tensor, 10))"
   ],
   "id": "252ddb73c43329a3",
   "outputs": [],
   "execution_count": null
  },
  {
   "metadata": {},
   "cell_type": "code",
   "source": [
    "#Matrix multiplication\n",
    "\n",
    "#Element wise multiplication\n",
    "print(tensor, \"*\", tensor, \"=\", {tensor * tensor})\n",
    "\n",
    "#matrix multiplcation\n",
    "print(torch.matmul(tensor, tensor))\n"
   ],
   "id": "814207bffe90655",
   "outputs": [],
   "execution_count": null
  },
  {
   "metadata": {
    "ExecuteTime": {
     "end_time": "2025-02-26T11:40:22.111545Z",
     "start_time": "2025-02-26T11:40:21.739385Z"
    }
   },
   "cell_type": "code",
   "source": [
    "%%time\n",
    "mil_cpu = torch.rand(10000, 10000)\n",
    "\n",
    "value_cpu = torch.sum(mil_cpu * mil_cpu)  # Vectorized operation\n",
    "print(value_cpu)"
   ],
   "id": "72118d063e19b751",
   "outputs": [
    {
     "name": "stdout",
     "output_type": "stream",
     "text": [
      "tensor(33331190.)\n",
      "CPU times: total: 672 ms\n",
      "Wall time: 370 ms\n"
     ]
    }
   ],
   "execution_count": 11
  },
  {
   "metadata": {
    "ExecuteTime": {
     "end_time": "2025-02-26T11:40:25.946256Z",
     "start_time": "2025-02-26T11:40:25.743876Z"
    }
   },
   "cell_type": "code",
   "source": [
    "%%time\n",
    "mil_gpu = torch.rand(10000, 10000, device=\"cuda\")\n",
    "\n",
    "torch.cuda.synchronize()  # Ensure GPU is ready\n",
    "\n",
    "value_gpu = torch.sum(mil_gpu * mil_gpu)  # Vectorized operation\n",
    "torch.cuda.synchronize()  # Ensure the computation is done\n",
    "print(value_gpu)\n"
   ],
   "id": "dc8920b0df82ea93",
   "outputs": [
    {
     "name": "stdout",
     "output_type": "stream",
     "text": [
      "tensor(33336644., device='cuda:0')\n",
      "CPU times: total: 219 ms\n",
      "Wall time: 200 ms\n"
     ]
    }
   ],
   "execution_count": 13
  }
 ],
 "metadata": {
  "kernelspec": {
   "display_name": "Python 3 (ipykernel)",
   "language": "python",
   "name": "python3"
  },
  "language_info": {
   "codemirror_mode": {
    "name": "ipython",
    "version": 3
   },
   "file_extension": ".py",
   "mimetype": "text/x-python",
   "name": "python",
   "nbconvert_exporter": "python",
   "pygments_lexer": "ipython3",
   "version": "3.12.8"
  }
 },
 "nbformat": 4,
 "nbformat_minor": 5
}
