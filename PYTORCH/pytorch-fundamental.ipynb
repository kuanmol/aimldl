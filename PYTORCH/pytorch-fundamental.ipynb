{
 "cells": [
  {
   "cell_type": "code",
   "execution_count": 3,
   "id": "bf1ee82e-9291-4e30-92fa-3269eb9dfe64",
   "metadata": {
    "ExecuteTime": {
     "end_time": "2025-02-26T06:34:42.173767Z",
     "start_time": "2025-02-26T06:34:42.168467Z"
    }
   },
   "outputs": [
    {
     "name": "stdout",
     "output_type": "stream",
     "text": [
      "GPU is available!\n",
      "GPU Name: NVIDIA GeForce RTX 3050 6GB Laptop GPU\n",
      "Total Memory: 6.44 GB\n",
      "CUDA Version: 12.6\n"
     ]
    }
   ],
   "source": [
    "from importlib.metadata import requires\n",
    "\n",
    "import torch\n",
    "from flatbuffers.number_types import float32_to_uint32\n",
    "from tensorboard.summary.v1 import scalar\n",
    "\n",
    "if torch.cuda.is_available():\n",
    "    print(\"GPU is available!\")\n",
    "    print(f\"GPU Name: {torch.cuda.get_device_name(0)}\")\n",
    "    print(f\"Total Memory: {torch.cuda.get_device_properties(0).total_memory / 1e9:.2f} GB\")\n",
    "    print(f\"CUDA Version: {torch.version.cuda}\")\n",
    "else:\n",
    "    print(\"GPU is not available, using CPU.\")"
   ]
  },
  {
   "metadata": {
    "ExecuteTime": {
     "end_time": "2025-02-26T07:16:08.820689Z",
     "start_time": "2025-02-26T07:16:08.813645Z"
    }
   },
   "cell_type": "code",
   "source": [
    "#https://pytorch.org/docs/stable/tensors.html\n",
    "#creating tensor\n",
    "#scalar\n",
    "scalar=torch.tensor(1)\n",
    "scalar"
   ],
   "id": "f4a2740917b919ec",
   "outputs": [
    {
     "data": {
      "text/plain": [
       "tensor(1)"
      ]
     },
     "execution_count": 27,
     "metadata": {},
     "output_type": "execute_result"
    }
   ],
   "execution_count": 27
  },
  {
   "metadata": {
    "ExecuteTime": {
     "end_time": "2025-02-26T07:16:36.741303Z",
     "start_time": "2025-02-26T07:16:36.736237Z"
    }
   },
   "cell_type": "code",
   "source": [
    "print(scalar.item())\n",
    "scalar.item()"
   ],
   "id": "724ae3bf7fc5b289",
   "outputs": [
    {
     "name": "stdout",
     "output_type": "stream",
     "text": [
      "1\n"
     ]
    },
    {
     "data": {
      "text/plain": [
       "1"
      ]
     },
     "execution_count": 31,
     "metadata": {},
     "output_type": "execute_result"
    }
   ],
   "execution_count": 31
  },
  {
   "metadata": {
    "ExecuteTime": {
     "end_time": "2025-02-26T07:17:56.378716Z",
     "start_time": "2025-02-26T07:17:56.371343Z"
    }
   },
   "cell_type": "code",
   "source": [
    "vector=torch.tensor([1,3])\n",
    "vector"
   ],
   "id": "62fd1e78b462731e",
   "outputs": [
    {
     "data": {
      "text/plain": [
       "tensor([1, 3])"
      ]
     },
     "execution_count": 40,
     "metadata": {},
     "output_type": "execute_result"
    }
   ],
   "execution_count": 40
  },
  {
   "metadata": {
    "ExecuteTime": {
     "end_time": "2025-02-26T11:13:30.684910Z",
     "start_time": "2025-02-26T11:13:30.678529Z"
    }
   },
   "cell_type": "code",
   "source": [
    "import torch\n",
    "float_32_tensor=torch.tensor([3.0,4.0,5.0],\n",
    "                             dtype=torch.float32,\n",
    "                             device=\"cpu\",\n",
    "                             requires_grad=False)\n",
    "print(float_32_tensor.dtype)\n",
    "float_32_tensor\n"
   ],
   "id": "89a3ef391b315b9b",
   "outputs": [
    {
     "name": "stdout",
     "output_type": "stream",
     "text": [
      "torch.float32\n"
     ]
    },
    {
     "data": {
      "text/plain": [
       "tensor([3., 4., 5.])"
      ]
     },
     "execution_count": 27,
     "metadata": {},
     "output_type": "execute_result"
    }
   ],
   "execution_count": 27
  },
  {
   "metadata": {
    "ExecuteTime": {
     "end_time": "2025-02-26T11:13:35.376401Z",
     "start_time": "2025-02-26T11:13:35.364379Z"
    }
   },
   "cell_type": "code",
   "source": [
    "float_16_tensor=float_32_tensor.type(torch.float16)\n",
    "float_16_tensor"
   ],
   "id": "c940cabcd311fb0d",
   "outputs": [
    {
     "data": {
      "text/plain": [
       "tensor([3., 4., 5.], dtype=torch.float16)"
      ]
     },
     "execution_count": 28,
     "metadata": {},
     "output_type": "execute_result"
    }
   ],
   "execution_count": 28
  }
 ],
 "metadata": {
  "kernelspec": {
   "display_name": "Python 3 (ipykernel)",
   "language": "python",
   "name": "python3"
  },
  "language_info": {
   "codemirror_mode": {
    "name": "ipython",
    "version": 3
   },
   "file_extension": ".py",
   "mimetype": "text/x-python",
   "name": "python",
   "nbconvert_exporter": "python",
   "pygments_lexer": "ipython3",
   "version": "3.12.8"
  }
 },
 "nbformat": 4,
 "nbformat_minor": 5
}
