{
 "cells": [
  {
   "cell_type": "code",
   "id": "initial_id",
   "metadata": {
    "collapsed": true
   },
   "source": [
    "import numpy as np\n",
    "import torch\n",
    "\n",
    "print(torch.__version__)"
   ],
   "outputs": [],
   "execution_count": null
  },
  {
   "metadata": {},
   "cell_type": "code",
   "source": [
    "weight = 0.7\n",
    "bias = 0.3\n",
    "\n",
    "start = 0\n",
    "end = 1\n",
    "step = 0.02\n",
    "X = torch.arange(start, end, step).unsqueeze(dim=1)\n",
    "Y = weight * X + bias\n",
    "\n",
    "print(len(X), len(Y))\n",
    "X[:10], Y[:10]"
   ],
   "id": "391dfb99589f65ae",
   "outputs": [],
   "execution_count": null
  },
  {
   "metadata": {},
   "cell_type": "code",
   "source": [
    "##Splitting into training and testing\n",
    "train_split = int(0.8 * len(X))\n",
    "X_train, Y_train = X[:train_split], Y[:train_split]\n",
    "X_test, Y_test = X[train_split:], Y[train_split:]\n",
    "\n",
    "len(X_train), len(X_test), len(Y_train), len(Y_test)"
   ],
   "id": "9ebd52079c0e61da",
   "outputs": [],
   "execution_count": null
  },
  {
   "metadata": {},
   "cell_type": "code",
   "source": [
    "import matplotlib.pyplot as plt\n",
    "\n",
    "\n",
    "def plot_prediction(\n",
    "        train_data=X_train,\n",
    "        train_label=Y_train,\n",
    "        test_data=X_test,\n",
    "        test_label=Y_test,\n",
    "        predictions=None):\n",
    "    plt.figure(figsize=(10, 6))\n",
    "    #Plot training data in blue\n",
    "    plt.scatter(train_data, train_label, c=\"b\", s=4, label=\"Training data\")\n",
    "\n",
    "    #Plot testing data in green\n",
    "    plt.scatter(test_data, test_label, c=\"g\", s=4, label=\"Test data\")\n",
    "\n",
    "    if predictions is not None:\n",
    "        plt.scatter(test_data, predictions, c=\"r\", s=4, label=\"Predictions\")\n",
    "\n",
    "    plt.legend(prop={\"size\": 14})\n",
    "    plt.show()\n",
    "\n",
    "\n",
    "plot_prediction();"
   ],
   "id": "b3feade1f0817ea7",
   "outputs": [],
   "execution_count": null
  },
  {
   "metadata": {},
   "cell_type": "markdown",
   "source": "BUILD MODEL",
   "id": "c91f37e00c07ce7f"
  },
  {
   "metadata": {},
   "cell_type": "code",
   "source": [
    "from torch import nn\n",
    "\n",
    "\n",
    "#Create linear regression model class\n",
    "class LinearRegressionModel(nn.Module):\n",
    "    def __init__(self):\n",
    "        super().__init__()\n",
    "        self.weight = nn.Parameter(torch.randn(1, requires_grad=True, dtype=torch.float))\n",
    "        self.bias = nn.Parameter(torch.randn(1, requires_grad=True, dtype=torch.float))\n",
    "\n",
    "    def forward(self, x: torch.Tensor) -> torch.Tensor:\n",
    "        return self.weight * x + self.bias"
   ],
   "id": "46ba89d1cb0845eb",
   "outputs": [],
   "execution_count": null
  },
  {
   "metadata": {},
   "cell_type": "code",
   "source": [
    "#random seed\n",
    "torch.manual_seed(42)\n",
    "\n",
    "#create an instance of the model\n",
    "model_0 = LinearRegressionModel()\n",
    "print(list(model_0.parameters()))\n",
    "model_0.state_dict()"
   ],
   "id": "5b34d5937745d1be",
   "outputs": [],
   "execution_count": null
  },
  {
   "metadata": {},
   "cell_type": "code",
   "source": [
    "with torch.inference_mode():\n",
    "    Y_preds = model_0(X_test)\n",
    "\n",
    "print(Y_preds)\n",
    "plot_prediction(predictions=Y_preds)"
   ],
   "id": "f1cbe6741199b768",
   "outputs": [],
   "execution_count": null
  },
  {
   "metadata": {},
   "cell_type": "code",
   "source": [
    "loss_fn = nn.L1Loss()\n",
    "\n",
    "optimizer = torch.optim.SGD(params=model_0.parameters(), lr=0.01)"
   ],
   "id": "a309288ebd0ca368",
   "outputs": [],
   "execution_count": null
  },
  {
   "metadata": {},
   "cell_type": "code",
   "source": [
    "epochs = 200\n",
    "epochs_counter = []\n",
    "loss_values = []\n",
    "test_loss_values = []\n",
    "\n",
    "for epoch in range(epochs):\n",
    "    model_0.train()\n",
    "\n",
    "Y_preds = model_0(X_train)  # 1 forward pass\n",
    "loss = loss_fn(Y_preds, Y_train)  # 2 calculate the loss\n",
    "optimizer.zero_grad()  # 3 optimizer zero grad\n",
    "loss.backward()  # perform backpropagation on the loss wrt parameter of the model\n",
    "optimizer.step()  # step the optimizer\n",
    "model_0.eval()\n",
    "\n",
    "with torch.inference_mode():\n",
    "    test_preds = model_0(X_test)\n",
    "    test_loss = loss_fn(test_preds, Y_test)\n",
    "\n",
    "if epoch % 10 == 0:\n",
    "    epochs_counter.append(epoch)\n",
    "loss_values.append(loss)\n",
    "test_loss_values.append(test_loss)\n",
    "print(f\"Epoch: {epoch} | Loss: {loss} | Test Loss: {test_loss}\")"
   ],
   "id": "b957150011f7ae57",
   "outputs": [],
   "execution_count": null
  },
  {
   "metadata": {},
   "cell_type": "code",
   "source": [
    "import numpy as np\n",
    "\n",
    "plt.plot(epochs_counter, np.array(torch.tensor(loss_values).numpy()), label=\"Training Loss\")\n",
    "plt.plot(epochs_counter, test_loss_values, label=\"Testing Loss\")\n",
    "plt.title(\"Training and Test Loss\")\n",
    "plt.xlabel(\"Epochs\")\n",
    "plt.ylabel(\"Loss\")\n",
    "plt.legend()"
   ],
   "id": "6d3765dca296e313",
   "outputs": [],
   "execution_count": null
  },
  {
   "metadata": {},
   "cell_type": "code",
   "source": [
    "# Make predictions with model\n",
    "with torch.inference_mode():\n",
    "    y_preds = model_0(X_test)\n",
    "plot_prediction(predictions=y_preds)"
   ],
   "id": "64f3a1ae097c2ad7",
   "outputs": [],
   "execution_count": null
  },
  {
   "metadata": {},
   "cell_type": "code",
   "source": "model_0.state_dict()\n",
   "id": "35d898ac83ffb552",
   "outputs": [],
   "execution_count": null
  },
  {
   "metadata": {},
   "cell_type": "code",
   "source": "",
   "id": "5e13cca78049fcf6",
   "outputs": [],
   "execution_count": null
  },
  {
   "metadata": {},
   "cell_type": "markdown",
   "source": "**Ending**",
   "id": "dd7994246f600eff"
  },
  {
   "metadata": {},
   "cell_type": "code",
   "source": [
    "import torch\n",
    "\n",
    "#Create\n",
    "weight = 71.9\n",
    "bias = 3.3\n",
    "\n",
    "#Create range value\n",
    "start = 0\n",
    "end = 1\n",
    "step = 0.02\n",
    "\n",
    "#Create x and y\n",
    "x = torch.arange(start, end, step).unsqueeze(dim=1)\n",
    "y = weight * x + bias\n",
    "x[:10], y[:10]"
   ],
   "id": "3cb15961f7a1028a",
   "outputs": [],
   "execution_count": null
  },
  {
   "metadata": {},
   "cell_type": "code",
   "source": [
    "#Split data\n",
    "train_split = int(0.8 * len(x))\n",
    "X_train, Y_train = x[:train_split], y[:train_split]\n",
    "X_test, Y_test = x[train_split:], y[train_split:]\n",
    "len(X_train), len(X_test), len(Y_train), len(Y_test)"
   ],
   "id": "502e4cdb128ea1ff",
   "outputs": [],
   "execution_count": null
  },
  {
   "metadata": {},
   "cell_type": "code",
   "source": [
    "#Plot data\n",
    "plot_prediction(X_train, Y_train, X_test, Y_test)"
   ],
   "id": "97425dae6f446727",
   "outputs": [],
   "execution_count": null
  },
  {
   "metadata": {},
   "cell_type": "code",
   "source": [
    "#pytorch linear model\n",
    "from torch import nn\n",
    "\n",
    "\n",
    "class LinearRegressionModel2(nn.Module):\n",
    "    def __init__(self):\n",
    "        super().__init__()\n",
    "\n",
    "        #Use nn.Linear()\n",
    "        self.linear_layer = nn.Linear(in_features=1, out_features=1)\n",
    "\n",
    "    def forward(self, x: torch.Tensor) -> torch.Tensor:\n",
    "        return self.linear_layer(x)\n",
    "\n",
    "\n",
    "torch.manual_seed(42)\n",
    "model_2 = LinearRegressionModel2()\n",
    "model_2, model_2.state_dict()"
   ],
   "id": "526e69e445e81826",
   "outputs": [],
   "execution_count": null
  },
  {
   "metadata": {},
   "cell_type": "code",
   "source": "next(model_2.parameters()).device",
   "id": "e21f343db53359e8",
   "outputs": [],
   "execution_count": null
  },
  {
   "metadata": {},
   "cell_type": "code",
   "source": [
    "model_2.to(device=torch.device('cuda'))\n",
    "next(model_2.parameters()).device"
   ],
   "id": "ebf29ba1c095c1cd",
   "outputs": [],
   "execution_count": null
  },
  {
   "metadata": {},
   "cell_type": "code",
   "source": [
    "#Trainig\n",
    "loss_fn = nn.L1Loss()\n",
    "optimizer = torch.optim.SGD(params=model_2.parameters(), lr=0.1)\n",
    "\n",
    "torch.manual_seed(42)\n",
    "epochs = 6000\n",
    "X_train = X_train.to('cuda')\n",
    "Y_train = Y_train.to('cuda')\n",
    "X_test = X_test.to('cuda')\n",
    "Y_test = Y_test.to('cuda')\n",
    "\n",
    "for epoch in range(epochs):\n",
    "    model_2.train()\n",
    "    y_pred = model_2(X_train)\n",
    "    loss = loss_fn(y_pred, Y_train)\n",
    "    optimizer.zero_grad()\n",
    "    loss.backward()\n",
    "    optimizer.step()\n",
    "    model_2.eval()\n",
    "    with torch.inference_mode():\n",
    "        test_pred = model_2(X_test)\n",
    "        test_loss = loss_fn(test_pred, Y_test)\n",
    "\n",
    "    if epoch % 10 == 0:\n",
    "        print(f\"Epoch: {epoch} | Loss: {loss} | Test Loss: {test_loss}\")\n"
   ],
   "id": "267e3c896b4516ba",
   "outputs": [],
   "execution_count": null
  },
  {
   "metadata": {},
   "cell_type": "code",
   "source": "model_2.state_dict()",
   "id": "a0ce2a9ad7e08def",
   "outputs": [],
   "execution_count": null
  },
  {
   "metadata": {},
   "cell_type": "code",
   "source": "weight, bias",
   "id": "48edc922c2e4f89b",
   "outputs": [],
   "execution_count": null
  },
  {
   "metadata": {},
   "cell_type": "code",
   "source": [
    "model_2.eval()\n",
    "\n",
    "with torch.inference_mode():\n",
    "    y_pred = model_2(X_test)\n",
    "print(y_pred)"
   ],
   "id": "eb428d609e50fe46",
   "outputs": [],
   "execution_count": null
  },
  {
   "metadata": {},
   "cell_type": "code",
   "source": "plot_prediction(predictions=y_pred.to('cpu'))",
   "id": "83e384d6453d36a3",
   "outputs": [],
   "execution_count": null
  },
  {
   "metadata": {},
   "cell_type": "code",
   "source": [
    "from pathlib import Path\n",
    "\n",
    "MODEL_PATH = Path('models')\n",
    "MODEL_PATH.mkdir(parents=True, exist_ok=True)\n",
    "\n",
    "MODEL_NAME = \"pytorch-workflow_model1.pth\"\n",
    "MODEL_SAVE_PATH = MODEL_PATH / MODEL_NAME\n",
    "MODEL_SAVE_PATH\n",
    "print(MODEL_SAVE_PATH)\n",
    "torch.save(obj=model_2.state_dict(), f=MODEL_SAVE_PATH)"
   ],
   "id": "ceed21da4b7e3a8",
   "outputs": [],
   "execution_count": null
  },
  {
   "metadata": {},
   "cell_type": "code",
   "source": [
    "loaded_model_2 = LinearRegressionModel2()\n",
    "loaded_model_2.load_state_dict(torch.load(MODEL_SAVE_PATH))\n",
    "loaded_model_2.to(device=torch.device('cuda'))\n",
    "loaded_model_2.state_dict()\n",
    "loaded_model_2.eval()\n",
    "with torch.inference_mode():\n",
    "    loaded_model_2_pred=loaded_model_2(X_test)\n",
    "print(y_pred == loaded_model_2_pred)"
   ],
   "id": "51a7a93dc498c83e",
   "outputs": [],
   "execution_count": null
  }
 ],
 "metadata": {
  "kernelspec": {
   "display_name": "Python 3",
   "language": "python",
   "name": "python3"
  },
  "language_info": {
   "codemirror_mode": {
    "name": "ipython",
    "version": 2
   },
   "file_extension": ".py",
   "mimetype": "text/x-python",
   "name": "python",
   "nbconvert_exporter": "python",
   "pygments_lexer": "ipython2",
   "version": "2.7.6"
  }
 },
 "nbformat": 4,
 "nbformat_minor": 5
}
