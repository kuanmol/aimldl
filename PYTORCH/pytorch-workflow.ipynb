{
 "cells": [
  {
   "cell_type": "code",
   "id": "initial_id",
   "metadata": {
    "collapsed": true,
    "ExecuteTime": {
     "end_time": "2025-02-27T13:54:29.029906Z",
     "start_time": "2025-02-27T13:54:16.074548Z"
    }
   },
   "source": [
    "import numpy as np\n",
    "import torch\n",
    "print(torch.__version__)"
   ],
   "outputs": [
    {
     "name": "stderr",
     "output_type": "stream",
     "text": [
      "D:\\Artificial\\.venv\\Lib\\site-packages\\gymnasium\\envs\\registration.py:517: DeprecationWarning: \u001B[33mWARN: The environment MsPacmanDeterministic-v0 is out of date. You should consider upgrading to version `v4`.\u001B[0m\n",
      "  logger.deprecation(\n"
     ]
    },
    {
     "name": "stdout",
     "output_type": "stream",
     "text": [
      "State shape:  (210, 160, 3)\n",
      "State size:  210\n",
      "Number of actions:  9\n",
      "Using device: cuda\n",
      "Episode 1\tAverage Score: 260.00"
     ]
    },
    {
     "ename": "KeyboardInterrupt",
     "evalue": "",
     "output_type": "error",
     "traceback": [
      "\u001B[1;31m---------------------------------------------------------------------------\u001B[0m",
      "\u001B[1;31mKeyboardInterrupt\u001B[0m                         Traceback (most recent call last)",
      "Cell \u001B[1;32mIn[20], line 4\u001B[0m\n\u001B[0;32m      1\u001B[0m \u001B[38;5;28;01mimport\u001B[39;00m\u001B[38;5;250m \u001B[39m\u001B[38;5;21;01mnumpy\u001B[39;00m\u001B[38;5;250m \u001B[39m\u001B[38;5;28;01mas\u001B[39;00m\u001B[38;5;250m \u001B[39m\u001B[38;5;21;01mnp\u001B[39;00m\n\u001B[0;32m      2\u001B[0m \u001B[38;5;28;01mimport\u001B[39;00m\u001B[38;5;250m \u001B[39m\u001B[38;5;21;01mtorch\u001B[39;00m\n\u001B[1;32m----> 4\u001B[0m \u001B[38;5;28;01mfrom\u001B[39;00m\u001B[38;5;250m \u001B[39m\u001B[38;5;21;01mAI\u001B[39;00m\u001B[38;5;21;01m.\u001B[39;00m\u001B[38;5;21;01mDCQN\u001B[39;00m\u001B[38;5;21;01m.\u001B[39;00m\u001B[38;5;21;01mpac\u001B[39;00m\u001B[38;5;250m \u001B[39m\u001B[38;5;28;01mimport\u001B[39;00m device\n\u001B[0;32m      6\u001B[0m \u001B[38;5;28mprint\u001B[39m(torch\u001B[38;5;241m.\u001B[39m__version__)\n",
      "File \u001B[1;32mD:\\Artificial\\AI\\DCQN\\pac.py:125\u001B[0m\n\u001B[0;32m    123\u001B[0m score \u001B[38;5;241m=\u001B[39m \u001B[38;5;241m0\u001B[39m\n\u001B[0;32m    124\u001B[0m \u001B[38;5;28;01mfor\u001B[39;00m t \u001B[38;5;129;01min\u001B[39;00m \u001B[38;5;28mrange\u001B[39m(maximum_number_timesteps_per_episode):\n\u001B[1;32m--> 125\u001B[0m     action \u001B[38;5;241m=\u001B[39m \u001B[43magent\u001B[49m\u001B[38;5;241;43m.\u001B[39;49m\u001B[43mact\u001B[49m\u001B[43m(\u001B[49m\u001B[43mstate\u001B[49m\u001B[43m,\u001B[49m\u001B[43m \u001B[49m\u001B[43mepsilon\u001B[49m\u001B[43m)\u001B[49m\n\u001B[0;32m    126\u001B[0m     next_state, reward, done, _, _ \u001B[38;5;241m=\u001B[39m env\u001B[38;5;241m.\u001B[39mstep(action)\n\u001B[0;32m    127\u001B[0m     agent\u001B[38;5;241m.\u001B[39mstep(state, action, reward, next_state, done)\n",
      "File \u001B[1;32mD:\\Artificial\\AI\\DCQN\\pac.py:85\u001B[0m, in \u001B[0;36mAgent.act\u001B[1;34m(self, state, epsilon)\u001B[0m\n\u001B[0;32m     84\u001B[0m \u001B[38;5;28;01mdef\u001B[39;00m\u001B[38;5;250m \u001B[39m\u001B[38;5;21mact\u001B[39m(\u001B[38;5;28mself\u001B[39m, state, epsilon\u001B[38;5;241m=\u001B[39m\u001B[38;5;241m0.\u001B[39m):\n\u001B[1;32m---> 85\u001B[0m     state \u001B[38;5;241m=\u001B[39m \u001B[43mpreprocess_frame\u001B[49m\u001B[43m(\u001B[49m\u001B[43mstate\u001B[49m\u001B[43m)\u001B[49m\u001B[38;5;241m.\u001B[39mto(\u001B[38;5;28mself\u001B[39m\u001B[38;5;241m.\u001B[39mdevice)\n\u001B[0;32m     86\u001B[0m     \u001B[38;5;28mself\u001B[39m\u001B[38;5;241m.\u001B[39mlocal_qnetwork\u001B[38;5;241m.\u001B[39meval()\n\u001B[0;32m     87\u001B[0m     \u001B[38;5;28;01mwith\u001B[39;00m torch\u001B[38;5;241m.\u001B[39mno_grad():\n",
      "File \u001B[1;32mD:\\Artificial\\AI\\DCQN\\pac.py:37\u001B[0m, in \u001B[0;36mpreprocess_frame\u001B[1;34m(frame)\u001B[0m\n\u001B[0;32m     32\u001B[0m frame \u001B[38;5;241m=\u001B[39m Image\u001B[38;5;241m.\u001B[39mfromarray(frame)\n\u001B[0;32m     33\u001B[0m preprocess \u001B[38;5;241m=\u001B[39m transforms\u001B[38;5;241m.\u001B[39mCompose([\n\u001B[0;32m     34\u001B[0m     transforms\u001B[38;5;241m.\u001B[39mResize((\u001B[38;5;241m128\u001B[39m, \u001B[38;5;241m128\u001B[39m)),\n\u001B[0;32m     35\u001B[0m     transforms\u001B[38;5;241m.\u001B[39mToTensor()\n\u001B[0;32m     36\u001B[0m ])\n\u001B[1;32m---> 37\u001B[0m \u001B[38;5;28;01mreturn\u001B[39;00m \u001B[43mpreprocess\u001B[49m\u001B[43m(\u001B[49m\u001B[43mframe\u001B[49m\u001B[43m)\u001B[49m\u001B[38;5;241;43m.\u001B[39;49m\u001B[43munsqueeze\u001B[49m\u001B[43m(\u001B[49m\u001B[38;5;241;43m0\u001B[39;49m\u001B[43m)\u001B[49m\u001B[38;5;241;43m.\u001B[39;49m\u001B[43mto\u001B[49m\u001B[43m(\u001B[49m\u001B[43mdevice\u001B[49m\u001B[43m)\u001B[49m\n",
      "\u001B[1;31mKeyboardInterrupt\u001B[0m: "
     ]
    }
   ],
   "execution_count": 20
  },
  {
   "metadata": {},
   "cell_type": "code",
   "source": [
    "weight = 0.7\n",
    "bias = 0.3\n",
    "\n",
    "start = 0\n",
    "end = 1\n",
    "step = 0.02\n",
    "X = torch.arange(start, end, step).unsqueeze(dim=1)\n",
    "Y = weight * X + bias\n",
    "\n",
    "print(len(X), len(Y))\n",
    "X[:10], Y[:10]"
   ],
   "id": "391dfb99589f65ae",
   "outputs": [],
   "execution_count": null
  },
  {
   "metadata": {},
   "cell_type": "code",
   "source": [
    "##Splitting into training and testing\n",
    "train_split = int(0.8 * len(X))\n",
    "X_train, Y_train = X[:train_split], Y[:train_split]\n",
    "X_test, Y_test = X[train_split:], Y[train_split:]\n",
    "\n",
    "len(X_train), len(X_test), len(Y_train), len(Y_test)"
   ],
   "id": "9ebd52079c0e61da",
   "outputs": [],
   "execution_count": null
  },
  {
   "metadata": {
    "ExecuteTime": {
     "end_time": "2025-02-27T13:43:11.626987Z",
     "start_time": "2025-02-27T13:43:10.673727Z"
    }
   },
   "cell_type": "code",
   "source": [
    "import matplotlib.pyplot as plt\n",
    "\n",
    "\n",
    "def plot_prediction(\n",
    "        train_data=X_train,\n",
    "        train_label=Y_train,\n",
    "        test_data=X_test,\n",
    "        test_label=Y_test,\n",
    "        predictions=None):\n",
    "    plt.figure(figsize=(10, 6))\n",
    "    #Plot training data in blue\n",
    "    plt.scatter(train_data, train_label, c=\"b\", s=4, label=\"Training data\")\n",
    "\n",
    "    #Plot testing data in green\n",
    "    plt.scatter(test_data, test_label, c=\"g\", s=4, label=\"Test data\")\n",
    "\n",
    "    if predictions is not None:\n",
    "        plt.scatter(test_data, predictions, c=\"r\", s=4, label=\"Predictions\")\n",
    "\n",
    "    plt.legend(prop={\"size\": 14})\n",
    "    plt.show()\n",
    "\n",
    "\n",
    "plot_prediction();"
   ],
   "id": "b3feade1f0817ea7",
   "outputs": [
    {
     "data": {
      "text/plain": [
       "<Figure size 1000x600 with 1 Axes>"
      ],
      "image/png": "[encoded data removed]"
     },
     "metadata": {},
     "output_type": "display_data"
    }
   ],
   "execution_count": 8
  },
  {
   "metadata": {},
   "cell_type": "markdown",
   "source": "BUILD MODEL",
   "id": "c91f37e00c07ce7f"
  },
  {
   "metadata": {},
   "cell_type": "code",
   "source": [
    "from torch import nn\n",
    "\n",
    "#Create linear regression model class\n",
    "class LinearRegressionModel(nn.Module):\n",
    "    def __init__(self):\n",
    "        super().__init__()\n",
    "        self.weight = nn.Parameter(torch.randn(1, requires_grad=True, dtype=torch.float))\n",
    "        self.bias = nn.Parameter(torch.randn(1, requires_grad=True, dtype=torch.float))\n",
    "\n",
    "    def forward(self, x: torch.Tensor) -> torch.Tensor:\n",
    "        return self.weight * x + self.bias"
   ],
   "id": "46ba89d1cb0845eb",
   "outputs": [],
   "execution_count": null
  },
  {
   "metadata": {},
   "cell_type": "code",
   "source": [
    "#random seed\n",
    "torch.manual_seed(42)\n",
    "\n",
    "#create an instance of the model\n",
    "model_0 = LinearRegressionModel()\n",
    "print(list(model_0.parameters()))\n",
    "model_0.state_dict()"
   ],
   "id": "5b34d5937745d1be",
   "outputs": [],
   "execution_count": null
  },
  {
   "metadata": {},
   "cell_type": "code",
   "source": [
    "with torch.inference_mode():\n",
    "    Y_preds = model_0(X_test)\n",
    "\n",
    "print(Y_preds)\n",
    "plot_prediction(predictions=Y_preds)"
   ],
   "id": "f1cbe6741199b768",
   "outputs": [],
   "execution_count": null
  },
  {
   "metadata": {},
   "cell_type": "code",
   "source": [
    "loss_fn = nn.L1Loss()\n",
    "\n",
    "optimizer = torch.optim.SGD(params=model_0.parameters(), lr=0.01)"
   ],
   "id": "a309288ebd0ca368",
   "outputs": [],
   "execution_count": null
  },
  {
   "metadata": {},
   "cell_type": "code",
   "source": [
    "epochs = 200\n",
    "epochs_counter = []\n",
    "loss_values = []\n",
    "test_loss_values = []\n",
    "\n",
    "for epoch in range(epochs):\n",
    "    model_0.train()\n",
    "\n",
    "    Y_preds = model_0(X_train)  # 1 forward pass\n",
    "    loss = loss_fn(Y_preds, Y_train)  # 2 calculate the loss\n",
    "    optimizer.zero_grad()  # 3 optimizer zero grad\n",
    "    loss.backward()  # perform backpropagation on the loss wrt parameter of the model\n",
    "    optimizer.step()  # step the optimizer\n",
    "    model_0.eval()\n",
    "\n",
    "    with torch.inference_mode():\n",
    "\n",
    "        test_preds = model_0(X_test)\n",
    "        test_loss = loss_fn(test_preds, Y_test)\n",
    "\n",
    "    if epoch % 10 == 0:\n",
    "        epochs_counter.append(epoch)\n",
    "        loss_values.append(loss)\n",
    "        test_loss_values.append(test_loss)\n",
    "        print(f\"Epoch: {epoch} | Loss: {loss} | Test Loss: {test_loss}\")"
   ],
   "id": "b957150011f7ae57",
   "outputs": [],
   "execution_count": null
  },
  {
   "metadata": {},
   "cell_type": "code",
   "source": [
    "    import numpy as np\n",
    "\n",
    "plt.plot(epochs_counter, np.array(torch.tensor(loss_values).numpy()), label=\"Training Loss\")\n",
    "plt.plot(epochs_counter, test_loss_values, label=\"Testing Loss\")\n",
    "plt.title(\"Training and Test Loss\")\n",
    "plt.xlabel(\"Epochs\")\n",
    "plt.ylabel(\"Loss\")\n",
    "plt.legend()"
   ],
   "id": "6d3765dca296e313",
   "outputs": [],
   "execution_count": null
  },
  {
   "metadata": {},
   "cell_type": "code",
   "source": [
    "# Make predictions with model\n",
    "with torch.inference_mode():\n",
    "    y_preds = model_0(X_test)\n",
    "plot_prediction(predictions=y_preds)"
   ],
   "id": "64f3a1ae097c2ad7",
   "outputs": [],
   "execution_count": null
  },
  {
   "metadata": {},
   "cell_type": "code",
   "source": "model_0.state_dict()\n",
   "id": "35d898ac83ffb552",
   "outputs": [],
   "execution_count": null
  },
  {
   "metadata": {},
   "cell_type": "code",
   "source": "",
   "id": "5e13cca78049fcf6",
   "outputs": [],
   "execution_count": null
  },
  {
   "metadata": {},
   "cell_type": "markdown",
   "source": "ENDING",
   "id": "dd7994246f600eff"
  },
  {
   "metadata": {
    "ExecuteTime": {
     "end_time": "2025-02-27T13:42:28.275396Z",
     "start_time": "2025-02-27T13:42:28.262386Z"
    }
   },
   "cell_type": "code",
   "source": [
    "import torch\n",
    "#Create\n",
    "weight = 71.9\n",
    "bias = 3.3\n",
    "\n",
    "#Create range value\n",
    "start = 0\n",
    "end = 1\n",
    "step = 0.02\n",
    "\n",
    "#Create x and y\n",
    "x = torch.arange(start, end, step).unsqueeze(dim=1)\n",
    "y = weight * x + bias\n",
    "x[:10], y[:10]"
   ],
   "id": "3cb15961f7a1028a",
   "outputs": [
    {
     "data": {
      "text/plain": [
       "(tensor([[0.0000],\n",
       "         [0.0200],\n",
       "         [0.0400],\n",
       "         [0.0600],\n",
       "         [0.0800],\n",
       "         [0.1000],\n",
       "         [0.1200],\n",
       "         [0.1400],\n",
       "         [0.1600],\n",
       "         [0.1800]]),\n",
       " tensor([[ 3.3000],\n",
       "         [ 4.7380],\n",
       "         [ 6.1760],\n",
       "         [ 7.6140],\n",
       "         [ 9.0520],\n",
       "         [10.4900],\n",
       "         [11.9280],\n",
       "         [13.3660],\n",
       "         [14.8040],\n",
       "         [16.2420]]))"
      ]
     },
     "execution_count": 5,
     "metadata": {},
     "output_type": "execute_result"
    }
   ],
   "execution_count": 5
  },
  {
   "metadata": {
    "ExecuteTime": {
     "end_time": "2025-02-27T13:42:49.059980Z",
     "start_time": "2025-02-27T13:42:49.047858Z"
    }
   },
   "cell_type": "code",
   "source": [
    "#Split data\n",
    "train_split = int(0.8 * len(x))\n",
    "X_train, Y_train = x[:train_split], y[:train_split]\n",
    "X_test, Y_test = x[train_split:], y[train_split:]\n",
    "len(X_train), len(X_test), len(Y_train), len(Y_test)"
   ],
   "id": "502e4cdb128ea1ff",
   "outputs": [
    {
     "data": {
      "text/plain": [
       "(40, 10, 40, 10)"
      ]
     },
     "execution_count": 7,
     "metadata": {},
     "output_type": "execute_result"
    }
   ],
   "execution_count": 7
  },
  {
   "metadata": {
    "ExecuteTime": {
     "end_time": "2025-02-27T13:43:32.718007Z",
     "start_time": "2025-02-27T13:43:32.617895Z"
    }
   },
   "cell_type": "code",
   "source": [
    "#Plot data\n",
    "plot_prediction(X_train, Y_train, X_test, Y_test)"
   ],
   "id": "97425dae6f446727",
   "outputs": [
    {
     "data": {
      "text/plain": [
       "<Figure size 1000x600 with 1 Axes>"
      ],
      "image/png": "[encoded data removed]"
     },
     "metadata": {},
     "output_type": "display_data"
    }
   ],
   "execution_count": 9
  },
  {
   "metadata": {
    "ExecuteTime": {
     "end_time": "2025-02-27T13:50:55.186241Z",
     "start_time": "2025-02-27T13:50:55.136874Z"
    }
   },
   "cell_type": "code",
   "source": [
    "#pytorch linear model\n",
    "from torch import nn\n",
    "\n",
    "class LinearRegressionModel2(nn.Module):\n",
    "    def __init__(self):\n",
    "        super().__init__()\n",
    "\n",
    "        #Use nn.Linear()\n",
    "        self.linear_layer = nn.Linear(in_features=1, out_features=1)\n",
    "\n",
    "    def forword(self, x: torch.Tensor) -> torch.Tensor:\n",
    "        return self.linear_layer(x)\n",
    "\n",
    "torch.manual_seed(42)\n",
    "model_2 = LinearRegressionModel2()\n",
    "model_2,model_2.state_dict()"
   ],
   "id": "526e69e445e81826",
   "outputs": [
    {
     "data": {
      "text/plain": [
       "(LinearRegressionModel2(\n",
       "   (linear_layer): Linear(in_features=1, out_features=1, bias=True)\n",
       " ),\n",
       " OrderedDict([('linear_layer.weight', tensor([[0.7645]])),\n",
       "              ('linear_layer.bias', tensor([0.8300]))]))"
      ]
     },
     "execution_count": 12,
     "metadata": {},
     "output_type": "execute_result"
    }
   ],
   "execution_count": 12
  },
  {
   "metadata": {
    "ExecuteTime": {
     "end_time": "2025-02-27T13:55:05.379691Z",
     "start_time": "2025-02-27T13:55:05.373706Z"
    }
   },
   "cell_type": "code",
   "source": "next(model_2.parameters()).device",
   "id": "e21f343db53359e8",
   "outputs": [
    {
     "data": {
      "text/plain": [
       "device(type='cuda', index=0)"
      ]
     },
     "execution_count": 26,
     "metadata": {},
     "output_type": "execute_result"
    }
   ],
   "execution_count": 26
  },
  {
   "metadata": {
    "ExecuteTime": {
     "end_time": "2025-02-27T13:55:03.188120Z",
     "start_time": "2025-02-27T13:55:03.181304Z"
    }
   },
   "cell_type": "code",
   "source": [
    "model_2.to(device=torch.device('cuda'))\n",
    "next(model_2.parameters()).device"
   ],
   "id": "ebf29ba1c095c1cd",
   "outputs": [
    {
     "data": {
      "text/plain": [
       "device(type='cuda', index=0)"
      ]
     },
     "execution_count": 25,
     "metadata": {},
     "output_type": "execute_result"
    }
   ],
   "execution_count": 25
  },
  {
   "metadata": {},
   "cell_type": "code",
   "outputs": [],
   "execution_count": null,
   "source": "#Trainig\n",
   "id": "267e3c896b4516ba"
  }
 ],
 "metadata": {
  "kernelspec": {
   "display_name": "Python 3",
   "language": "python",
   "name": "python3"
  },
  "language_info": {
   "codemirror_mode": {
    "name": "ipython",
    "version": 2
   },
   "file_extension": ".py",
   "mimetype": "text/x-python",
   "name": "python",
   "nbconvert_exporter": "python",
   "pygments_lexer": "ipython2",
   "version": "2.7.6"
  }
 },
 "nbformat": 4,
 "nbformat_minor": 5
}
