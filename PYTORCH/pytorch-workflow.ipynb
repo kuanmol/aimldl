{
 "cells": [
  {
   "cell_type": "code",
   "id": "initial_id",
   "metadata": {
    "collapsed": true
   },
   "source": [
    "import numpy as np\n",
    "import torch\n",
    "\n",
    "print(torch.__version__)"
   ],
   "outputs": [],
   "execution_count": null
  },
  {
   "metadata": {},
   "cell_type": "code",
   "source": [
    "weight = 0.7\n",
    "bias = 0.3\n",
    "\n",
    "start = 0\n",
    "end = 1\n",
    "step = 0.02\n",
    "X = torch.arange(start, end, step).unsqueeze(dim=1)\n",
    "Y = weight * X + bias\n",
    "\n",
    "print(len(X), len(Y))\n",
    "X[:10], Y[:10]"
   ],
   "id": "391dfb99589f65ae",
   "outputs": [],
   "execution_count": null
  },
  {
   "metadata": {},
   "cell_type": "code",
   "source": [
    "##Splitting into training and testing\n",
    "train_split = int(0.8 * len(X))\n",
    "X_train, Y_train = X[:train_split], Y[:train_split]\n",
    "X_test, Y_test = X[train_split:], Y[train_split:]\n",
    "\n",
    "len(X_train), len(X_test), len(Y_train), len(Y_test)"
   ],
   "id": "9ebd52079c0e61da",
   "outputs": [],
   "execution_count": null
  },
  {
   "metadata": {
    "ExecuteTime": {
     "end_time": "2025-02-27T14:12:29.461862Z",
     "start_time": "2025-02-27T14:12:29.047677Z"
    }
   },
   "cell_type": "code",
   "source": [
    "import matplotlib.pyplot as plt\n",
    "\n",
    "\n",
    "def plot_prediction(\n",
    "        train_data=X_train,\n",
    "        train_label=Y_train,\n",
    "        test_data=X_test,\n",
    "        test_label=Y_test,\n",
    "        predictions=None):\n",
    "    plt.figure(figsize=(10, 6))\n",
    "    #Plot training data in blue\n",
    "    plt.scatter(train_data, train_label, c=\"b\", s=4, label=\"Training data\")\n",
    "\n",
    "    #Plot testing data in green\n",
    "    plt.scatter(test_data, test_label, c=\"g\", s=4, label=\"Test data\")\n",
    "\n",
    "    if predictions is not None:\n",
    "        plt.scatter(test_data, predictions, c=\"r\", s=4, label=\"Predictions\")\n",
    "\n",
    "    plt.legend(prop={\"size\": 14})\n",
    "    plt.show()\n",
    "\n",
    "\n",
    "plot_prediction();"
   ],
   "id": "b3feade1f0817ea7",
   "outputs": [
    {
     "data": {
      "text/plain": [
       "<Figure size 1000x600 with 1 Axes>"
      ],
      "image/png": "[encoded data removed]"
     },
     "metadata": {},
     "output_type": "display_data"
    }
   ],
   "execution_count": 4
  },
  {
   "metadata": {},
   "cell_type": "markdown",
   "source": "BUILD MODEL",
   "id": "c91f37e00c07ce7f"
  },
  {
   "metadata": {},
   "cell_type": "code",
   "source": [
    "from torch import nn\n",
    "\n",
    "\n",
    "#Create linear regression model class\n",
    "class LinearRegressionModel(nn.Module):\n",
    "    def __init__(self):\n",
    "        super().__init__()\n",
    "        self.weight = nn.Parameter(torch.randn(1, requires_grad=True, dtype=torch.float))\n",
    "        self.bias = nn.Parameter(torch.randn(1, requires_grad=True, dtype=torch.float))\n",
    "\n",
    "    def forward(self, x: torch.Tensor) -> torch.Tensor:\n",
    "        return self.weight * x + self.bias"
   ],
   "id": "46ba89d1cb0845eb",
   "outputs": [],
   "execution_count": null
  },
  {
   "metadata": {},
   "cell_type": "code",
   "source": [
    "#random seed\n",
    "torch.manual_seed(42)\n",
    "\n",
    "#create an instance of the model\n",
    "model_0 = LinearRegressionModel()\n",
    "print(list(model_0.parameters()))\n",
    "model_0.state_dict()"
   ],
   "id": "5b34d5937745d1be",
   "outputs": [],
   "execution_count": null
  },
  {
   "metadata": {},
   "cell_type": "code",
   "source": [
    "with torch.inference_mode():\n",
    "    Y_preds = model_0(X_test)\n",
    "\n",
    "print(Y_preds)\n",
    "plot_prediction(predictions=Y_preds)"
   ],
   "id": "f1cbe6741199b768",
   "outputs": [],
   "execution_count": null
  },
  {
   "metadata": {},
   "cell_type": "code",
   "source": [
    "loss_fn = nn.L1Loss()\n",
    "\n",
    "optimizer = torch.optim.SGD(params=model_0.parameters(), lr=0.01)"
   ],
   "id": "a309288ebd0ca368",
   "outputs": [],
   "execution_count": null
  },
  {
   "metadata": {},
   "cell_type": "code",
   "source": [
    "epochs = 200\n",
    "epochs_counter = []\n",
    "loss_values = []\n",
    "test_loss_values = []\n",
    "\n",
    "for epoch in range(epochs):\n",
    "    model_0.train()\n",
    "\n",
    "Y_preds = model_0(X_train)  # 1 forward pass\n",
    "loss = loss_fn(Y_preds, Y_train)  # 2 calculate the loss\n",
    "optimizer.zero_grad()  # 3 optimizer zero grad\n",
    "loss.backward()  # perform backpropagation on the loss wrt parameter of the model\n",
    "optimizer.step()  # step the optimizer\n",
    "model_0.eval()\n",
    "\n",
    "with torch.inference_mode():\n",
    "    test_preds = model_0(X_test)\n",
    "    test_loss = loss_fn(test_preds, Y_test)\n",
    "\n",
    "if epoch % 10 == 0:\n",
    "    epochs_counter.append(epoch)\n",
    "loss_values.append(loss)\n",
    "test_loss_values.append(test_loss)\n",
    "print(f\"Epoch: {epoch} | Loss: {loss} | Test Loss: {test_loss}\")"
   ],
   "id": "b957150011f7ae57",
   "outputs": [],
   "execution_count": null
  },
  {
   "metadata": {},
   "cell_type": "code",
   "source": [
    "import numpy as np\n",
    "\n",
    "plt.plot(epochs_counter, np.array(torch.tensor(loss_values).numpy()), label=\"Training Loss\")\n",
    "plt.plot(epochs_counter, test_loss_values, label=\"Testing Loss\")\n",
    "plt.title(\"Training and Test Loss\")\n",
    "plt.xlabel(\"Epochs\")\n",
    "plt.ylabel(\"Loss\")\n",
    "plt.legend()"
   ],
   "id": "6d3765dca296e313",
   "outputs": [],
   "execution_count": null
  },
  {
   "metadata": {},
   "cell_type": "code",
   "source": [
    "# Make predictions with model\n",
    "with torch.inference_mode():\n",
    "    y_preds = model_0(X_test)\n",
    "plot_prediction(predictions=y_preds)"
   ],
   "id": "64f3a1ae097c2ad7",
   "outputs": [],
   "execution_count": null
  },
  {
   "metadata": {},
   "cell_type": "code",
   "source": "model_0.state_dict()\n",
   "id": "35d898ac83ffb552",
   "outputs": [],
   "execution_count": null
  },
  {
   "metadata": {},
   "cell_type": "code",
   "source": "",
   "id": "5e13cca78049fcf6",
   "outputs": [],
   "execution_count": null
  },
  {
   "metadata": {},
   "cell_type": "markdown",
   "source": "**Ending**",
   "id": "dd7994246f600eff"
  },
  {
   "metadata": {
    "ExecuteTime": {
     "end_time": "2025-02-27T15:55:27.392198Z",
     "start_time": "2025-02-27T15:55:27.383978Z"
    }
   },
   "cell_type": "code",
   "source": [
    "import torch\n",
    "\n",
    "#Create\n",
    "weight = 71.9\n",
    "bias = 3.3\n",
    "\n",
    "#Create range value\n",
    "start = 0\n",
    "end = 1\n",
    "step = 0.02\n",
    "\n",
    "#Create x and y\n",
    "x = torch.arange(start, end, step).unsqueeze(dim=1)\n",
    "y = weight * x + bias\n",
    "x[:10], y[:10]"
   ],
   "id": "3cb15961f7a1028a",
   "outputs": [
    {
     "data": {
      "text/plain": [
       "(tensor([[0.0000],\n",
       "         [0.0200],\n",
       "         [0.0400],\n",
       "         [0.0600],\n",
       "         [0.0800],\n",
       "         [0.1000],\n",
       "         [0.1200],\n",
       "         [0.1400],\n",
       "         [0.1600],\n",
       "         [0.1800]]),\n",
       " tensor([[ 3.3000],\n",
       "         [ 4.7380],\n",
       "         [ 6.1760],\n",
       "         [ 7.6140],\n",
       "         [ 9.0520],\n",
       "         [10.4900],\n",
       "         [11.9280],\n",
       "         [13.3660],\n",
       "         [14.8040],\n",
       "         [16.2420]]))"
      ]
     },
     "execution_count": 63,
     "metadata": {},
     "output_type": "execute_result"
    }
   ],
   "execution_count": 63
  },
  {
   "metadata": {
    "ExecuteTime": {
     "end_time": "2025-02-27T15:55:29.565780Z",
     "start_time": "2025-02-27T15:55:29.557761Z"
    }
   },
   "cell_type": "code",
   "source": [
    "#Split data\n",
    "train_split = int(0.8 * len(x))\n",
    "X_train, Y_train = x[:train_split], y[:train_split]\n",
    "X_test, Y_test = x[train_split:], y[train_split:]\n",
    "len(X_train), len(X_test), len(Y_train), len(Y_test)"
   ],
   "id": "502e4cdb128ea1ff",
   "outputs": [
    {
     "data": {
      "text/plain": [
       "(40, 10, 40, 10)"
      ]
     },
     "execution_count": 64,
     "metadata": {},
     "output_type": "execute_result"
    }
   ],
   "execution_count": 64
  },
  {
   "metadata": {
    "ExecuteTime": {
     "end_time": "2025-02-27T15:55:31.571861Z",
     "start_time": "2025-02-27T15:55:31.470735Z"
    }
   },
   "cell_type": "code",
   "source": [
    "#Plot data\n",
    "plot_prediction(X_train, Y_train, X_test, Y_test)"
   ],
   "id": "97425dae6f446727",
   "outputs": [
    {
     "data": {
      "text/plain": [
       "<Figure size 1000x600 with 1 Axes>"
      ],
      "image/png": "[encoded data removed]"
     },
     "metadata": {},
     "output_type": "display_data"
    }
   ],
   "execution_count": 65
  },
  {
   "metadata": {
    "ExecuteTime": {
     "end_time": "2025-02-27T15:55:33.930586Z",
     "start_time": "2025-02-27T15:55:33.912622Z"
    }
   },
   "cell_type": "code",
   "source": [
    "#pytorch linear model\n",
    "from torch import nn\n",
    "\n",
    "\n",
    "class LinearRegressionModel2(nn.Module):\n",
    "    def __init__(self):\n",
    "        super().__init__()\n",
    "\n",
    "        #Use nn.Linear()\n",
    "        self.linear_layer = nn.Linear(in_features=1, out_features=1)\n",
    "\n",
    "    def forward(self, x: torch.Tensor) -> torch.Tensor:\n",
    "        return self.linear_layer(x)\n",
    "\n",
    "\n",
    "torch.manual_seed(42)\n",
    "model_2 = LinearRegressionModel2()\n",
    "model_2, model_2.state_dict()"
   ],
   "id": "526e69e445e81826",
   "outputs": [
    {
     "data": {
      "text/plain": [
       "(LinearRegressionModel2(\n",
       "   (linear_layer): Linear(in_features=1, out_features=1, bias=True)\n",
       " ),\n",
       " OrderedDict([('linear_layer.weight', tensor([[0.7645]])),\n",
       "              ('linear_layer.bias', tensor([0.8300]))]))"
      ]
     },
     "execution_count": 66,
     "metadata": {},
     "output_type": "execute_result"
    }
   ],
   "execution_count": 66
  },
  {
   "metadata": {
    "ExecuteTime": {
     "end_time": "2025-02-27T15:55:40.896145Z",
     "start_time": "2025-02-27T15:55:40.888327Z"
    }
   },
   "cell_type": "code",
   "source": "next(model_2.parameters()).device",
   "id": "e21f343db53359e8",
   "outputs": [
    {
     "data": {
      "text/plain": [
       "device(type='cpu')"
      ]
     },
     "execution_count": 67,
     "metadata": {},
     "output_type": "execute_result"
    }
   ],
   "execution_count": 67
  },
  {
   "metadata": {
    "ExecuteTime": {
     "end_time": "2025-02-27T15:55:45.320289Z",
     "start_time": "2025-02-27T15:55:45.314988Z"
    }
   },
   "cell_type": "code",
   "source": [
    "model_2.to(device=torch.device('cuda'))\n",
    "next(model_2.parameters()).device"
   ],
   "id": "ebf29ba1c095c1cd",
   "outputs": [
    {
     "data": {
      "text/plain": [
       "device(type='cuda', index=0)"
      ]
     },
     "execution_count": 68,
     "metadata": {},
     "output_type": "execute_result"
    }
   ],
   "execution_count": 68
  },
  {
   "metadata": {
    "ExecuteTime": {
     "end_time": "2025-02-27T15:55:53.665964Z",
     "start_time": "2025-02-27T15:55:48.072898Z"
    }
   },
   "cell_type": "code",
   "source": [
    "#Trainig\n",
    "loss_fn = nn.L1Loss()\n",
    "optimizer = torch.optim.SGD(params=model_2.parameters(), lr=0.1)\n",
    "\n",
    "torch.manual_seed(42)\n",
    "epochs = 6000\n",
    "X_train = X_train.to('cuda')\n",
    "Y_train = Y_train.to('cuda')\n",
    "X_test = X_test.to('cuda')\n",
    "Y_test = Y_test.to('cuda')\n",
    "\n",
    "for epoch in range(epochs):\n",
    "    model_2.train()\n",
    "    y_pred = model_2(X_train)\n",
    "    loss = loss_fn(y_pred, Y_train)\n",
    "    optimizer.zero_grad()\n",
    "    loss.backward()\n",
    "    optimizer.step()\n",
    "    model_2.eval()\n",
    "    with torch.inference_mode():\n",
    "        test_pred = model_2(X_test)\n",
    "        test_loss = loss_fn(test_pred, Y_test)\n",
    "\n",
    "    if epoch % 10 == 0:\n",
    "        print(f\"Epoch: {epoch} | Loss: {loss} | Test Loss: {test_loss}\")\n"
   ],
   "id": "267e3c896b4516ba",
   "outputs": [
    {
     "name": "stdout",
     "output_type": "stream",
     "text": [
      "Epoch: 0 | Loss: 30.21282386779785 | Test Loss: 65.64584350585938\n",
      "Epoch: 10 | Loss: 29.06072425842285 | Test Loss: 64.29875183105469\n",
      "Epoch: 20 | Loss: 27.90862464904785 | Test Loss: 62.9516487121582\n",
      "Epoch: 30 | Loss: 26.806772232055664 | Test Loss: 61.63454818725586\n",
      "Epoch: 40 | Loss: 25.755346298217773 | Test Loss: 60.3425407409668\n",
      "Epoch: 50 | Loss: 24.79402732849121 | Test Loss: 59.0963249206543\n",
      "Epoch: 60 | Loss: 23.879499435424805 | Test Loss: 57.88118362426758\n",
      "Epoch: 70 | Loss: 23.007226943969727 | Test Loss: 56.6867561340332\n",
      "Epoch: 80 | Loss: 22.21442222595215 | Test Loss: 55.54499435424805\n",
      "Epoch: 90 | Loss: 21.452350616455078 | Test Loss: 54.424659729003906\n",
      "Epoch: 100 | Loss: 20.745452880859375 | Test Loss: 53.336456298828125\n",
      "Epoch: 110 | Loss: 20.084758758544922 | Test Loss: 52.286376953125\n",
      "Epoch: 120 | Loss: 19.45413589477539 | Test Loss: 51.25263595581055\n",
      "Epoch: 130 | Loss: 18.881460189819336 | Test Loss: 50.26869201660156\n",
      "Epoch: 140 | Loss: 18.32280158996582 | Test Loss: 49.290283203125\n",
      "Epoch: 150 | Loss: 17.825590133666992 | Test Loss: 48.368099212646484\n",
      "Epoch: 160 | Loss: 17.334543228149414 | Test Loss: 47.44591522216797\n",
      "Epoch: 170 | Loss: 16.901052474975586 | Test Loss: 46.58085250854492\n",
      "Epoch: 180 | Loss: 16.473236083984375 | Test Loss: 45.715789794921875\n",
      "Epoch: 190 | Loss: 16.092533111572266 | Test Loss: 44.90293502807617\n",
      "Epoch: 200 | Loss: 15.72350788116455 | Test Loss: 44.09588623046875\n",
      "Epoch: 210 | Loss: 15.382878303527832 | Test Loss: 43.32417297363281\n",
      "Epoch: 220 | Loss: 15.068155288696289 | Test Loss: 42.576026916503906\n",
      "Epoch: 230 | Loss: 14.759017944335938 | Test Loss: 41.8398323059082\n",
      "Epoch: 240 | Loss: 14.494040489196777 | Test Loss: 41.15146255493164\n",
      "Epoch: 250 | Loss: 14.229059219360352 | Test Loss: 40.46309280395508\n",
      "Epoch: 260 | Loss: 13.986701011657715 | Test Loss: 39.811134338378906\n",
      "Epoch: 270 | Loss: 13.76685619354248 | Test Loss: 39.18345260620117\n",
      "Epoch: 280 | Loss: 13.547012329101562 | Test Loss: 38.55577087402344\n",
      "Epoch: 290 | Loss: 13.35216999053955 | Test Loss: 37.971187591552734\n",
      "Epoch: 300 | Loss: 13.172767639160156 | Test Loss: 37.40507125854492\n",
      "Epoch: 310 | Loss: 12.993367195129395 | Test Loss: 36.838958740234375\n",
      "Epoch: 320 | Loss: 12.829446792602539 | Test Loss: 36.30408477783203\n",
      "Epoch: 330 | Loss: 12.685723304748535 | Test Loss: 35.80044174194336\n",
      "Epoch: 340 | Loss: 12.542000770568848 | Test Loss: 35.29679870605469\n",
      "Epoch: 350 | Loss: 12.398277282714844 | Test Loss: 34.79315185546875\n",
      "Epoch: 360 | Loss: 12.280842781066895 | Test Loss: 34.34650802612305\n",
      "Epoch: 370 | Loss: 12.167941093444824 | Test Loss: 33.90620422363281\n",
      "Epoch: 380 | Loss: 12.055037498474121 | Test Loss: 33.46589279174805\n",
      "Epoch: 390 | Loss: 11.94213581085205 | Test Loss: 33.02558517456055\n",
      "Epoch: 400 | Loss: 11.848758697509766 | Test Loss: 32.63668441772461\n",
      "Epoch: 410 | Loss: 11.761741638183594 | Test Loss: 32.26062774658203\n",
      "Epoch: 420 | Loss: 11.674727439880371 | Test Loss: 31.884571075439453\n",
      "Epoch: 430 | Loss: 11.5877103805542 | Test Loss: 31.508514404296875\n",
      "Epoch: 440 | Loss: 11.500696182250977 | Test Loss: 31.13245964050293\n",
      "Epoch: 450 | Loss: 11.43273639678955 | Test Loss: 30.8215274810791\n",
      "Epoch: 460 | Loss: 11.366568565368652 | Test Loss: 30.51059913635254\n",
      "Epoch: 470 | Loss: 11.300399780273438 | Test Loss: 30.199670791625977\n",
      "Epoch: 480 | Loss: 11.23422908782959 | Test Loss: 29.88873291015625\n",
      "Epoch: 490 | Loss: 11.168057441711426 | Test Loss: 29.57779312133789\n",
      "Epoch: 500 | Loss: 11.101886749267578 | Test Loss: 29.2668514251709\n",
      "Epoch: 510 | Loss: 11.048486709594727 | Test Loss: 29.015348434448242\n",
      "Epoch: 520 | Loss: 10.998025894165039 | Test Loss: 28.770444869995117\n",
      "Epoch: 530 | Loss: 10.947565078735352 | Test Loss: 28.525541305541992\n",
      "Epoch: 540 | Loss: 10.897102355957031 | Test Loss: 28.280637741088867\n",
      "Epoch: 550 | Loss: 10.84664249420166 | Test Loss: 28.035736083984375\n",
      "Epoch: 560 | Loss: 10.796180725097656 | Test Loss: 27.79083251953125\n",
      "Epoch: 570 | Loss: 10.745720863342285 | Test Loss: 27.545928955078125\n",
      "Epoch: 580 | Loss: 10.695259094238281 | Test Loss: 27.301025390625\n",
      "Epoch: 590 | Loss: 10.650343894958496 | Test Loss: 27.096261978149414\n",
      "Epoch: 600 | Loss: 10.610342979431152 | Test Loss: 26.918256759643555\n",
      "Epoch: 610 | Loss: 10.570343017578125 | Test Loss: 26.740253448486328\n",
      "Epoch: 620 | Loss: 10.530341148376465 | Test Loss: 26.5622501373291\n",
      "Epoch: 630 | Loss: 10.490340232849121 | Test Loss: 26.384246826171875\n",
      "Epoch: 640 | Loss: 10.450339317321777 | Test Loss: 26.206241607666016\n",
      "Epoch: 650 | Loss: 10.41033935546875 | Test Loss: 26.028234481811523\n",
      "Epoch: 660 | Loss: 10.370338439941406 | Test Loss: 25.85023307800293\n",
      "Epoch: 670 | Loss: 10.330336570739746 | Test Loss: 25.672229766845703\n",
      "Epoch: 680 | Loss: 10.290336608886719 | Test Loss: 25.494226455688477\n",
      "Epoch: 690 | Loss: 10.250334739685059 | Test Loss: 25.316221237182617\n",
      "Epoch: 700 | Loss: 10.210333824157715 | Test Loss: 25.138216018676758\n",
      "Epoch: 710 | Loss: 10.170333862304688 | Test Loss: 24.9602108001709\n",
      "Epoch: 720 | Loss: 10.131518363952637 | Test Loss: 24.802547454833984\n",
      "Epoch: 730 | Loss: 10.096619606018066 | Test Loss: 24.69234275817871\n",
      "Epoch: 740 | Loss: 10.06171989440918 | Test Loss: 24.582138061523438\n",
      "Epoch: 750 | Loss: 10.026820182800293 | Test Loss: 24.471933364868164\n",
      "Epoch: 760 | Loss: 9.991922378540039 | Test Loss: 24.361726760864258\n",
      "Epoch: 770 | Loss: 9.957022666931152 | Test Loss: 24.251523971557617\n",
      "Epoch: 780 | Loss: 9.922124862670898 | Test Loss: 24.141315460205078\n",
      "Epoch: 790 | Loss: 9.887225151062012 | Test Loss: 24.031110763549805\n",
      "Epoch: 800 | Loss: 9.852327346801758 | Test Loss: 23.9209041595459\n",
      "Epoch: 810 | Loss: 9.817427635192871 | Test Loss: 23.810699462890625\n",
      "Epoch: 820 | Loss: 9.7825288772583 | Test Loss: 23.700496673583984\n",
      "Epoch: 830 | Loss: 9.74763011932373 | Test Loss: 23.59029197692871\n",
      "Epoch: 840 | Loss: 9.712730407714844 | Test Loss: 23.480085372924805\n",
      "Epoch: 850 | Loss: 9.67783260345459 | Test Loss: 23.36988067626953\n",
      "Epoch: 860 | Loss: 9.642931938171387 | Test Loss: 23.259674072265625\n",
      "Epoch: 870 | Loss: 9.608034133911133 | Test Loss: 23.14946937561035\n",
      "Epoch: 880 | Loss: 9.573135375976562 | Test Loss: 23.039264678955078\n",
      "Epoch: 890 | Loss: 9.538236618041992 | Test Loss: 22.929059982299805\n",
      "Epoch: 900 | Loss: 9.503336906433105 | Test Loss: 22.8188533782959\n",
      "Epoch: 910 | Loss: 9.468438148498535 | Test Loss: 22.708648681640625\n",
      "Epoch: 920 | Loss: 9.433539390563965 | Test Loss: 22.59844207763672\n",
      "Epoch: 930 | Loss: 9.398639678955078 | Test Loss: 22.488235473632812\n",
      "Epoch: 940 | Loss: 9.363741874694824 | Test Loss: 22.378032684326172\n",
      "Epoch: 950 | Loss: 9.328842163085938 | Test Loss: 22.2678279876709\n",
      "Epoch: 960 | Loss: 9.293944358825684 | Test Loss: 22.157621383666992\n",
      "Epoch: 970 | Loss: 9.25904369354248 | Test Loss: 22.047414779663086\n",
      "Epoch: 980 | Loss: 9.224145889282227 | Test Loss: 21.937210083007812\n",
      "Epoch: 990 | Loss: 9.18924617767334 | Test Loss: 21.827007293701172\n",
      "Epoch: 1000 | Loss: 9.15434741973877 | Test Loss: 21.716800689697266\n",
      "Epoch: 1010 | Loss: 9.1194486618042 | Test Loss: 21.606595993041992\n",
      "Epoch: 1020 | Loss: 9.084549903869629 | Test Loss: 21.496389389038086\n",
      "Epoch: 1030 | Loss: 9.049651145935059 | Test Loss: 21.386184692382812\n",
      "Epoch: 1040 | Loss: 9.014751434326172 | Test Loss: 21.27597999572754\n",
      "Epoch: 1050 | Loss: 8.979852676391602 | Test Loss: 21.165775299072266\n",
      "Epoch: 1060 | Loss: 8.944953918457031 | Test Loss: 21.055570602416992\n",
      "Epoch: 1070 | Loss: 8.910054206848145 | Test Loss: 20.945363998413086\n",
      "Epoch: 1080 | Loss: 8.87515640258789 | Test Loss: 20.835159301757812\n",
      "Epoch: 1090 | Loss: 8.84025764465332 | Test Loss: 20.724952697753906\n",
      "Epoch: 1100 | Loss: 8.805357933044434 | Test Loss: 20.61474609375\n",
      "Epoch: 1110 | Loss: 8.770459175109863 | Test Loss: 20.50454330444336\n",
      "Epoch: 1120 | Loss: 8.736004829406738 | Test Loss: 20.421817779541016\n",
      "Epoch: 1130 | Loss: 8.701684951782227 | Test Loss: 20.339094161987305\n",
      "Epoch: 1140 | Loss: 8.66729736328125 | Test Loss: 20.256366729736328\n",
      "Epoch: 1150 | Loss: 8.632988929748535 | Test Loss: 20.180511474609375\n",
      "Epoch: 1160 | Loss: 8.598650932312012 | Test Loss: 20.097787857055664\n",
      "Epoch: 1170 | Loss: 8.564264297485352 | Test Loss: 20.01506233215332\n",
      "Epoch: 1180 | Loss: 8.529972076416016 | Test Loss: 19.939207077026367\n",
      "Epoch: 1190 | Loss: 8.495617866516113 | Test Loss: 19.856481552124023\n",
      "Epoch: 1200 | Loss: 8.461238861083984 | Test Loss: 19.780628204345703\n",
      "Epoch: 1210 | Loss: 8.426955223083496 | Test Loss: 19.69790267944336\n",
      "Epoch: 1220 | Loss: 8.392584800720215 | Test Loss: 19.61517906188965\n",
      "Epoch: 1230 | Loss: 8.358222961425781 | Test Loss: 19.539321899414062\n",
      "Epoch: 1240 | Loss: 8.323938369750977 | Test Loss: 19.45659828186035\n",
      "Epoch: 1250 | Loss: 8.28955078125 | Test Loss: 19.373870849609375\n",
      "Epoch: 1260 | Loss: 8.255206108093262 | Test Loss: 19.298017501831055\n",
      "Epoch: 1270 | Loss: 8.220904350280762 | Test Loss: 19.21529197692871\n",
      "Epoch: 1280 | Loss: 8.186516761779785 | Test Loss: 19.132568359375\n",
      "Epoch: 1290 | Loss: 8.152190208435059 | Test Loss: 19.056713104248047\n",
      "Epoch: 1300 | Loss: 8.117870330810547 | Test Loss: 18.973987579345703\n",
      "Epoch: 1310 | Loss: 8.083483695983887 | Test Loss: 18.891263961791992\n",
      "Epoch: 1320 | Loss: 8.049173355102539 | Test Loss: 18.815406799316406\n",
      "Epoch: 1330 | Loss: 8.014838218688965 | Test Loss: 18.73267936706543\n",
      "Epoch: 1340 | Loss: 7.980447292327881 | Test Loss: 18.649946212768555\n",
      "Epoch: 1350 | Loss: 7.946153163909912 | Test Loss: 18.574081420898438\n",
      "Epoch: 1360 | Loss: 7.911798000335693 | Test Loss: 18.49134635925293\n",
      "Epoch: 1370 | Loss: 7.877416133880615 | Test Loss: 18.415481567382812\n",
      "Epoch: 1380 | Loss: 7.843130588531494 | Test Loss: 18.332748413085938\n",
      "Epoch: 1390 | Loss: 7.808758735656738 | Test Loss: 18.25001335144043\n",
      "Epoch: 1400 | Loss: 7.774394512176514 | Test Loss: 18.174148559570312\n",
      "Epoch: 1410 | Loss: 7.740108013153076 | Test Loss: 18.091413497924805\n",
      "Epoch: 1420 | Loss: 7.705718994140625 | Test Loss: 18.008678436279297\n",
      "Epoch: 1430 | Loss: 7.671372890472412 | Test Loss: 17.932815551757812\n",
      "Epoch: 1440 | Loss: 7.637068271636963 | Test Loss: 17.850080490112305\n",
      "Epoch: 1450 | Loss: 7.60267972946167 | Test Loss: 17.767345428466797\n",
      "Epoch: 1460 | Loss: 7.568351745605469 | Test Loss: 17.691482543945312\n",
      "Epoch: 1470 | Loss: 7.53402853012085 | Test Loss: 17.608747482299805\n",
      "Epoch: 1480 | Loss: 7.499639987945557 | Test Loss: 17.526010513305664\n",
      "Epoch: 1490 | Loss: 7.465329647064209 | Test Loss: 17.45014762878418\n",
      "Epoch: 1500 | Loss: 7.430989742279053 | Test Loss: 17.367412567138672\n",
      "Epoch: 1510 | Loss: 7.396600246429443 | Test Loss: 17.284677505493164\n",
      "Epoch: 1520 | Loss: 7.362308025360107 | Test Loss: 17.20881462097168\n",
      "Epoch: 1530 | Loss: 7.327950477600098 | Test Loss: 17.126079559326172\n",
      "Epoch: 1540 | Loss: 7.293571472167969 | Test Loss: 17.050214767456055\n",
      "Epoch: 1550 | Loss: 7.259286403656006 | Test Loss: 16.96748161315918\n",
      "Epoch: 1560 | Loss: 7.224911689758301 | Test Loss: 16.88474464416504\n",
      "Epoch: 1570 | Loss: 7.190550327301025 | Test Loss: 16.808881759643555\n",
      "Epoch: 1580 | Loss: 7.156261444091797 | Test Loss: 16.726144790649414\n",
      "Epoch: 1590 | Loss: 7.1218719482421875 | Test Loss: 16.64341163635254\n",
      "Epoch: 1600 | Loss: 7.087528228759766 | Test Loss: 16.567546844482422\n",
      "Epoch: 1610 | Loss: 7.053221225738525 | Test Loss: 16.484811782836914\n",
      "Epoch: 1620 | Loss: 7.018832683563232 | Test Loss: 16.402076721191406\n",
      "Epoch: 1630 | Loss: 6.984506130218506 | Test Loss: 16.326213836669922\n",
      "Epoch: 1640 | Loss: 6.9501824378967285 | Test Loss: 16.243478775024414\n",
      "Epoch: 1650 | Loss: 6.915792942047119 | Test Loss: 16.160741806030273\n",
      "Epoch: 1660 | Loss: 6.8814849853515625 | Test Loss: 16.08487892150879\n",
      "Epoch: 1670 | Loss: 6.847142219543457 | Test Loss: 16.00214385986328\n",
      "Epoch: 1680 | Loss: 6.812753200531006 | Test Loss: 15.919407844543457\n",
      "Epoch: 1690 | Loss: 6.778462886810303 | Test Loss: 15.843545913696289\n",
      "Epoch: 1700 | Loss: 6.744103908538818 | Test Loss: 15.760809898376465\n",
      "Epoch: 1710 | Loss: 6.709727764129639 | Test Loss: 15.68494701385498\n",
      "Epoch: 1720 | Loss: 6.675441741943359 | Test Loss: 15.602210998535156\n",
      "Epoch: 1730 | Loss: 6.641063690185547 | Test Loss: 15.519476890563965\n",
      "Epoch: 1740 | Loss: 6.6067047119140625 | Test Loss: 15.443613052368164\n",
      "Epoch: 1750 | Loss: 6.572413921356201 | Test Loss: 15.360877990722656\n",
      "Epoch: 1760 | Loss: 6.53802490234375 | Test Loss: 15.278141975402832\n",
      "Epoch: 1770 | Loss: 6.503683567047119 | Test Loss: 15.202280044555664\n",
      "Epoch: 1780 | Loss: 6.469375133514404 | Test Loss: 15.11954402923584\n",
      "Epoch: 1790 | Loss: 6.435030460357666 | Test Loss: 15.040246963500977\n",
      "Epoch: 1800 | Loss: 6.400660991668701 | Test Loss: 14.957510948181152\n",
      "Epoch: 1810 | Loss: 6.366293907165527 | Test Loss: 14.881648063659668\n",
      "Epoch: 1820 | Loss: 6.332008361816406 | Test Loss: 14.798912048339844\n",
      "Epoch: 1830 | Loss: 6.297621250152588 | Test Loss: 14.716177940368652\n",
      "Epoch: 1840 | Loss: 6.263272285461426 | Test Loss: 14.640314102172852\n",
      "Epoch: 1850 | Loss: 6.228971004486084 | Test Loss: 14.557578086853027\n",
      "Epoch: 1860 | Loss: 6.194581508636475 | Test Loss: 14.474844932556152\n",
      "Epoch: 1870 | Loss: 6.160250663757324 | Test Loss: 14.398981094360352\n",
      "Epoch: 1880 | Loss: 6.125931739807129 | Test Loss: 14.316246032714844\n",
      "Epoch: 1890 | Loss: 6.091542720794678 | Test Loss: 14.23351001739502\n",
      "Epoch: 1900 | Loss: 6.0572285652160645 | Test Loss: 14.157649040222168\n",
      "Epoch: 1910 | Loss: 6.022891998291016 | Test Loss: 14.074920654296875\n",
      "Epoch: 1920 | Loss: 5.988502025604248 | Test Loss: 13.99219036102295\n",
      "Epoch: 1930 | Loss: 5.954205513000488 | Test Loss: 13.91633129119873\n",
      "Epoch: 1940 | Loss: 5.919850826263428 | Test Loss: 13.833602905273438\n",
      "Epoch: 1950 | Loss: 5.885468006134033 | Test Loss: 13.757743835449219\n",
      "Epoch: 1960 | Loss: 5.851181983947754 | Test Loss: 13.675013542175293\n",
      "Epoch: 1970 | Loss: 5.8168110847473145 | Test Loss: 13.592284202575684\n",
      "Epoch: 1980 | Loss: 5.782444953918457 | Test Loss: 13.516426086425781\n",
      "Epoch: 1990 | Loss: 5.7481584548950195 | Test Loss: 13.433695793151855\n",
      "Epoch: 2000 | Loss: 5.713771343231201 | Test Loss: 13.350967407226562\n",
      "Epoch: 2010 | Loss: 5.679420471191406 | Test Loss: 13.275108337402344\n",
      "Epoch: 2020 | Loss: 5.645120143890381 | Test Loss: 13.19237995147705\n",
      "Epoch: 2030 | Loss: 5.6107306480407715 | Test Loss: 13.109649658203125\n",
      "Epoch: 2040 | Loss: 5.576397895812988 | Test Loss: 13.033792495727539\n",
      "Epoch: 2050 | Loss: 5.542079925537109 | Test Loss: 12.951062202453613\n",
      "Epoch: 2060 | Loss: 5.507690906524658 | Test Loss: 12.868331909179688\n",
      "Epoch: 2070 | Loss: 5.473374843597412 | Test Loss: 12.792472839355469\n",
      "Epoch: 2080 | Loss: 5.439039707183838 | Test Loss: 12.709742546081543\n",
      "Epoch: 2090 | Loss: 5.4046502113342285 | Test Loss: 12.62701416015625\n",
      "Epoch: 2100 | Loss: 5.370351314544678 | Test Loss: 12.551155090332031\n",
      "Epoch: 2110 | Loss: 5.335999488830566 | Test Loss: 12.468425750732422\n",
      "Epoch: 2120 | Loss: 5.301614284515381 | Test Loss: 12.39256763458252\n",
      "Epoch: 2130 | Loss: 5.267328262329102 | Test Loss: 12.309837341308594\n",
      "Epoch: 2140 | Loss: 5.232959270477295 | Test Loss: 12.227107048034668\n",
      "Epoch: 2150 | Loss: 5.1985907554626465 | Test Loss: 12.151249885559082\n",
      "Epoch: 2160 | Loss: 5.164304256439209 | Test Loss: 12.068519592285156\n",
      "Epoch: 2170 | Loss: 5.129919528961182 | Test Loss: 11.985791206359863\n",
      "Epoch: 2180 | Loss: 5.095567226409912 | Test Loss: 11.909931182861328\n",
      "Epoch: 2190 | Loss: 5.0612688064575195 | Test Loss: 11.827203750610352\n",
      "Epoch: 2200 | Loss: 5.026878356933594 | Test Loss: 11.744473457336426\n",
      "Epoch: 2210 | Loss: 4.992544174194336 | Test Loss: 11.668614387512207\n",
      "Epoch: 2220 | Loss: 4.958228588104248 | Test Loss: 11.585884094238281\n",
      "Epoch: 2230 | Loss: 4.923839092254639 | Test Loss: 11.503153800964355\n",
      "Epoch: 2240 | Loss: 4.889520645141602 | Test Loss: 11.42729663848877\n",
      "Epoch: 2250 | Loss: 4.855187892913818 | Test Loss: 11.34456729888916\n",
      "Epoch: 2260 | Loss: 4.820798397064209 | Test Loss: 11.26183795928955\n",
      "Epoch: 2270 | Loss: 4.786497592926025 | Test Loss: 11.185978889465332\n",
      "Epoch: 2280 | Loss: 4.752148151397705 | Test Loss: 11.103248596191406\n",
      "Epoch: 2290 | Loss: 4.71776008605957 | Test Loss: 11.02739143371582\n",
      "Epoch: 2300 | Loss: 4.683474063873291 | Test Loss: 10.944662094116211\n",
      "Epoch: 2310 | Loss: 4.649107933044434 | Test Loss: 10.861931800842285\n",
      "Epoch: 2320 | Loss: 4.614737033843994 | Test Loss: 10.786072731018066\n",
      "Epoch: 2330 | Loss: 4.580451011657715 | Test Loss: 10.703343391418457\n",
      "Epoch: 2340 | Loss: 4.546067714691162 | Test Loss: 10.620614051818848\n",
      "Epoch: 2350 | Loss: 4.51171350479126 | Test Loss: 10.544755935668945\n",
      "Epoch: 2360 | Loss: 4.477416515350342 | Test Loss: 10.462026596069336\n",
      "Epoch: 2370 | Loss: 4.443027496337891 | Test Loss: 10.379297256469727\n",
      "Epoch: 2380 | Loss: 4.408690452575684 | Test Loss: 10.303438186645508\n",
      "Epoch: 2390 | Loss: 4.37437629699707 | Test Loss: 10.220707893371582\n",
      "Epoch: 2400 | Loss: 4.339987277984619 | Test Loss: 10.137978553771973\n",
      "Epoch: 2410 | Loss: 4.305667400360107 | Test Loss: 10.06212043762207\n",
      "Epoch: 2420 | Loss: 4.271337032318115 | Test Loss: 9.979391098022461\n",
      "Epoch: 2430 | Loss: 4.2369465827941895 | Test Loss: 9.896661758422852\n",
      "Epoch: 2440 | Loss: 4.202643394470215 | Test Loss: 9.820802688598633\n",
      "Epoch: 2450 | Loss: 4.1682963371276855 | Test Loss: 9.738072395324707\n",
      "Epoch: 2460 | Loss: 4.133906841278076 | Test Loss: 9.655343055725098\n",
      "Epoch: 2470 | Loss: 4.099620342254639 | Test Loss: 9.579484939575195\n",
      "Epoch: 2480 | Loss: 4.065256118774414 | Test Loss: 9.496755599975586\n",
      "Epoch: 2490 | Loss: 4.030883312225342 | Test Loss: 9.420896530151367\n",
      "Epoch: 2500 | Loss: 3.9965970516204834 | Test Loss: 9.338167190551758\n",
      "Epoch: 2510 | Loss: 3.9622154235839844 | Test Loss: 9.255437850952148\n",
      "Epoch: 2520 | Loss: 3.9278595447540283 | Test Loss: 9.179579734802246\n",
      "Epoch: 2530 | Loss: 3.8935647010803223 | Test Loss: 9.09684944152832\n",
      "Epoch: 2540 | Loss: 3.85917592048645 | Test Loss: 9.014120101928711\n",
      "Epoch: 2550 | Loss: 3.824836015701294 | Test Loss: 8.938261985778809\n",
      "Epoch: 2560 | Loss: 3.790525197982788 | Test Loss: 8.855531692504883\n",
      "Epoch: 2570 | Loss: 3.7561357021331787 | Test Loss: 8.772802352905273\n",
      "Epoch: 2580 | Loss: 3.7218129634857178 | Test Loss: 8.696943283081055\n",
      "Epoch: 2590 | Loss: 3.6874847412109375 | Test Loss: 8.614213943481445\n",
      "Epoch: 2600 | Loss: 3.653095006942749 | Test Loss: 8.531484603881836\n",
      "Epoch: 2610 | Loss: 3.6187896728515625 | Test Loss: 8.455625534057617\n",
      "Epoch: 2620 | Loss: 3.584444522857666 | Test Loss: 8.372896194458008\n",
      "Epoch: 2630 | Loss: 3.5500550270080566 | Test Loss: 8.290166854858398\n",
      "Epoch: 2640 | Loss: 3.5157666206359863 | Test Loss: 8.214308738708496\n",
      "Epoch: 2650 | Loss: 3.4814045429229736 | Test Loss: 8.13157844543457\n",
      "Epoch: 2660 | Loss: 3.4470291137695312 | Test Loss: 8.055719375610352\n",
      "Epoch: 2670 | Loss: 3.4127426147460938 | Test Loss: 7.9729905128479\n",
      "Epoch: 2680 | Loss: 3.378363847732544 | Test Loss: 7.890260219573975\n",
      "Epoch: 2690 | Loss: 3.3440053462982178 | Test Loss: 7.814402103424072\n",
      "Epoch: 2700 | Loss: 3.309713363647461 | Test Loss: 7.7316718101501465\n",
      "Epoch: 2710 | Loss: 3.2753243446350098 | Test Loss: 7.648942470550537\n",
      "Epoch: 2720 | Loss: 3.2409825325012207 | Test Loss: 7.573085308074951\n",
      "Epoch: 2730 | Loss: 3.2066733837127686 | Test Loss: 7.490355014801025\n",
      "Epoch: 2740 | Loss: 3.172283887863159 | Test Loss: 7.407625675201416\n",
      "Epoch: 2750 | Loss: 3.1379587650299072 | Test Loss: 7.331767559051514\n",
      "Epoch: 2760 | Loss: 3.103633165359497 | Test Loss: 7.249037265777588\n",
      "Epoch: 2770 | Loss: 3.0692436695098877 | Test Loss: 7.166306972503662\n",
      "Epoch: 2780 | Loss: 3.034935712814331 | Test Loss: 7.090449810028076\n",
      "Epoch: 2790 | Loss: 3.0005929470062256 | Test Loss: 7.00771951675415\n",
      "Epoch: 2800 | Loss: 2.966203451156616 | Test Loss: 6.924989223480225\n",
      "Epoch: 2810 | Loss: 2.931912660598755 | Test Loss: 6.849132061004639\n",
      "Epoch: 2820 | Loss: 2.897552490234375 | Test Loss: 6.7664031982421875\n",
      "Epoch: 2830 | Loss: 2.8631751537323 | Test Loss: 6.6905436515808105\n",
      "Epoch: 2840 | Loss: 2.8288891315460205 | Test Loss: 6.607814311981201\n",
      "Epoch: 2850 | Loss: 2.7945125102996826 | Test Loss: 6.525084018707275\n",
      "Epoch: 2860 | Loss: 2.7601516246795654 | Test Loss: 6.449224948883057\n",
      "Epoch: 2870 | Loss: 2.7258617877960205 | Test Loss: 6.3664960861206055\n",
      "Epoch: 2880 | Loss: 2.6914725303649902 | Test Loss: 6.283766269683838\n",
      "Epoch: 2890 | Loss: 2.65712833404541 | Test Loss: 6.207906723022461\n",
      "Epoch: 2900 | Loss: 2.622821569442749 | Test Loss: 6.125178337097168\n",
      "Epoch: 2910 | Loss: 2.5884320735931396 | Test Loss: 6.042448997497559\n",
      "Epoch: 2920 | Loss: 2.554105043411255 | Test Loss: 5.96658992767334\n",
      "Epoch: 2930 | Loss: 2.5197815895080566 | Test Loss: 5.8838605880737305\n",
      "Epoch: 2940 | Loss: 2.485391855239868 | Test Loss: 5.8011322021484375\n",
      "Epoch: 2950 | Loss: 2.4510819911956787 | Test Loss: 5.7252726554870605\n",
      "Epoch: 2960 | Loss: 2.416741132736206 | Test Loss: 5.642542362213135\n",
      "Epoch: 2970 | Loss: 2.3823516368865967 | Test Loss: 5.559813022613525\n",
      "Epoch: 2980 | Loss: 2.3480584621429443 | Test Loss: 5.483954906463623\n",
      "Epoch: 2990 | Loss: 2.3137009143829346 | Test Loss: 5.401224613189697\n",
      "Epoch: 3000 | Loss: 2.2793214321136475 | Test Loss: 5.325366497039795\n",
      "Epoch: 3010 | Loss: 2.245035171508789 | Test Loss: 5.242636203765869\n",
      "Epoch: 3020 | Loss: 2.210660696029663 | Test Loss: 5.159907817840576\n",
      "Epoch: 3030 | Loss: 2.176297664642334 | Test Loss: 5.084048748016357\n",
      "Epoch: 3040 | Loss: 2.142009973526001 | Test Loss: 5.001319408416748\n",
      "Epoch: 3050 | Loss: 2.1076202392578125 | Test Loss: 4.9185895919799805\n",
      "Epoch: 3060 | Loss: 2.0732743740081787 | Test Loss: 4.842731475830078\n",
      "Epoch: 3070 | Loss: 2.0389697551727295 | Test Loss: 4.760002136230469\n",
      "Epoch: 3080 | Loss: 2.00458025932312 | Test Loss: 4.677272319793701\n",
      "Epoch: 3090 | Loss: 1.9702510833740234 | Test Loss: 4.601413249969482\n",
      "Epoch: 3100 | Loss: 1.935929536819458 | Test Loss: 4.518684387207031\n",
      "Epoch: 3110 | Loss: 1.9015400409698486 | Test Loss: 4.435954570770264\n",
      "Epoch: 3120 | Loss: 1.8672277927398682 | Test Loss: 4.360095977783203\n",
      "Epoch: 3130 | Loss: 1.832889199256897 | Test Loss: 4.2773661613464355\n",
      "Epoch: 3140 | Loss: 1.7984997034072876 | Test Loss: 4.194636821746826\n",
      "Epoch: 3150 | Loss: 1.7642043828964233 | Test Loss: 4.118778705596924\n",
      "Epoch: 3160 | Loss: 1.7298492193222046 | Test Loss: 4.036048412322998\n",
      "Epoch: 3170 | Loss: 1.695467233657837 | Test Loss: 3.960191011428833\n",
      "Epoch: 3180 | Loss: 1.6611814498901367 | Test Loss: 3.877460479736328\n",
      "Epoch: 3190 | Loss: 1.6268091201782227 | Test Loss: 3.794731855392456\n",
      "Epoch: 3200 | Loss: 1.592443823814392 | Test Loss: 3.7188732624053955\n",
      "Epoch: 3210 | Loss: 1.558161735534668 | Test Loss: 3.636162519454956\n",
      "Epoch: 3220 | Loss: 1.5237761735916138 | Test Loss: 3.5534539222717285\n",
      "Epoch: 3230 | Loss: 1.4894307851791382 | Test Loss: 3.4776127338409424\n",
      "Epoch: 3240 | Loss: 1.4551331996917725 | Test Loss: 3.3949029445648193\n",
      "Epoch: 3250 | Loss: 1.4207477569580078 | Test Loss: 3.3121933937072754\n",
      "Epoch: 3260 | Loss: 1.3864179849624634 | Test Loss: 3.236351728439331\n",
      "Epoch: 3270 | Loss: 1.3521045446395874 | Test Loss: 3.1536431312561035\n",
      "Epoch: 3280 | Loss: 1.3177191019058228 | Test Loss: 3.070934772491455\n",
      "Epoch: 3290 | Loss: 1.2834049463272095 | Test Loss: 2.9950921535491943\n",
      "Epoch: 3300 | Loss: 1.249076247215271 | Test Loss: 2.9123826026916504\n",
      "Epoch: 3310 | Loss: 1.2146908044815063 | Test Loss: 2.8296735286712646\n",
      "Epoch: 3320 | Loss: 1.1803921461105347 | Test Loss: 2.7538323402404785\n",
      "Epoch: 3330 | Loss: 1.1460474729537964 | Test Loss: 2.67112398147583\n",
      "Epoch: 3340 | Loss: 1.1116621494293213 | Test Loss: 2.5884149074554443\n",
      "Epoch: 3350 | Loss: 1.0773788690567017 | Test Loss: 2.5125718116760254\n",
      "Epoch: 3360 | Loss: 1.04301917552948 | Test Loss: 2.4298627376556396\n",
      "Epoch: 3370 | Loss: 1.0086482763290405 | Test Loss: 2.3540210723876953\n",
      "Epoch: 3380 | Loss: 0.9743660092353821 | Test Loss: 2.271313428878784\n",
      "Epoch: 3390 | Loss: 0.9399904608726501 | Test Loss: 2.1886041164398193\n",
      "Epoch: 3400 | Loss: 0.9056350588798523 | Test Loss: 2.1127610206604004\n",
      "Epoch: 3410 | Loss: 0.8713474273681641 | Test Loss: 2.0300519466400146\n",
      "Epoch: 3420 | Loss: 0.8369621634483337 | Test Loss: 1.9473422765731812\n",
      "Epoch: 3430 | Loss: 0.8026222586631775 | Test Loss: 1.8715027570724487\n",
      "Epoch: 3440 | Loss: 0.7683188319206238 | Test Loss: 1.7887932062149048\n",
      "Epoch: 3450 | Loss: 0.7339332699775696 | Test Loss: 1.7060836553573608\n",
      "Epoch: 3460 | Loss: 0.699609100818634 | Test Loss: 1.6302410364151\n",
      "Epoch: 3470 | Loss: 0.6652904748916626 | Test Loss: 1.5475314855575562\n",
      "Epoch: 3480 | Loss: 0.6309049725532532 | Test Loss: 1.4648239612579346\n",
      "Epoch: 3490 | Loss: 0.5965961813926697 | Test Loss: 1.3889824151992798\n",
      "Epoch: 3500 | Loss: 0.5622615218162537 | Test Loss: 1.3062728643417358\n",
      "Epoch: 3510 | Loss: 0.5278761982917786 | Test Loss: 1.2235634326934814\n",
      "Epoch: 3520 | Loss: 0.4935831129550934 | Test Loss: 1.1477206945419312\n",
      "Epoch: 3530 | Loss: 0.45923328399658203 | Test Loss: 1.0650131702423096\n",
      "Epoch: 3540 | Loss: 0.4248523712158203 | Test Loss: 0.9891716241836548\n",
      "Epoch: 3550 | Loss: 0.39057019352912903 | Test Loss: 0.9064624905586243\n",
      "Epoch: 3560 | Loss: 0.3562045693397522 | Test Loss: 0.8237529993057251\n",
      "Epoch: 3570 | Loss: 0.3218396008014679 | Test Loss: 0.7479099631309509\n",
      "Epoch: 3580 | Loss: 0.287557452917099 | Test Loss: 0.665200412273407\n",
      "Epoch: 3590 | Loss: 0.2531762719154358 | Test Loss: 0.5824909210205078\n",
      "Epoch: 3600 | Loss: 0.21882672607898712 | Test Loss: 0.5066467523574829\n",
      "Epoch: 3610 | Loss: 0.1845332831144333 | Test Loss: 0.4239376187324524\n",
      "Epoch: 3620 | Loss: 0.15014787018299103 | Test Loss: 0.34122735261917114\n",
      "Epoch: 3630 | Loss: 0.11582565307617188 | Test Loss: 0.2619468867778778\n",
      "Epoch: 3640 | Loss: 0.08144830912351608 | Test Loss: 0.1861042082309723\n",
      "Epoch: 3650 | Loss: 0.04716614633798599 | Test Loss: 0.10339393466711044\n",
      "Epoch: 3660 | Loss: 0.03625868633389473 | Test Loss: 0.05797004699707031\n",
      "Epoch: 3670 | Loss: 0.03625868633389473 | Test Loss: 0.05797004699707031\n",
      "Epoch: 3680 | Loss: 0.03625868633389473 | Test Loss: 0.05797004699707031\n",
      "Epoch: 3690 | Loss: 0.03625868633389473 | Test Loss: 0.05797004699707031\n",
      "Epoch: 3700 | Loss: 0.03625868633389473 | Test Loss: 0.05797004699707031\n",
      "Epoch: 3710 | Loss: 0.03625868633389473 | Test Loss: 0.05797004699707031\n",
      "Epoch: 3720 | Loss: 0.03625868633389473 | Test Loss: 0.05797004699707031\n",
      "Epoch: 3730 | Loss: 0.03625868633389473 | Test Loss: 0.05797004699707031\n",
      "Epoch: 3740 | Loss: 0.03625868633389473 | Test Loss: 0.05797004699707031\n",
      "Epoch: 3750 | Loss: 0.03625868633389473 | Test Loss: 0.05797004699707031\n",
      "Epoch: 3760 | Loss: 0.03625868633389473 | Test Loss: 0.05797004699707031\n",
      "Epoch: 3770 | Loss: 0.03625868633389473 | Test Loss: 0.05797004699707031\n",
      "Epoch: 3780 | Loss: 0.03625868633389473 | Test Loss: 0.05797004699707031\n",
      "Epoch: 3790 | Loss: 0.03625868633389473 | Test Loss: 0.05797004699707031\n",
      "Epoch: 3800 | Loss: 0.03625868633389473 | Test Loss: 0.05797004699707031\n",
      "Epoch: 3810 | Loss: 0.03625868633389473 | Test Loss: 0.05797004699707031\n",
      "Epoch: 3820 | Loss: 0.03625868633389473 | Test Loss: 0.05797004699707031\n",
      "Epoch: 3830 | Loss: 0.03625868633389473 | Test Loss: 0.05797004699707031\n",
      "Epoch: 3840 | Loss: 0.03625868633389473 | Test Loss: 0.05797004699707031\n",
      "Epoch: 3850 | Loss: 0.03625868633389473 | Test Loss: 0.05797004699707031\n",
      "Epoch: 3860 | Loss: 0.03625868633389473 | Test Loss: 0.05797004699707031\n",
      "Epoch: 3870 | Loss: 0.03625868633389473 | Test Loss: 0.05797004699707031\n",
      "Epoch: 3880 | Loss: 0.03625868633389473 | Test Loss: 0.05797004699707031\n",
      "Epoch: 3890 | Loss: 0.03625868633389473 | Test Loss: 0.05797004699707031\n",
      "Epoch: 3900 | Loss: 0.03625868633389473 | Test Loss: 0.05797004699707031\n",
      "Epoch: 3910 | Loss: 0.03625868633389473 | Test Loss: 0.05797004699707031\n",
      "Epoch: 3920 | Loss: 0.03625868633389473 | Test Loss: 0.05797004699707031\n",
      "Epoch: 3930 | Loss: 0.03625868633389473 | Test Loss: 0.05797004699707031\n",
      "Epoch: 3940 | Loss: 0.03625868633389473 | Test Loss: 0.05797004699707031\n",
      "Epoch: 3950 | Loss: 0.03625868633389473 | Test Loss: 0.05797004699707031\n",
      "Epoch: 3960 | Loss: 0.03625868633389473 | Test Loss: 0.05797004699707031\n",
      "Epoch: 3970 | Loss: 0.03625868633389473 | Test Loss: 0.05797004699707031\n",
      "Epoch: 3980 | Loss: 0.03625868633389473 | Test Loss: 0.05797004699707031\n",
      "Epoch: 3990 | Loss: 0.03625868633389473 | Test Loss: 0.05797004699707031\n",
      "Epoch: 4000 | Loss: 0.03625868633389473 | Test Loss: 0.05797004699707031\n",
      "Epoch: 4010 | Loss: 0.03625868633389473 | Test Loss: 0.05797004699707031\n",
      "Epoch: 4020 | Loss: 0.03625868633389473 | Test Loss: 0.05797004699707031\n",
      "Epoch: 4030 | Loss: 0.03625868633389473 | Test Loss: 0.05797004699707031\n",
      "Epoch: 4040 | Loss: 0.03625868633389473 | Test Loss: 0.05797004699707031\n",
      "Epoch: 4050 | Loss: 0.03625868633389473 | Test Loss: 0.05797004699707031\n",
      "Epoch: 4060 | Loss: 0.03625868633389473 | Test Loss: 0.05797004699707031\n",
      "Epoch: 4070 | Loss: 0.03625868633389473 | Test Loss: 0.05797004699707031\n",
      "Epoch: 4080 | Loss: 0.03625868633389473 | Test Loss: 0.05797004699707031\n",
      "Epoch: 4090 | Loss: 0.03625868633389473 | Test Loss: 0.05797004699707031\n",
      "Epoch: 4100 | Loss: 0.03625868633389473 | Test Loss: 0.05797004699707031\n",
      "Epoch: 4110 | Loss: 0.03625868633389473 | Test Loss: 0.05797004699707031\n",
      "Epoch: 4120 | Loss: 0.03625868633389473 | Test Loss: 0.05797004699707031\n",
      "Epoch: 4130 | Loss: 0.03625868633389473 | Test Loss: 0.05797004699707031\n",
      "Epoch: 4140 | Loss: 0.03625868633389473 | Test Loss: 0.05797004699707031\n",
      "Epoch: 4150 | Loss: 0.03625868633389473 | Test Loss: 0.05797004699707031\n",
      "Epoch: 4160 | Loss: 0.03625868633389473 | Test Loss: 0.05797004699707031\n",
      "Epoch: 4170 | Loss: 0.03625868633389473 | Test Loss: 0.05797004699707031\n",
      "Epoch: 4180 | Loss: 0.03625868633389473 | Test Loss: 0.05797004699707031\n",
      "Epoch: 4190 | Loss: 0.03625868633389473 | Test Loss: 0.05797004699707031\n",
      "Epoch: 4200 | Loss: 0.03625868633389473 | Test Loss: 0.05797004699707031\n",
      "Epoch: 4210 | Loss: 0.03625868633389473 | Test Loss: 0.05797004699707031\n",
      "Epoch: 4220 | Loss: 0.03625868633389473 | Test Loss: 0.05797004699707031\n",
      "Epoch: 4230 | Loss: 0.03625868633389473 | Test Loss: 0.05797004699707031\n",
      "Epoch: 4240 | Loss: 0.03625868633389473 | Test Loss: 0.05797004699707031\n",
      "Epoch: 4250 | Loss: 0.03625868633389473 | Test Loss: 0.05797004699707031\n",
      "Epoch: 4260 | Loss: 0.03625868633389473 | Test Loss: 0.05797004699707031\n",
      "Epoch: 4270 | Loss: 0.03625868633389473 | Test Loss: 0.05797004699707031\n",
      "Epoch: 4280 | Loss: 0.03625868633389473 | Test Loss: 0.05797004699707031\n",
      "Epoch: 4290 | Loss: 0.03625868633389473 | Test Loss: 0.05797004699707031\n",
      "Epoch: 4300 | Loss: 0.03625868633389473 | Test Loss: 0.05797004699707031\n",
      "Epoch: 4310 | Loss: 0.03625868633389473 | Test Loss: 0.05797004699707031\n",
      "Epoch: 4320 | Loss: 0.03625868633389473 | Test Loss: 0.05797004699707031\n",
      "Epoch: 4330 | Loss: 0.03625868633389473 | Test Loss: 0.05797004699707031\n",
      "Epoch: 4340 | Loss: 0.03625868633389473 | Test Loss: 0.05797004699707031\n",
      "Epoch: 4350 | Loss: 0.03625868633389473 | Test Loss: 0.05797004699707031\n",
      "Epoch: 4360 | Loss: 0.03625868633389473 | Test Loss: 0.05797004699707031\n",
      "Epoch: 4370 | Loss: 0.03625868633389473 | Test Loss: 0.05797004699707031\n",
      "Epoch: 4380 | Loss: 0.03625868633389473 | Test Loss: 0.05797004699707031\n",
      "Epoch: 4390 | Loss: 0.03625868633389473 | Test Loss: 0.05797004699707031\n",
      "Epoch: 4400 | Loss: 0.03625868633389473 | Test Loss: 0.05797004699707031\n",
      "Epoch: 4410 | Loss: 0.03625868633389473 | Test Loss: 0.05797004699707031\n",
      "Epoch: 4420 | Loss: 0.03625868633389473 | Test Loss: 0.05797004699707031\n",
      "Epoch: 4430 | Loss: 0.03625868633389473 | Test Loss: 0.05797004699707031\n",
      "Epoch: 4440 | Loss: 0.03625868633389473 | Test Loss: 0.05797004699707031\n",
      "Epoch: 4450 | Loss: 0.03625868633389473 | Test Loss: 0.05797004699707031\n",
      "Epoch: 4460 | Loss: 0.03625868633389473 | Test Loss: 0.05797004699707031\n",
      "Epoch: 4470 | Loss: 0.03625868633389473 | Test Loss: 0.05797004699707031\n",
      "Epoch: 4480 | Loss: 0.03625868633389473 | Test Loss: 0.05797004699707031\n",
      "Epoch: 4490 | Loss: 0.03625868633389473 | Test Loss: 0.05797004699707031\n",
      "Epoch: 4500 | Loss: 0.03625868633389473 | Test Loss: 0.05797004699707031\n",
      "Epoch: 4510 | Loss: 0.03625868633389473 | Test Loss: 0.05797004699707031\n",
      "Epoch: 4520 | Loss: 0.03625868633389473 | Test Loss: 0.05797004699707031\n",
      "Epoch: 4530 | Loss: 0.03625868633389473 | Test Loss: 0.05797004699707031\n",
      "Epoch: 4540 | Loss: 0.03625868633389473 | Test Loss: 0.05797004699707031\n",
      "Epoch: 4550 | Loss: 0.03625868633389473 | Test Loss: 0.05797004699707031\n",
      "Epoch: 4560 | Loss: 0.03625868633389473 | Test Loss: 0.05797004699707031\n",
      "Epoch: 4570 | Loss: 0.03625868633389473 | Test Loss: 0.05797004699707031\n",
      "Epoch: 4580 | Loss: 0.03625868633389473 | Test Loss: 0.05797004699707031\n",
      "Epoch: 4590 | Loss: 0.03625868633389473 | Test Loss: 0.05797004699707031\n",
      "Epoch: 4600 | Loss: 0.03625868633389473 | Test Loss: 0.05797004699707031\n",
      "Epoch: 4610 | Loss: 0.03625868633389473 | Test Loss: 0.05797004699707031\n",
      "Epoch: 4620 | Loss: 0.03625868633389473 | Test Loss: 0.05797004699707031\n",
      "Epoch: 4630 | Loss: 0.03625868633389473 | Test Loss: 0.05797004699707031\n",
      "Epoch: 4640 | Loss: 0.03625868633389473 | Test Loss: 0.05797004699707031\n",
      "Epoch: 4650 | Loss: 0.03625868633389473 | Test Loss: 0.05797004699707031\n",
      "Epoch: 4660 | Loss: 0.03625868633389473 | Test Loss: 0.05797004699707031\n",
      "Epoch: 4670 | Loss: 0.03625868633389473 | Test Loss: 0.05797004699707031\n",
      "Epoch: 4680 | Loss: 0.03625868633389473 | Test Loss: 0.05797004699707031\n",
      "Epoch: 4690 | Loss: 0.03625868633389473 | Test Loss: 0.05797004699707031\n",
      "Epoch: 4700 | Loss: 0.03625868633389473 | Test Loss: 0.05797004699707031\n",
      "Epoch: 4710 | Loss: 0.03625868633389473 | Test Loss: 0.05797004699707031\n",
      "Epoch: 4720 | Loss: 0.03625868633389473 | Test Loss: 0.05797004699707031\n",
      "Epoch: 4730 | Loss: 0.03625868633389473 | Test Loss: 0.05797004699707031\n",
      "Epoch: 4740 | Loss: 0.03625868633389473 | Test Loss: 0.05797004699707031\n",
      "Epoch: 4750 | Loss: 0.03625868633389473 | Test Loss: 0.05797004699707031\n",
      "Epoch: 4760 | Loss: 0.03625868633389473 | Test Loss: 0.05797004699707031\n",
      "Epoch: 4770 | Loss: 0.03625868633389473 | Test Loss: 0.05797004699707031\n",
      "Epoch: 4780 | Loss: 0.03625868633389473 | Test Loss: 0.05797004699707031\n",
      "Epoch: 4790 | Loss: 0.03625868633389473 | Test Loss: 0.05797004699707031\n",
      "Epoch: 4800 | Loss: 0.03625868633389473 | Test Loss: 0.05797004699707031\n",
      "Epoch: 4810 | Loss: 0.03625868633389473 | Test Loss: 0.05797004699707031\n",
      "Epoch: 4820 | Loss: 0.03625868633389473 | Test Loss: 0.05797004699707031\n",
      "Epoch: 4830 | Loss: 0.03625868633389473 | Test Loss: 0.05797004699707031\n",
      "Epoch: 4840 | Loss: 0.03625868633389473 | Test Loss: 0.05797004699707031\n",
      "Epoch: 4850 | Loss: 0.03625868633389473 | Test Loss: 0.05797004699707031\n",
      "Epoch: 4860 | Loss: 0.03625868633389473 | Test Loss: 0.05797004699707031\n",
      "Epoch: 4870 | Loss: 0.03625868633389473 | Test Loss: 0.05797004699707031\n",
      "Epoch: 4880 | Loss: 0.03625868633389473 | Test Loss: 0.05797004699707031\n",
      "Epoch: 4890 | Loss: 0.03625868633389473 | Test Loss: 0.05797004699707031\n",
      "Epoch: 4900 | Loss: 0.03625868633389473 | Test Loss: 0.05797004699707031\n",
      "Epoch: 4910 | Loss: 0.03625868633389473 | Test Loss: 0.05797004699707031\n",
      "Epoch: 4920 | Loss: 0.03625868633389473 | Test Loss: 0.05797004699707031\n",
      "Epoch: 4930 | Loss: 0.03625868633389473 | Test Loss: 0.05797004699707031\n",
      "Epoch: 4940 | Loss: 0.03625868633389473 | Test Loss: 0.05797004699707031\n",
      "Epoch: 4950 | Loss: 0.03625868633389473 | Test Loss: 0.05797004699707031\n",
      "Epoch: 4960 | Loss: 0.03625868633389473 | Test Loss: 0.05797004699707031\n",
      "Epoch: 4970 | Loss: 0.03625868633389473 | Test Loss: 0.05797004699707031\n",
      "Epoch: 4980 | Loss: 0.03625868633389473 | Test Loss: 0.05797004699707031\n",
      "Epoch: 4990 | Loss: 0.03625868633389473 | Test Loss: 0.05797004699707031\n",
      "Epoch: 5000 | Loss: 0.03625868633389473 | Test Loss: 0.05797004699707031\n",
      "Epoch: 5010 | Loss: 0.03625868633389473 | Test Loss: 0.05797004699707031\n",
      "Epoch: 5020 | Loss: 0.03625868633389473 | Test Loss: 0.05797004699707031\n",
      "Epoch: 5030 | Loss: 0.03625868633389473 | Test Loss: 0.05797004699707031\n",
      "Epoch: 5040 | Loss: 0.03625868633389473 | Test Loss: 0.05797004699707031\n",
      "Epoch: 5050 | Loss: 0.03625868633389473 | Test Loss: 0.05797004699707031\n",
      "Epoch: 5060 | Loss: 0.03625868633389473 | Test Loss: 0.05797004699707031\n",
      "Epoch: 5070 | Loss: 0.03625868633389473 | Test Loss: 0.05797004699707031\n",
      "Epoch: 5080 | Loss: 0.03625868633389473 | Test Loss: 0.05797004699707031\n",
      "Epoch: 5090 | Loss: 0.03625868633389473 | Test Loss: 0.05797004699707031\n",
      "Epoch: 5100 | Loss: 0.03625868633389473 | Test Loss: 0.05797004699707031\n",
      "Epoch: 5110 | Loss: 0.03625868633389473 | Test Loss: 0.05797004699707031\n",
      "Epoch: 5120 | Loss: 0.03625868633389473 | Test Loss: 0.05797004699707031\n",
      "Epoch: 5130 | Loss: 0.03625868633389473 | Test Loss: 0.05797004699707031\n",
      "Epoch: 5140 | Loss: 0.03625868633389473 | Test Loss: 0.05797004699707031\n",
      "Epoch: 5150 | Loss: 0.03625868633389473 | Test Loss: 0.05797004699707031\n",
      "Epoch: 5160 | Loss: 0.03625868633389473 | Test Loss: 0.05797004699707031\n",
      "Epoch: 5170 | Loss: 0.03625868633389473 | Test Loss: 0.05797004699707031\n",
      "Epoch: 5180 | Loss: 0.03625868633389473 | Test Loss: 0.05797004699707031\n",
      "Epoch: 5190 | Loss: 0.03625868633389473 | Test Loss: 0.05797004699707031\n",
      "Epoch: 5200 | Loss: 0.03625868633389473 | Test Loss: 0.05797004699707031\n",
      "Epoch: 5210 | Loss: 0.03625868633389473 | Test Loss: 0.05797004699707031\n",
      "Epoch: 5220 | Loss: 0.03625868633389473 | Test Loss: 0.05797004699707031\n",
      "Epoch: 5230 | Loss: 0.03625868633389473 | Test Loss: 0.05797004699707031\n",
      "Epoch: 5240 | Loss: 0.03625868633389473 | Test Loss: 0.05797004699707031\n",
      "Epoch: 5250 | Loss: 0.03625868633389473 | Test Loss: 0.05797004699707031\n",
      "Epoch: 5260 | Loss: 0.03625868633389473 | Test Loss: 0.05797004699707031\n",
      "Epoch: 5270 | Loss: 0.03625868633389473 | Test Loss: 0.05797004699707031\n",
      "Epoch: 5280 | Loss: 0.03625868633389473 | Test Loss: 0.05797004699707031\n",
      "Epoch: 5290 | Loss: 0.03625868633389473 | Test Loss: 0.05797004699707031\n",
      "Epoch: 5300 | Loss: 0.03625868633389473 | Test Loss: 0.05797004699707031\n",
      "Epoch: 5310 | Loss: 0.03625868633389473 | Test Loss: 0.05797004699707031\n",
      "Epoch: 5320 | Loss: 0.03625868633389473 | Test Loss: 0.05797004699707031\n",
      "Epoch: 5330 | Loss: 0.03625868633389473 | Test Loss: 0.05797004699707031\n",
      "Epoch: 5340 | Loss: 0.03625868633389473 | Test Loss: 0.05797004699707031\n",
      "Epoch: 5350 | Loss: 0.03625868633389473 | Test Loss: 0.05797004699707031\n",
      "Epoch: 5360 | Loss: 0.03625868633389473 | Test Loss: 0.05797004699707031\n",
      "Epoch: 5370 | Loss: 0.03625868633389473 | Test Loss: 0.05797004699707031\n",
      "Epoch: 5380 | Loss: 0.03625868633389473 | Test Loss: 0.05797004699707031\n",
      "Epoch: 5390 | Loss: 0.03625868633389473 | Test Loss: 0.05797004699707031\n",
      "Epoch: 5400 | Loss: 0.03625868633389473 | Test Loss: 0.05797004699707031\n",
      "Epoch: 5410 | Loss: 0.03625868633389473 | Test Loss: 0.05797004699707031\n",
      "Epoch: 5420 | Loss: 0.03625868633389473 | Test Loss: 0.05797004699707031\n",
      "Epoch: 5430 | Loss: 0.03625868633389473 | Test Loss: 0.05797004699707031\n",
      "Epoch: 5440 | Loss: 0.03625868633389473 | Test Loss: 0.05797004699707031\n",
      "Epoch: 5450 | Loss: 0.03625868633389473 | Test Loss: 0.05797004699707031\n",
      "Epoch: 5460 | Loss: 0.03625868633389473 | Test Loss: 0.05797004699707031\n",
      "Epoch: 5470 | Loss: 0.03625868633389473 | Test Loss: 0.05797004699707031\n",
      "Epoch: 5480 | Loss: 0.03625868633389473 | Test Loss: 0.05797004699707031\n",
      "Epoch: 5490 | Loss: 0.03625868633389473 | Test Loss: 0.05797004699707031\n",
      "Epoch: 5500 | Loss: 0.03625868633389473 | Test Loss: 0.05797004699707031\n",
      "Epoch: 5510 | Loss: 0.03625868633389473 | Test Loss: 0.05797004699707031\n",
      "Epoch: 5520 | Loss: 0.03625868633389473 | Test Loss: 0.05797004699707031\n",
      "Epoch: 5530 | Loss: 0.03625868633389473 | Test Loss: 0.05797004699707031\n",
      "Epoch: 5540 | Loss: 0.03625868633389473 | Test Loss: 0.05797004699707031\n",
      "Epoch: 5550 | Loss: 0.03625868633389473 | Test Loss: 0.05797004699707031\n",
      "Epoch: 5560 | Loss: 0.03625868633389473 | Test Loss: 0.05797004699707031\n",
      "Epoch: 5570 | Loss: 0.03625868633389473 | Test Loss: 0.05797004699707031\n",
      "Epoch: 5580 | Loss: 0.03625868633389473 | Test Loss: 0.05797004699707031\n",
      "Epoch: 5590 | Loss: 0.03625868633389473 | Test Loss: 0.05797004699707031\n",
      "Epoch: 5600 | Loss: 0.03625868633389473 | Test Loss: 0.05797004699707031\n",
      "Epoch: 5610 | Loss: 0.03625868633389473 | Test Loss: 0.05797004699707031\n",
      "Epoch: 5620 | Loss: 0.03625868633389473 | Test Loss: 0.05797004699707031\n",
      "Epoch: 5630 | Loss: 0.03625868633389473 | Test Loss: 0.05797004699707031\n",
      "Epoch: 5640 | Loss: 0.03625868633389473 | Test Loss: 0.05797004699707031\n",
      "Epoch: 5650 | Loss: 0.03625868633389473 | Test Loss: 0.05797004699707031\n",
      "Epoch: 5660 | Loss: 0.03625868633389473 | Test Loss: 0.05797004699707031\n",
      "Epoch: 5670 | Loss: 0.03625868633389473 | Test Loss: 0.05797004699707031\n",
      "Epoch: 5680 | Loss: 0.03625868633389473 | Test Loss: 0.05797004699707031\n",
      "Epoch: 5690 | Loss: 0.03625868633389473 | Test Loss: 0.05797004699707031\n",
      "Epoch: 5700 | Loss: 0.03625868633389473 | Test Loss: 0.05797004699707031\n",
      "Epoch: 5710 | Loss: 0.03625868633389473 | Test Loss: 0.05797004699707031\n",
      "Epoch: 5720 | Loss: 0.03625868633389473 | Test Loss: 0.05797004699707031\n",
      "Epoch: 5730 | Loss: 0.03625868633389473 | Test Loss: 0.05797004699707031\n",
      "Epoch: 5740 | Loss: 0.03625868633389473 | Test Loss: 0.05797004699707031\n",
      "Epoch: 5750 | Loss: 0.03625868633389473 | Test Loss: 0.05797004699707031\n",
      "Epoch: 5760 | Loss: 0.03625868633389473 | Test Loss: 0.05797004699707031\n",
      "Epoch: 5770 | Loss: 0.03625868633389473 | Test Loss: 0.05797004699707031\n",
      "Epoch: 5780 | Loss: 0.03625868633389473 | Test Loss: 0.05797004699707031\n",
      "Epoch: 5790 | Loss: 0.03625868633389473 | Test Loss: 0.05797004699707031\n",
      "Epoch: 5800 | Loss: 0.03625868633389473 | Test Loss: 0.05797004699707031\n",
      "Epoch: 5810 | Loss: 0.03625868633389473 | Test Loss: 0.05797004699707031\n",
      "Epoch: 5820 | Loss: 0.03625868633389473 | Test Loss: 0.05797004699707031\n",
      "Epoch: 5830 | Loss: 0.03625868633389473 | Test Loss: 0.05797004699707031\n",
      "Epoch: 5840 | Loss: 0.03625868633389473 | Test Loss: 0.05797004699707031\n",
      "Epoch: 5850 | Loss: 0.03625868633389473 | Test Loss: 0.05797004699707031\n",
      "Epoch: 5860 | Loss: 0.03625868633389473 | Test Loss: 0.05797004699707031\n",
      "Epoch: 5870 | Loss: 0.03625868633389473 | Test Loss: 0.05797004699707031\n",
      "Epoch: 5880 | Loss: 0.03625868633389473 | Test Loss: 0.05797004699707031\n",
      "Epoch: 5890 | Loss: 0.03625868633389473 | Test Loss: 0.05797004699707031\n",
      "Epoch: 5900 | Loss: 0.03625868633389473 | Test Loss: 0.05797004699707031\n",
      "Epoch: 5910 | Loss: 0.03625868633389473 | Test Loss: 0.05797004699707031\n",
      "Epoch: 5920 | Loss: 0.03625868633389473 | Test Loss: 0.05797004699707031\n",
      "Epoch: 5930 | Loss: 0.03625868633389473 | Test Loss: 0.05797004699707031\n",
      "Epoch: 5940 | Loss: 0.03625868633389473 | Test Loss: 0.05797004699707031\n",
      "Epoch: 5950 | Loss: 0.03625868633389473 | Test Loss: 0.05797004699707031\n",
      "Epoch: 5960 | Loss: 0.03625868633389473 | Test Loss: 0.05797004699707031\n",
      "Epoch: 5970 | Loss: 0.03625868633389473 | Test Loss: 0.05797004699707031\n",
      "Epoch: 5980 | Loss: 0.03625868633389473 | Test Loss: 0.05797004699707031\n",
      "Epoch: 5990 | Loss: 0.03625868633389473 | Test Loss: 0.05797004699707031\n"
     ]
    }
   ],
   "execution_count": 69
  },
  {
   "metadata": {
    "ExecuteTime": {
     "end_time": "2025-02-27T15:55:53.679951Z",
     "start_time": "2025-02-27T15:55:53.673412Z"
    }
   },
   "cell_type": "code",
   "source": "model_2.state_dict()",
   "id": "a0ce2a9ad7e08def",
   "outputs": [
    {
     "data": {
      "text/plain": [
       "OrderedDict([('linear_layer.weight', tensor([[71.8190]], device='cuda:0')),\n",
       "             ('linear_layer.bias', tensor([3.2953], device='cuda:0'))])"
      ]
     },
     "execution_count": 70,
     "metadata": {},
     "output_type": "execute_result"
    }
   ],
   "execution_count": 70
  },
  {
   "metadata": {
    "ExecuteTime": {
     "end_time": "2025-02-27T15:55:57.371316Z",
     "start_time": "2025-02-27T15:55:57.364319Z"
    }
   },
   "cell_type": "code",
   "source": "weight, bias",
   "id": "48edc922c2e4f89b",
   "outputs": [
    {
     "data": {
      "text/plain": [
       "(71.9, 3.3)"
      ]
     },
     "execution_count": 72,
     "metadata": {},
     "output_type": "execute_result"
    }
   ],
   "execution_count": 72
  },
  {
   "metadata": {
    "ExecuteTime": {
     "end_time": "2025-02-27T15:56:35.278795Z",
     "start_time": "2025-02-27T15:56:35.267053Z"
    }
   },
   "cell_type": "code",
   "source": [
    "model_2.eval()\n",
    "\n",
    "with torch.inference_mode():\n",
    "    y_pred = model_2(X_test)\n",
    "print(y_pred)"
   ],
   "id": "eb428d609e50fe46",
   "outputs": [
    {
     "name": "stdout",
     "output_type": "stream",
     "text": [
      "tensor([[60.7505],\n",
      "        [62.1869],\n",
      "        [63.6233],\n",
      "        [65.0597],\n",
      "        [66.4961],\n",
      "        [67.9325],\n",
      "        [69.3688],\n",
      "        [70.8052],\n",
      "        [72.2416],\n",
      "        [73.6780]], device='cuda:0')\n"
     ]
    }
   ],
   "execution_count": 74
  },
  {
   "metadata": {
    "ExecuteTime": {
     "end_time": "2025-02-27T15:57:47.276502Z",
     "start_time": "2025-02-27T15:57:47.162169Z"
    }
   },
   "cell_type": "code",
   "source": "plot_prediction(predictions=y_pred.to('cpu'))",
   "id": "83e384d6453d36a3",
   "outputs": [
    {
     "data": {
      "text/plain": [
       "<Figure size 1000x600 with 1 Axes>"
      ],
      "image/png": "[encoded data removed]"
     },
     "metadata": {},
     "output_type": "display_data"
    }
   ],
   "execution_count": 77
  },
  {
   "metadata": {
    "ExecuteTime": {
     "end_time": "2025-02-27T16:04:04.934723Z",
     "start_time": "2025-02-27T16:04:04.907804Z"
    }
   },
   "cell_type": "code",
   "source": [
    "from pathlib import Path\n",
    "\n",
    "MODEL_PATH = Path('models')\n",
    "MODEL_PATH.mkdir(parents=True, exist_ok=True)\n",
    "\n",
    "MODEL_NAME = \"pytorch-workflow_model1.pth\"\n",
    "MODEL_SAVE_PATH = MODEL_PATH / MODEL_NAME\n",
    "MODEL_SAVE_PATH\n",
    "print(MODEL_SAVE_PATH)\n",
    "torch.save(obj=model_2.state_dict(), f=MODEL_SAVE_PATH)"
   ],
   "id": "ceed21da4b7e3a8",
   "outputs": [
    {
     "name": "stdout",
     "output_type": "stream",
     "text": [
      "models\\pytorch-workflow_model1.pth\n"
     ]
    }
   ],
   "execution_count": 84
  },
  {
   "metadata": {
    "ExecuteTime": {
     "end_time": "2025-02-27T16:10:15.430886Z",
     "start_time": "2025-02-27T16:10:15.418843Z"
    }
   },
   "cell_type": "code",
   "source": [
    "loaded_model_2 = LinearRegressionModel2()\n",
    "loaded_model_2.load_state_dict(torch.load(MODEL_SAVE_PATH))\n",
    "loaded_model_2.to(device=torch.device('cuda'))\n",
    "loaded_model_2.state_dict()\n",
    "loaded_model_2.eval()\n",
    "with torch.inference_mode():\n",
    "    loaded_model_2_pred=loaded_model_2(X_test)\n",
    "print(y_pred == loaded_model_2_pred)"
   ],
   "id": "51a7a93dc498c83e",
   "outputs": [
    {
     "name": "stdout",
     "output_type": "stream",
     "text": [
      "tensor([[True],\n",
      "        [True],\n",
      "        [True],\n",
      "        [True],\n",
      "        [True],\n",
      "        [True],\n",
      "        [True],\n",
      "        [True],\n",
      "        [True],\n",
      "        [True]], device='cuda:0')\n"
     ]
    }
   ],
   "execution_count": 92
  }
 ],
 "metadata": {
  "kernelspec": {
   "display_name": "Python 3",
   "language": "python",
   "name": "python3"
  },
  "language_info": {
   "codemirror_mode": {
    "name": "ipython",
    "version": 2
   },
   "file_extension": ".py",
   "mimetype": "text/x-python",
   "name": "python",
   "nbconvert_exporter": "python",
   "pygments_lexer": "ipython2",
   "version": "2.7.6"
  }
 },
 "nbformat": 4,
 "nbformat_minor": 5
}
