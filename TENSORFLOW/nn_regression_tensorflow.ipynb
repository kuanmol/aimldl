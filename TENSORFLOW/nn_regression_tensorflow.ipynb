{
 "cells": [
  {
   "cell_type": "code",
   "id": "initial_id",
   "metadata": {
    "collapsed": true
   },
   "source": "import tensorflow as tf\n",
   "outputs": [],
   "execution_count": null
  },
  {
   "metadata": {},
   "cell_type": "code",
   "source": [
    "house_info=tf.constant([\"bedroom\",\"bathroom\",\"garage\"])\n",
    "house_price=tf.constant([939700])\n",
    "house_info,house_price"
   ],
   "id": "d685b14cd74ec834",
   "outputs": [],
   "execution_count": null
  },
  {
   "metadata": {},
   "cell_type": "code",
   "source": [
    "import matplotlib.pyplot as plt\n",
    "\n",
    "# Create features (using tensors)\n",
    "X = tf.constant([-7.0, -4.0, -1.0, 2.0, 5.0, 8.0, 11.0, 14.0])\n",
    "\n",
    "# Create labels (using tensors)\n",
    "y = tf.constant([3.0, 6.0, 9.0, 12.0, 15.0, 18.0, 21.0, 24.0])\n",
    "\n",
    "# Visualize it\n",
    "plt.scatter(X, y);"
   ],
   "id": "16d5338967946fbc",
   "outputs": [],
   "execution_count": null
  },
  {
   "metadata": {},
   "cell_type": "code",
   "source": [
    "\n",
    "# Take a single example of X\n",
    "input_shape = X[0].shape\n",
    "\n",
    "# Take a single example of y\n",
    "output_shape = y[0].shape\n"
   ],
   "id": "e4f238960a23e417",
   "outputs": [],
   "execution_count": null
  },
  {
   "metadata": {},
   "cell_type": "code",
   "source": [
    "#modelling\n",
    "tf.random.set_seed(42)\n",
    "\n",
    "model = tf.keras.Sequential([\n",
    "    tf.keras.layers.Dense(1),\n",
    "])\n",
    "\n",
    "model.compile(loss=tf.keras.losses.mae, optimizer=tf.keras.optimizers.SGD(), metrics=[\"mae\"])\n",
    "\n",
    "model.fit(tf.expand_dims(X, axis=-1), y, epochs=5,verbose=2)"
   ],
   "id": "68c3e171739a5388",
   "outputs": [],
   "execution_count": null
  },
  {
   "metadata": {},
   "cell_type": "code",
   "source": [
    "x = tf.constant([[17.0]])  # Shape (1,1)\n",
    "print(model.predict(x))  # ✅ Works fine!\n"
   ],
   "id": "2611d5a202415ef7",
   "outputs": [],
   "execution_count": null
  },
  {
   "metadata": {
    "ExecuteTime": {
     "end_time": "2025-03-01T19:25:37.939988Z",
     "start_time": "2025-03-01T19:25:18.925673Z"
    }
   },
   "cell_type": "code",
   "source": "import tensorflow as tf\n",
   "id": "b7612b245a1aed3f",
   "outputs": [],
   "execution_count": 1
  },
  {
   "metadata": {},
   "cell_type": "markdown",
   "source": "Improving the model\n",
   "id": "1fcd5ff0a81a800a"
  },
  {
   "metadata": {
    "ExecuteTime": {
     "end_time": "2025-03-01T18:38:41.602579Z",
     "start_time": "2025-03-01T18:38:41.528734Z"
    }
   },
   "cell_type": "code",
   "source": [
    "import matplotlib.pyplot as plt\n",
    "\n",
    "# Create features (using tensors)\n",
    "X = tf.constant([-7.0, -4.0, -1.0, 2.0, 5.0, 8.0, 11.0, 14.0])\n",
    "\n",
    "# Create labels (using tensors)\n",
    "y = tf.constant([3.0, 6.0, 9.0, 12.0, 15.0, 18.0, 21.0, 24.0])\n",
    "\n",
    "# Visualize it\n",
    "plt.scatter(X, y);"
   ],
   "id": "8b116f3ebaec36a8",
   "outputs": [
    {
     "data": {
      "text/plain": [
       "<Figure size 640x480 with 1 Axes>"
      ],
      "image/png": "[encoded data removed]"
     },
     "metadata": {},
     "output_type": "display_data"
    }
   ],
   "execution_count": 3
  },
  {
   "metadata": {
    "ExecuteTime": {
     "end_time": "2025-03-01T18:44:18.872432Z",
     "start_time": "2025-03-01T18:44:14.296215Z"
    }
   },
   "cell_type": "code",
   "source": [
    "from keras.api.layers import Dense\n",
    "from keras.api.models import Sequential\n",
    "from keras.api.optimizers import Adam\n",
    "from keras.api.losses import mean_absolute_error\n",
    "\n",
    "model = Sequential([\n",
    "    Dense(50, activation=\"relu\"),\n",
    "    Dense(1),\n",
    "])\n",
    "model.compile(loss=mean_absolute_error, optimizer=Adam(learning_rate=0.01), metrics=[\"mae\"])\n",
    "\n",
    "model.fit(tf.expand_dims(X, axis=-1), y, epochs=100, verbose=2)"
   ],
   "id": "81765e2da5f443f1",
   "outputs": [
    {
     "name": "stdout",
     "output_type": "stream",
     "text": [
      "Epoch 1/100\n",
      "1/1 - 1s - 503ms/step - loss: 13.1296 - mae: 13.1296\n",
      "Epoch 2/100\n",
      "1/1 - 0s - 33ms/step - loss: 12.5192 - mae: 12.5192\n",
      "Epoch 3/100\n",
      "1/1 - 0s - 33ms/step - loss: 11.9194 - mae: 11.9194\n",
      "Epoch 4/100\n",
      "1/1 - 0s - 36ms/step - loss: 11.3121 - mae: 11.3121\n",
      "Epoch 5/100\n",
      "1/1 - 0s - 30ms/step - loss: 10.7151 - mae: 10.7151\n",
      "Epoch 6/100\n",
      "1/1 - 0s - 40ms/step - loss: 10.1668 - mae: 10.1668\n",
      "Epoch 7/100\n",
      "1/1 - 0s - 38ms/step - loss: 9.6987 - mae: 9.6987\n",
      "Epoch 8/100\n",
      "1/1 - 0s - 32ms/step - loss: 9.2203 - mae: 9.2203\n",
      "Epoch 9/100\n",
      "1/1 - 0s - 37ms/step - loss: 8.7329 - mae: 8.7329\n",
      "Epoch 10/100\n",
      "1/1 - 0s - 35ms/step - loss: 8.2312 - mae: 8.2312\n",
      "Epoch 11/100\n",
      "1/1 - 0s - 35ms/step - loss: 7.7133 - mae: 7.7133\n",
      "Epoch 12/100\n",
      "1/1 - 0s - 32ms/step - loss: 7.1782 - mae: 7.1782\n",
      "Epoch 13/100\n",
      "1/1 - 0s - 32ms/step - loss: 6.6246 - mae: 6.6246\n",
      "Epoch 14/100\n",
      "1/1 - 0s - 30ms/step - loss: 6.0507 - mae: 6.0507\n",
      "Epoch 15/100\n",
      "1/1 - 0s - 35ms/step - loss: 5.4550 - mae: 5.4550\n",
      "Epoch 16/100\n",
      "1/1 - 0s - 32ms/step - loss: 4.8366 - mae: 4.8366\n",
      "Epoch 17/100\n",
      "1/1 - 0s - 30ms/step - loss: 4.1942 - mae: 4.1942\n",
      "Epoch 18/100\n",
      "1/1 - 0s - 34ms/step - loss: 3.8353 - mae: 3.8353\n",
      "Epoch 19/100\n",
      "1/1 - 0s - 34ms/step - loss: 3.7289 - mae: 3.7289\n",
      "Epoch 20/100\n",
      "1/1 - 0s - 37ms/step - loss: 3.8422 - mae: 3.8422\n",
      "Epoch 21/100\n",
      "1/1 - 0s - 30ms/step - loss: 3.9389 - mae: 3.9389\n",
      "Epoch 22/100\n",
      "1/1 - 0s - 29ms/step - loss: 4.1098 - mae: 4.1098\n",
      "Epoch 23/100\n",
      "1/1 - 0s - 30ms/step - loss: 4.2885 - mae: 4.2885\n",
      "Epoch 24/100\n",
      "1/1 - 0s - 30ms/step - loss: 4.3960 - mae: 4.3960\n",
      "Epoch 25/100\n",
      "1/1 - 0s - 32ms/step - loss: 4.4400 - mae: 4.4400\n",
      "Epoch 26/100\n",
      "1/1 - 0s - 30ms/step - loss: 4.4283 - mae: 4.4283\n",
      "Epoch 27/100\n",
      "1/1 - 0s - 38ms/step - loss: 4.3684 - mae: 4.3684\n",
      "Epoch 28/100\n",
      "1/1 - 0s - 35ms/step - loss: 4.2668 - mae: 4.2668\n",
      "Epoch 29/100\n",
      "1/1 - 0s - 35ms/step - loss: 4.1295 - mae: 4.1295\n",
      "Epoch 30/100\n",
      "1/1 - 0s - 35ms/step - loss: 3.9602 - mae: 3.9602\n",
      "Epoch 31/100\n",
      "1/1 - 0s - 36ms/step - loss: 3.7758 - mae: 3.7758\n",
      "Epoch 32/100\n",
      "1/1 - 0s - 40ms/step - loss: 3.6879 - mae: 3.6879\n",
      "Epoch 33/100\n",
      "1/1 - 0s - 44ms/step - loss: 3.6076 - mae: 3.6076\n",
      "Epoch 34/100\n",
      "1/1 - 0s - 42ms/step - loss: 3.5289 - mae: 3.5289\n",
      "Epoch 35/100\n",
      "1/1 - 0s - 46ms/step - loss: 3.4493 - mae: 3.4493\n",
      "Epoch 36/100\n",
      "1/1 - 0s - 53ms/step - loss: 3.3694 - mae: 3.3694\n",
      "Epoch 37/100\n",
      "1/1 - 0s - 54ms/step - loss: 3.3367 - mae: 3.3367\n",
      "Epoch 38/100\n",
      "1/1 - 0s - 57ms/step - loss: 3.3708 - mae: 3.3708\n",
      "Epoch 39/100\n",
      "1/1 - 0s - 57ms/step - loss: 3.3651 - mae: 3.3651\n",
      "Epoch 40/100\n",
      "1/1 - 0s - 63ms/step - loss: 3.3674 - mae: 3.3674\n",
      "Epoch 41/100\n",
      "1/1 - 0s - 63ms/step - loss: 3.3515 - mae: 3.3515\n",
      "Epoch 42/100\n",
      "1/1 - 0s - 65ms/step - loss: 3.3196 - mae: 3.3196\n",
      "Epoch 43/100\n",
      "1/1 - 0s - 77ms/step - loss: 3.2721 - mae: 3.2721\n",
      "Epoch 44/100\n",
      "1/1 - 0s - 75ms/step - loss: 3.2066 - mae: 3.2066\n",
      "Epoch 45/100\n",
      "1/1 - 0s - 81ms/step - loss: 3.1229 - mae: 3.1229\n",
      "Epoch 46/100\n",
      "1/1 - 0s - 66ms/step - loss: 3.0314 - mae: 3.0314\n",
      "Epoch 47/100\n",
      "1/1 - 0s - 61ms/step - loss: 3.0525 - mae: 3.0525\n",
      "Epoch 48/100\n",
      "1/1 - 0s - 59ms/step - loss: 3.0275 - mae: 3.0275\n",
      "Epoch 49/100\n",
      "1/1 - 0s - 56ms/step - loss: 3.0116 - mae: 3.0116\n",
      "Epoch 50/100\n",
      "1/1 - 0s - 58ms/step - loss: 2.9894 - mae: 2.9894\n",
      "Epoch 51/100\n",
      "1/1 - 0s - 47ms/step - loss: 2.9545 - mae: 2.9545\n",
      "Epoch 52/100\n",
      "1/1 - 0s - 44ms/step - loss: 2.9088 - mae: 2.9088\n",
      "Epoch 53/100\n",
      "1/1 - 0s - 40ms/step - loss: 2.8514 - mae: 2.8514\n",
      "Epoch 54/100\n",
      "1/1 - 0s - 36ms/step - loss: 2.7917 - mae: 2.7917\n",
      "Epoch 55/100\n",
      "1/1 - 0s - 36ms/step - loss: 2.7289 - mae: 2.7289\n",
      "Epoch 56/100\n",
      "1/1 - 0s - 39ms/step - loss: 2.6535 - mae: 2.6535\n",
      "Epoch 57/100\n",
      "1/1 - 0s - 29ms/step - loss: 2.5743 - mae: 2.5743\n",
      "Epoch 58/100\n",
      "1/1 - 0s - 40ms/step - loss: 2.4984 - mae: 2.4984\n",
      "Epoch 59/100\n",
      "1/1 - 0s - 36ms/step - loss: 2.4262 - mae: 2.4262\n",
      "Epoch 60/100\n",
      "1/1 - 0s - 36ms/step - loss: 2.3787 - mae: 2.3787\n",
      "Epoch 61/100\n",
      "1/1 - 0s - 32ms/step - loss: 2.2983 - mae: 2.2983\n",
      "Epoch 62/100\n",
      "1/1 - 0s - 33ms/step - loss: 2.2208 - mae: 2.2208\n",
      "Epoch 63/100\n",
      "1/1 - 0s - 36ms/step - loss: 2.1575 - mae: 2.1575\n",
      "Epoch 64/100\n",
      "1/1 - 0s - 32ms/step - loss: 2.0817 - mae: 2.0817\n",
      "Epoch 65/100\n",
      "1/1 - 0s - 33ms/step - loss: 1.9897 - mae: 1.9897\n",
      "Epoch 66/100\n",
      "1/1 - 0s - 32ms/step - loss: 1.9245 - mae: 1.9245\n",
      "Epoch 67/100\n",
      "1/1 - 0s - 30ms/step - loss: 1.8079 - mae: 1.8079\n",
      "Epoch 68/100\n",
      "1/1 - 0s - 43ms/step - loss: 1.7369 - mae: 1.7369\n",
      "Epoch 69/100\n",
      "1/1 - 0s - 32ms/step - loss: 1.6391 - mae: 1.6391\n",
      "Epoch 70/100\n",
      "1/1 - 0s - 30ms/step - loss: 1.5395 - mae: 1.5395\n",
      "Epoch 71/100\n",
      "1/1 - 0s - 26ms/step - loss: 1.4546 - mae: 1.4546\n",
      "Epoch 72/100\n",
      "1/1 - 0s - 41ms/step - loss: 1.3607 - mae: 1.3607\n",
      "Epoch 73/100\n",
      "1/1 - 0s - 30ms/step - loss: 1.2417 - mae: 1.2417\n",
      "Epoch 74/100\n",
      "1/1 - 0s - 32ms/step - loss: 1.1322 - mae: 1.1322\n",
      "Epoch 75/100\n",
      "1/1 - 0s - 33ms/step - loss: 1.0643 - mae: 1.0643\n",
      "Epoch 76/100\n",
      "1/1 - 0s - 31ms/step - loss: 0.9606 - mae: 0.9606\n",
      "Epoch 77/100\n",
      "1/1 - 0s - 35ms/step - loss: 0.8225 - mae: 0.8225\n",
      "Epoch 78/100\n",
      "1/1 - 0s - 30ms/step - loss: 0.7187 - mae: 0.7187\n",
      "Epoch 79/100\n",
      "1/1 - 0s - 33ms/step - loss: 0.5990 - mae: 0.5990\n",
      "Epoch 80/100\n",
      "1/1 - 0s - 30ms/step - loss: 0.4609 - mae: 0.4609\n",
      "Epoch 81/100\n",
      "1/1 - 0s - 32ms/step - loss: 0.3799 - mae: 0.3799\n",
      "Epoch 82/100\n",
      "1/1 - 0s - 34ms/step - loss: 0.2847 - mae: 0.2847\n",
      "Epoch 83/100\n",
      "1/1 - 0s - 30ms/step - loss: 0.3180 - mae: 0.3180\n",
      "Epoch 84/100\n",
      "1/1 - 0s - 32ms/step - loss: 0.2362 - mae: 0.2362\n",
      "Epoch 85/100\n",
      "1/1 - 0s - 30ms/step - loss: 0.3302 - mae: 0.3302\n",
      "Epoch 86/100\n",
      "1/1 - 0s - 27ms/step - loss: 0.4069 - mae: 0.4069\n",
      "Epoch 87/100\n",
      "1/1 - 0s - 39ms/step - loss: 0.3053 - mae: 0.3053\n",
      "Epoch 88/100\n",
      "1/1 - 0s - 32ms/step - loss: 0.5141 - mae: 0.5141\n",
      "Epoch 89/100\n",
      "1/1 - 0s - 37ms/step - loss: 0.5224 - mae: 0.5224\n",
      "Epoch 90/100\n",
      "1/1 - 0s - 31ms/step - loss: 0.3629 - mae: 0.3629\n",
      "Epoch 91/100\n",
      "1/1 - 0s - 37ms/step - loss: 0.4313 - mae: 0.4313\n",
      "Epoch 92/100\n",
      "1/1 - 0s - 40ms/step - loss: 0.3993 - mae: 0.3993\n",
      "Epoch 93/100\n",
      "1/1 - 0s - 32ms/step - loss: 0.3335 - mae: 0.3335\n",
      "Epoch 94/100\n",
      "1/1 - 0s - 30ms/step - loss: 0.5324 - mae: 0.5324\n",
      "Epoch 95/100\n",
      "1/1 - 0s - 39ms/step - loss: 0.4679 - mae: 0.4679\n",
      "Epoch 96/100\n",
      "1/1 - 0s - 35ms/step - loss: 0.2165 - mae: 0.2165\n",
      "Epoch 97/100\n",
      "1/1 - 0s - 35ms/step - loss: 0.3507 - mae: 0.3507\n",
      "Epoch 98/100\n",
      "1/1 - 0s - 31ms/step - loss: 0.2882 - mae: 0.2882\n",
      "Epoch 99/100\n",
      "1/1 - 0s - 34ms/step - loss: 0.2780 - mae: 0.2780\n",
      "Epoch 100/100\n",
      "1/1 - 0s - 30ms/step - loss: 0.2704 - mae: 0.2704\n"
     ]
    },
    {
     "data": {
      "text/plain": [
       "<keras.src.callbacks.history.History at 0x1fb17c977a0>"
      ]
     },
     "execution_count": 22,
     "metadata": {},
     "output_type": "execute_result"
    }
   ],
   "execution_count": 22
  },
  {
   "metadata": {
    "ExecuteTime": {
     "end_time": "2025-03-01T18:39:41.725783Z",
     "start_time": "2025-03-01T18:39:41.719954Z"
    }
   },
   "cell_type": "code",
   "source": "X,y",
   "id": "ce61133cc5410854",
   "outputs": [
    {
     "data": {
      "text/plain": [
       "(<tf.Tensor: shape=(8,), dtype=float32, numpy=array([-7., -4., -1.,  2.,  5.,  8., 11., 14.], dtype=float32)>,\n",
       " <tf.Tensor: shape=(8,), dtype=float32, numpy=array([ 3.,  6.,  9., 12., 15., 18., 21., 24.], dtype=float32)>)"
      ]
     },
     "execution_count": 8,
     "metadata": {},
     "output_type": "execute_result"
    }
   ],
   "execution_count": 8
  },
  {
   "metadata": {
    "ExecuteTime": {
     "end_time": "2025-03-01T18:44:22.944460Z",
     "start_time": "2025-03-01T18:44:22.876730Z"
    }
   },
   "cell_type": "code",
   "source": [
    "x=tf.constant([17.0])\n",
    "print(model.predict(x))"
   ],
   "id": "b6b82602edecee0b",
   "outputs": [
    {
     "name": "stdout",
     "output_type": "stream",
     "text": [
      "\u001B[1m1/1\u001B[0m \u001B[32m━━━━━━━━━━━━━━━━━━━━\u001B[0m\u001B[37m\u001B[0m \u001B[1m0s\u001B[0m 27ms/step\n",
      "[[27.29745]]\n"
     ]
    }
   ],
   "execution_count": 24
  },
  {
   "metadata": {
    "ExecuteTime": {
     "end_time": "2025-03-01T19:26:18.861962Z",
     "start_time": "2025-03-01T19:26:18.820078Z"
    }
   },
   "cell_type": "code",
   "source": [
    "#Bigger dataset\n",
    "X=tf.range(-100,100,4)\n",
    "y=X+10\n",
    "X,y"
   ],
   "id": "5a0aebf2403a7416",
   "outputs": [
    {
     "data": {
      "text/plain": [
       "(<tf.Tensor: shape=(50,), dtype=int32, numpy=\n",
       " array([-100,  -96,  -92,  -88,  -84,  -80,  -76,  -72,  -68,  -64,  -60,\n",
       "         -56,  -52,  -48,  -44,  -40,  -36,  -32,  -28,  -24,  -20,  -16,\n",
       "         -12,   -8,   -4,    0,    4,    8,   12,   16,   20,   24,   28,\n",
       "          32,   36,   40,   44,   48,   52,   56,   60,   64,   68,   72,\n",
       "          76,   80,   84,   88,   92,   96], dtype=int32)>,\n",
       " <tf.Tensor: shape=(50,), dtype=int32, numpy=\n",
       " array([-90, -86, -82, -78, -74, -70, -66, -62, -58, -54, -50, -46, -42,\n",
       "        -38, -34, -30, -26, -22, -18, -14, -10,  -6,  -2,   2,   6,  10,\n",
       "         14,  18,  22,  26,  30,  34,  38,  42,  46,  50,  54,  58,  62,\n",
       "         66,  70,  74,  78,  82,  86,  90,  94,  98, 102, 106], dtype=int32)>)"
      ]
     },
     "execution_count": 3,
     "metadata": {},
     "output_type": "execute_result"
    }
   ],
   "execution_count": 3
  },
  {
   "metadata": {
    "ExecuteTime": {
     "end_time": "2025-03-01T19:26:21.185929Z",
     "start_time": "2025-03-01T19:26:21.176274Z"
    }
   },
   "cell_type": "code",
   "source": [
    "X_train=X[:40]\n",
    "y_train=y[:40]\n",
    "X_test=X[40:]\n",
    "y_test=y[40:]\n",
    "len(X_train),len(X_test),len(y_train),len(y_test)"
   ],
   "id": "3b59eb24a7ab920",
   "outputs": [
    {
     "data": {
      "text/plain": [
       "(40, 10, 40, 10)"
      ]
     },
     "execution_count": 4,
     "metadata": {},
     "output_type": "execute_result"
    }
   ],
   "execution_count": 4
  },
  {
   "metadata": {
    "ExecuteTime": {
     "end_time": "2025-03-01T19:26:37.416702Z",
     "start_time": "2025-03-01T19:26:37.214012Z"
    }
   },
   "cell_type": "code",
   "source": [
    "import matplotlib.pyplot as plt\n",
    "plt.figure(figsize=(10,5))\n",
    "plt.scatter(X_train,y_train,c=\"b\",label=\"training data\")\n",
    "plt.scatter(X_test,y_test,c=\"g\",label=\"test data\")\n",
    "plt.legend()"
   ],
   "id": "ef39701dfe5ea883",
   "outputs": [
    {
     "data": {
      "text/plain": [
       "<matplotlib.legend.Legend at 0x1ce7f8dbda0>"
      ]
     },
     "execution_count": 7,
     "metadata": {},
     "output_type": "execute_result"
    },
    {
     "data": {
      "text/plain": [
       "<Figure size 1000x500 with 1 Axes>"
      ],
      "image/png": "[encoded data removed]"
     },
     "metadata": {},
     "output_type": "display_data"
    }
   ],
   "execution_count": 7
  },
  {
   "metadata": {
    "ExecuteTime": {
     "end_time": "2025-03-01T19:26:40.573779Z",
     "start_time": "2025-03-01T19:26:39.843586Z"
    }
   },
   "cell_type": "code",
   "source": [
    "import tensorflow as tf\n",
    "from keras.api.models import Sequential\n",
    "from keras.api.layers import Dense\n",
    "from keras.api.losses import mean_absolute_error\n",
    "from keras.api.optimizers import SGD\n",
    "\n",
    "model=Sequential([\n",
    "    Dense(50, activation=\"relu\", input_shape=(1,)),\n",
    "    Dense(1),\n",
    "])\n",
    "model.compile(loss=mean_absolute_error, optimizer=SGD(), metrics=[\"mae\"])\n",
    "model.fit(tf.expand_dims(X_train, axis=-1), y_train, epochs=10,verbose=2)"
   ],
   "id": "f177c0841b8ac40a",
   "outputs": [
    {
     "name": "stdout",
     "output_type": "stream",
     "text": [
      "Epoch 1/10\n"
     ]
    },
    {
     "name": "stderr",
     "output_type": "stream",
     "text": [
      "D:\\Artificial\\.venv\\Lib\\site-packages\\keras\\src\\layers\\core\\dense.py:87: UserWarning: Do not pass an `input_shape`/`input_dim` argument to a layer. When using Sequential models, prefer using an `Input(shape)` object as the first layer in the model instead.\n",
      "  super().__init__(activity_regularizer=activity_regularizer, **kwargs)\n"
     ]
    },
    {
     "name": "stdout",
     "output_type": "stream",
     "text": [
      "2/2 - 0s - 147ms/step - loss: 28.6458 - mae: 28.6458\n",
      "Epoch 2/10\n",
      "2/2 - 0s - 19ms/step - loss: 28.3620 - mae: 28.3620\n",
      "Epoch 3/10\n",
      "2/2 - 0s - 19ms/step - loss: 14.2256 - mae: 14.2256\n",
      "Epoch 4/10\n",
      "2/2 - 0s - 19ms/step - loss: 6.7985 - mae: 6.7985\n",
      "Epoch 5/10\n",
      "2/2 - 0s - 18ms/step - loss: 14.0115 - mae: 14.0115\n",
      "Epoch 6/10\n",
      "2/2 - 0s - 18ms/step - loss: 28.3339 - mae: 28.3339\n",
      "Epoch 7/10\n",
      "2/2 - 0s - 17ms/step - loss: 7.3563 - mae: 7.3563\n",
      "Epoch 8/10\n",
      "2/2 - 0s - 18ms/step - loss: 11.7936 - mae: 11.7936\n",
      "Epoch 9/10\n",
      "2/2 - 0s - 17ms/step - loss: 13.0472 - mae: 13.0472\n",
      "Epoch 10/10\n",
      "2/2 - 0s - 17ms/step - loss: 14.4463 - mae: 14.4463\n"
     ]
    },
    {
     "data": {
      "text/plain": [
       "<keras.src.callbacks.history.History at 0x1ce4bc272f0>"
      ]
     },
     "execution_count": 8,
     "metadata": {},
     "output_type": "execute_result"
    }
   ],
   "execution_count": 8
  },
  {
   "metadata": {
    "ExecuteTime": {
     "end_time": "2025-03-01T19:26:42.918009Z",
     "start_time": "2025-03-01T19:26:42.902798Z"
    }
   },
   "cell_type": "code",
   "source": "model.summary()",
   "id": "2a1bfa881454f597",
   "outputs": [
    {
     "data": {
      "text/plain": [
       "\u001B[1mModel: \"sequential\"\u001B[0m\n"
      ],
      "text/html": [
       "<pre style=\"white-space:pre;overflow-x:auto;line-height:normal;font-family:Menlo,'DejaVu Sans Mono',consolas,'Courier New',monospace\"><span style=\"font-weight: bold\">Model: \"sequential\"</span>\n",
       "</pre>\n"
      ]
     },
     "metadata": {},
     "output_type": "display_data"
    },
    {
     "data": {
      "text/plain": [
       "┏━━━━━━━━━━━━━━━━━━━━━━━━━━━━━━━━━┳━━━━━━━━━━━━━━━━━━━━━━━━┳━━━━━━━━━━━━━━━┓\n",
       "┃\u001B[1m \u001B[0m\u001B[1mLayer (type)                   \u001B[0m\u001B[1m \u001B[0m┃\u001B[1m \u001B[0m\u001B[1mOutput Shape          \u001B[0m\u001B[1m \u001B[0m┃\u001B[1m \u001B[0m\u001B[1m      Param #\u001B[0m\u001B[1m \u001B[0m┃\n",
       "┡━━━━━━━━━━━━━━━━━━━━━━━━━━━━━━━━━╇━━━━━━━━━━━━━━━━━━━━━━━━╇━━━━━━━━━━━━━━━┩\n",
       "│ dense (\u001B[38;5;33mDense\u001B[0m)                   │ (\u001B[38;5;45mNone\u001B[0m, \u001B[38;5;34m50\u001B[0m)             │           \u001B[38;5;34m100\u001B[0m │\n",
       "├─────────────────────────────────┼────────────────────────┼───────────────┤\n",
       "│ dense_1 (\u001B[38;5;33mDense\u001B[0m)                 │ (\u001B[38;5;45mNone\u001B[0m, \u001B[38;5;34m1\u001B[0m)              │            \u001B[38;5;34m51\u001B[0m │\n",
       "└─────────────────────────────────┴────────────────────────┴───────────────┘\n"
      ],
      "text/html": [
       "<pre style=\"white-space:pre;overflow-x:auto;line-height:normal;font-family:Menlo,'DejaVu Sans Mono',consolas,'Courier New',monospace\">┏━━━━━━━━━━━━━━━━━━━━━━━━━━━━━━━━━┳━━━━━━━━━━━━━━━━━━━━━━━━┳━━━━━━━━━━━━━━━┓\n",
       "┃<span style=\"font-weight: bold\"> Layer (type)                    </span>┃<span style=\"font-weight: bold\"> Output Shape           </span>┃<span style=\"font-weight: bold\">       Param # </span>┃\n",
       "┡━━━━━━━━━━━━━━━━━━━━━━━━━━━━━━━━━╇━━━━━━━━━━━━━━━━━━━━━━━━╇━━━━━━━━━━━━━━━┩\n",
       "│ dense (<span style=\"color: #0087ff; text-decoration-color: #0087ff\">Dense</span>)                   │ (<span style=\"color: #00d7ff; text-decoration-color: #00d7ff\">None</span>, <span style=\"color: #00af00; text-decoration-color: #00af00\">50</span>)             │           <span style=\"color: #00af00; text-decoration-color: #00af00\">100</span> │\n",
       "├─────────────────────────────────┼────────────────────────┼───────────────┤\n",
       "│ dense_1 (<span style=\"color: #0087ff; text-decoration-color: #0087ff\">Dense</span>)                 │ (<span style=\"color: #00d7ff; text-decoration-color: #00d7ff\">None</span>, <span style=\"color: #00af00; text-decoration-color: #00af00\">1</span>)              │            <span style=\"color: #00af00; text-decoration-color: #00af00\">51</span> │\n",
       "└─────────────────────────────────┴────────────────────────┴───────────────┘\n",
       "</pre>\n"
      ]
     },
     "metadata": {},
     "output_type": "display_data"
    },
    {
     "data": {
      "text/plain": [
       "\u001B[1m Total params: \u001B[0m\u001B[38;5;34m153\u001B[0m (616.00 B)\n"
      ],
      "text/html": [
       "<pre style=\"white-space:pre;overflow-x:auto;line-height:normal;font-family:Menlo,'DejaVu Sans Mono',consolas,'Courier New',monospace\"><span style=\"font-weight: bold\"> Total params: </span><span style=\"color: #00af00; text-decoration-color: #00af00\">153</span> (616.00 B)\n",
       "</pre>\n"
      ]
     },
     "metadata": {},
     "output_type": "display_data"
    },
    {
     "data": {
      "text/plain": [
       "\u001B[1m Trainable params: \u001B[0m\u001B[38;5;34m151\u001B[0m (604.00 B)\n"
      ],
      "text/html": [
       "<pre style=\"white-space:pre;overflow-x:auto;line-height:normal;font-family:Menlo,'DejaVu Sans Mono',consolas,'Courier New',monospace\"><span style=\"font-weight: bold\"> Trainable params: </span><span style=\"color: #00af00; text-decoration-color: #00af00\">151</span> (604.00 B)\n",
       "</pre>\n"
      ]
     },
     "metadata": {},
     "output_type": "display_data"
    },
    {
     "data": {
      "text/plain": [
       "\u001B[1m Non-trainable params: \u001B[0m\u001B[38;5;34m0\u001B[0m (0.00 B)\n"
      ],
      "text/html": [
       "<pre style=\"white-space:pre;overflow-x:auto;line-height:normal;font-family:Menlo,'DejaVu Sans Mono',consolas,'Courier New',monospace\"><span style=\"font-weight: bold\"> Non-trainable params: </span><span style=\"color: #00af00; text-decoration-color: #00af00\">0</span> (0.00 B)\n",
       "</pre>\n"
      ]
     },
     "metadata": {},
     "output_type": "display_data"
    },
    {
     "data": {
      "text/plain": [
       "\u001B[1m Optimizer params: \u001B[0m\u001B[38;5;34m2\u001B[0m (12.00 B)\n"
      ],
      "text/html": [
       "<pre style=\"white-space:pre;overflow-x:auto;line-height:normal;font-family:Menlo,'DejaVu Sans Mono',consolas,'Courier New',monospace\"><span style=\"font-weight: bold\"> Optimizer params: </span><span style=\"color: #00af00; text-decoration-color: #00af00\">2</span> (12.00 B)\n",
       "</pre>\n"
      ]
     },
     "metadata": {},
     "output_type": "display_data"
    }
   ],
   "execution_count": 9
  },
  {
   "metadata": {
    "ExecuteTime": {
     "end_time": "2025-03-01T20:18:55.449769Z",
     "start_time": "2025-03-01T20:18:55.372415Z"
    }
   },
   "cell_type": "code",
   "source": [
    "y_pred=model.predict(X_test)\n",
    "y_pred"
   ],
   "id": "be5f80996259a22b",
   "outputs": [
    {
     "name": "stdout",
     "output_type": "stream",
     "text": [
      "\u001B[1m1/1\u001B[0m \u001B[32m━━━━━━━━━━━━━━━━━━━━\u001B[0m\u001B[37m\u001B[0m \u001B[1m0s\u001B[0m 32ms/step\n"
     ]
    },
    {
     "data": {
      "text/plain": [
       "array([[53.096367],\n",
       "       [56.63129 ],\n",
       "       [60.16621 ],\n",
       "       [63.701134],\n",
       "       [67.23605 ],\n",
       "       [70.770966],\n",
       "       [74.30589 ],\n",
       "       [77.84081 ],\n",
       "       [81.37574 ],\n",
       "       [84.91066 ]], dtype=float32)"
      ]
     },
     "execution_count": 30,
     "metadata": {},
     "output_type": "execute_result"
    }
   ],
   "execution_count": 30
  },
  {
   "metadata": {
    "ExecuteTime": {
     "end_time": "2025-03-01T20:21:41.424540Z",
     "start_time": "2025-03-01T20:21:41.276524Z"
    }
   },
   "cell_type": "code",
   "source": [
    "def plot_prediction(train_data=X_train, train_labels=y_train, test_data=X_test, test_labels=y_test,predictions=y_pred):\n",
    "    plt.figure(figsize=(10,5))\n",
    "    plt.scatter(train_data, train_labels, c=\"b\",label=\"training data\")\n",
    "    plt.scatter(test_data, test_labels, c=\"g\",label=\"test data\")\n",
    "    plt.scatter(test_data, predictions, c=\"r\",label=\"predictions\")\n",
    "    plt.legend()\n",
    "plot_prediction()"
   ],
   "id": "7566ca28b355190c",
   "outputs": [
    {
     "data": {
      "text/plain": [
       "<Figure size 1000x500 with 1 Axes>"
      ],
      "image/png": "[encoded data removed]"
     },
     "metadata": {},
     "output_type": "display_data"
    }
   ],
   "execution_count": 34
  },
  {
   "metadata": {},
   "cell_type": "code",
   "outputs": [],
   "execution_count": null,
   "source": "",
   "id": "1220936963bb831c"
  },
  {
   "metadata": {},
   "cell_type": "markdown",
   "source": "LARGE EXAMPLE\n",
   "id": "a99080affa6c07b"
  },
  {
   "metadata": {
    "ExecuteTime": {
     "end_time": "2025-03-01T20:42:48.961626Z",
     "start_time": "2025-03-01T20:42:48.409380Z"
    }
   },
   "cell_type": "code",
   "source": [
    "import tensorflow as tf\n",
    "import matplotlib.pyplot as plt\n",
    "import numpy as np\n",
    "import pandas as pd\n",
    "insurance=pd.read_csv(\"https://raw.githubusercontent.com/stedy/Machine-Learning-with-R-datasets/refs/heads/master/insurance.csv\")\n",
    "insurance.head()"
   ],
   "id": "a58247251ce6e017",
   "outputs": [
    {
     "data": {
      "text/plain": [
       "   age     sex     bmi  children smoker     region      charges\n",
       "0   19  female  27.900         0    yes  southwest  16884.92400\n",
       "1   18    male  33.770         1     no  southeast   1725.55230\n",
       "2   28    male  33.000         3     no  southeast   4449.46200\n",
       "3   33    male  22.705         0     no  northwest  21984.47061\n",
       "4   32    male  28.880         0     no  northwest   3866.85520"
      ],
      "text/html": [
       "<div>\n",
       "<style scoped>\n",
       "    .dataframe tbody tr th:only-of-type {\n",
       "        vertical-align: middle;\n",
       "    }\n",
       "\n",
       "    .dataframe tbody tr th {\n",
       "        vertical-align: top;\n",
       "    }\n",
       "\n",
       "    .dataframe thead th {\n",
       "        text-align: right;\n",
       "    }\n",
       "</style>\n",
       "<table border=\"1\" class=\"dataframe\">\n",
       "  <thead>\n",
       "    <tr style=\"text-align: right;\">\n",
       "      <th></th>\n",
       "      <th>age</th>\n",
       "      <th>sex</th>\n",
       "      <th>bmi</th>\n",
       "      <th>children</th>\n",
       "      <th>smoker</th>\n",
       "      <th>region</th>\n",
       "      <th>charges</th>\n",
       "    </tr>\n",
       "  </thead>\n",
       "  <tbody>\n",
       "    <tr>\n",
       "      <th>0</th>\n",
       "      <td>19</td>\n",
       "      <td>female</td>\n",
       "      <td>27.900</td>\n",
       "      <td>0</td>\n",
       "      <td>yes</td>\n",
       "      <td>southwest</td>\n",
       "      <td>16884.92400</td>\n",
       "    </tr>\n",
       "    <tr>\n",
       "      <th>1</th>\n",
       "      <td>18</td>\n",
       "      <td>male</td>\n",
       "      <td>33.770</td>\n",
       "      <td>1</td>\n",
       "      <td>no</td>\n",
       "      <td>southeast</td>\n",
       "      <td>1725.55230</td>\n",
       "    </tr>\n",
       "    <tr>\n",
       "      <th>2</th>\n",
       "      <td>28</td>\n",
       "      <td>male</td>\n",
       "      <td>33.000</td>\n",
       "      <td>3</td>\n",
       "      <td>no</td>\n",
       "      <td>southeast</td>\n",
       "      <td>4449.46200</td>\n",
       "    </tr>\n",
       "    <tr>\n",
       "      <th>3</th>\n",
       "      <td>33</td>\n",
       "      <td>male</td>\n",
       "      <td>22.705</td>\n",
       "      <td>0</td>\n",
       "      <td>no</td>\n",
       "      <td>northwest</td>\n",
       "      <td>21984.47061</td>\n",
       "    </tr>\n",
       "    <tr>\n",
       "      <th>4</th>\n",
       "      <td>32</td>\n",
       "      <td>male</td>\n",
       "      <td>28.880</td>\n",
       "      <td>0</td>\n",
       "      <td>no</td>\n",
       "      <td>northwest</td>\n",
       "      <td>3866.85520</td>\n",
       "    </tr>\n",
       "  </tbody>\n",
       "</table>\n",
       "</div>"
      ]
     },
     "execution_count": 35,
     "metadata": {},
     "output_type": "execute_result"
    }
   ],
   "execution_count": 35
  },
  {
   "metadata": {
    "ExecuteTime": {
     "end_time": "2025-03-01T20:48:29.999378Z",
     "start_time": "2025-03-01T20:48:29.988880Z"
    }
   },
   "cell_type": "code",
   "source": [
    "#encoding\n",
    "insurance_hot=pd.get_dummies(insurance).astype(int)\n",
    "insurance_hot.head()"
   ],
   "id": "244cc5ab4e0c3a64",
   "outputs": [
    {
     "data": {
      "text/plain": [
       "   age  bmi  children  charges  sex_female  sex_male  smoker_no  smoker_yes  \\\n",
       "0   19   27         0    16884           1         0          0           1   \n",
       "1   18   33         1     1725           0         1          1           0   \n",
       "2   28   33         3     4449           0         1          1           0   \n",
       "3   33   22         0    21984           0         1          1           0   \n",
       "4   32   28         0     3866           0         1          1           0   \n",
       "\n",
       "   region_northeast  region_northwest  region_southeast  region_southwest  \n",
       "0                 0                 0                 0                 1  \n",
       "1                 0                 0                 1                 0  \n",
       "2                 0                 0                 1                 0  \n",
       "3                 0                 1                 0                 0  \n",
       "4                 0                 1                 0                 0  "
      ],
      "text/html": [
       "<div>\n",
       "<style scoped>\n",
       "    .dataframe tbody tr th:only-of-type {\n",
       "        vertical-align: middle;\n",
       "    }\n",
       "\n",
       "    .dataframe tbody tr th {\n",
       "        vertical-align: top;\n",
       "    }\n",
       "\n",
       "    .dataframe thead th {\n",
       "        text-align: right;\n",
       "    }\n",
       "</style>\n",
       "<table border=\"1\" class=\"dataframe\">\n",
       "  <thead>\n",
       "    <tr style=\"text-align: right;\">\n",
       "      <th></th>\n",
       "      <th>age</th>\n",
       "      <th>bmi</th>\n",
       "      <th>children</th>\n",
       "      <th>charges</th>\n",
       "      <th>sex_female</th>\n",
       "      <th>sex_male</th>\n",
       "      <th>smoker_no</th>\n",
       "      <th>smoker_yes</th>\n",
       "      <th>region_northeast</th>\n",
       "      <th>region_northwest</th>\n",
       "      <th>region_southeast</th>\n",
       "      <th>region_southwest</th>\n",
       "    </tr>\n",
       "  </thead>\n",
       "  <tbody>\n",
       "    <tr>\n",
       "      <th>0</th>\n",
       "      <td>19</td>\n",
       "      <td>27</td>\n",
       "      <td>0</td>\n",
       "      <td>16884</td>\n",
       "      <td>1</td>\n",
       "      <td>0</td>\n",
       "      <td>0</td>\n",
       "      <td>1</td>\n",
       "      <td>0</td>\n",
       "      <td>0</td>\n",
       "      <td>0</td>\n",
       "      <td>1</td>\n",
       "    </tr>\n",
       "    <tr>\n",
       "      <th>1</th>\n",
       "      <td>18</td>\n",
       "      <td>33</td>\n",
       "      <td>1</td>\n",
       "      <td>1725</td>\n",
       "      <td>0</td>\n",
       "      <td>1</td>\n",
       "      <td>1</td>\n",
       "      <td>0</td>\n",
       "      <td>0</td>\n",
       "      <td>0</td>\n",
       "      <td>1</td>\n",
       "      <td>0</td>\n",
       "    </tr>\n",
       "    <tr>\n",
       "      <th>2</th>\n",
       "      <td>28</td>\n",
       "      <td>33</td>\n",
       "      <td>3</td>\n",
       "      <td>4449</td>\n",
       "      <td>0</td>\n",
       "      <td>1</td>\n",
       "      <td>1</td>\n",
       "      <td>0</td>\n",
       "      <td>0</td>\n",
       "      <td>0</td>\n",
       "      <td>1</td>\n",
       "      <td>0</td>\n",
       "    </tr>\n",
       "    <tr>\n",
       "      <th>3</th>\n",
       "      <td>33</td>\n",
       "      <td>22</td>\n",
       "      <td>0</td>\n",
       "      <td>21984</td>\n",
       "      <td>0</td>\n",
       "      <td>1</td>\n",
       "      <td>1</td>\n",
       "      <td>0</td>\n",
       "      <td>0</td>\n",
       "      <td>1</td>\n",
       "      <td>0</td>\n",
       "      <td>0</td>\n",
       "    </tr>\n",
       "    <tr>\n",
       "      <th>4</th>\n",
       "      <td>32</td>\n",
       "      <td>28</td>\n",
       "      <td>0</td>\n",
       "      <td>3866</td>\n",
       "      <td>0</td>\n",
       "      <td>1</td>\n",
       "      <td>1</td>\n",
       "      <td>0</td>\n",
       "      <td>0</td>\n",
       "      <td>1</td>\n",
       "      <td>0</td>\n",
       "      <td>0</td>\n",
       "    </tr>\n",
       "  </tbody>\n",
       "</table>\n",
       "</div>"
      ]
     },
     "execution_count": 39,
     "metadata": {},
     "output_type": "execute_result"
    }
   ],
   "execution_count": 39
  },
  {
   "metadata": {
    "ExecuteTime": {
     "end_time": "2025-03-01T20:50:54.796037Z",
     "start_time": "2025-03-01T20:50:54.789924Z"
    }
   },
   "cell_type": "code",
   "source": [
    "X=insurance_hot.drop(\"charges\",axis=1)\n",
    "y=insurance_hot[\"charges\"]\n",
    "y.head()"
   ],
   "id": "9c2fb6419f2f6145",
   "outputs": [
    {
     "data": {
      "text/plain": [
       "0    16884\n",
       "1     1725\n",
       "2     4449\n",
       "3    21984\n",
       "4     3866\n",
       "Name: charges, dtype: int64"
      ]
     },
     "execution_count": 44,
     "metadata": {},
     "output_type": "execute_result"
    }
   ],
   "execution_count": 44
  },
  {
   "metadata": {
    "ExecuteTime": {
     "end_time": "2025-03-01T20:51:48.629534Z",
     "start_time": "2025-03-01T20:51:48.622938Z"
    }
   },
   "cell_type": "code",
   "source": [
    "from sklearn.model_selection import train_test_split\n",
    "X_train, X_test, y_train, y_test = train_test_split(X, y, test_size=0.2, random_state=42)\n",
    "len(X_train),len(X_test),len(y_train),len(y_test)"
   ],
   "id": "612534e7295d3cf9",
   "outputs": [
    {
     "data": {
      "text/plain": [
       "(1070, 268, 1070, 268)"
      ]
     },
     "execution_count": 47,
     "metadata": {},
     "output_type": "execute_result"
    }
   ],
   "execution_count": 47
  },
  {
   "metadata": {
    "ExecuteTime": {
     "end_time": "2025-03-01T20:55:53.112494Z",
     "start_time": "2025-03-01T20:55:52.990297Z"
    }
   },
   "cell_type": "code",
   "source": [
    "\n",
    "tf.random.set_seed(42)\n",
    "insurance_model=Sequential([\n",
    "    Dense(10),\n",
    "    Dense(1),\n",
    "])\n",
    "\n",
    "insurance_model.compile(loss=mean_absolute_error, optimizer=SGD(), metrics=[\"mae\"])\n",
    "\n",
    "insurance_model.fit(tf.expand_dims(X_train, y_train, epochs=10,verbose=2)"
   ],
   "id": "a503e66824e237b4",
   "outputs": [
    {
     "ename": "TypeError",
     "evalue": "Missing required positional argument",
     "output_type": "error",
     "traceback": [
      "\u001B[1;31m---------------------------------------------------------------------------\u001B[0m",
      "\u001B[1;31mTypeError\u001B[0m                                 Traceback (most recent call last)",
      "Cell \u001B[1;32mIn[55], line 9\u001B[0m\n\u001B[0;32m      2\u001B[0m insurance_model\u001B[38;5;241m=\u001B[39mSequential([\n\u001B[0;32m      3\u001B[0m     Dense(\u001B[38;5;241m10\u001B[39m),\n\u001B[0;32m      4\u001B[0m     Dense(\u001B[38;5;241m1\u001B[39m),\n\u001B[0;32m      5\u001B[0m ])\n\u001B[0;32m      7\u001B[0m insurance_model\u001B[38;5;241m.\u001B[39mcompile(loss\u001B[38;5;241m=\u001B[39mmean_absolute_error, optimizer\u001B[38;5;241m=\u001B[39mSGD(), metrics\u001B[38;5;241m=\u001B[39m[\u001B[38;5;124m\"\u001B[39m\u001B[38;5;124mmae\u001B[39m\u001B[38;5;124m\"\u001B[39m])\n\u001B[1;32m----> 9\u001B[0m insurance_model\u001B[38;5;241m.\u001B[39mfit(\u001B[43mtf\u001B[49m\u001B[38;5;241;43m.\u001B[39;49m\u001B[43mexpand_dims\u001B[49m\u001B[43m(\u001B[49m\u001B[43mX_train\u001B[49m\u001B[43m)\u001B[49m, y_train, epochs\u001B[38;5;241m=\u001B[39m\u001B[38;5;241m10\u001B[39m,verbose\u001B[38;5;241m=\u001B[39m\u001B[38;5;241m2\u001B[39m)\n",
      "File \u001B[1;32mD:\\Artificial\\.venv\\Lib\\site-packages\\tensorflow\\python\\ops\\weak_tensor_ops.py:88\u001B[0m, in \u001B[0;36mweak_tensor_unary_op_wrapper.<locals>.wrapper\u001B[1;34m(*args, **kwargs)\u001B[0m\n\u001B[0;32m     86\u001B[0m \u001B[38;5;28;01mdef\u001B[39;00m\u001B[38;5;250m \u001B[39m\u001B[38;5;21mwrapper\u001B[39m(\u001B[38;5;241m*\u001B[39margs, \u001B[38;5;241m*\u001B[39m\u001B[38;5;241m*\u001B[39mkwargs):\n\u001B[0;32m     87\u001B[0m   \u001B[38;5;28;01mif\u001B[39;00m \u001B[38;5;129;01mnot\u001B[39;00m ops\u001B[38;5;241m.\u001B[39mis_auto_dtype_conversion_enabled():\n\u001B[1;32m---> 88\u001B[0m     \u001B[38;5;28;01mreturn\u001B[39;00m \u001B[43mop\u001B[49m\u001B[43m(\u001B[49m\u001B[38;5;241;43m*\u001B[39;49m\u001B[43margs\u001B[49m\u001B[43m,\u001B[49m\u001B[43m \u001B[49m\u001B[38;5;241;43m*\u001B[39;49m\u001B[38;5;241;43m*\u001B[39;49m\u001B[43mkwargs\u001B[49m\u001B[43m)\u001B[49m\n\u001B[0;32m     89\u001B[0m   bound_arguments \u001B[38;5;241m=\u001B[39m signature\u001B[38;5;241m.\u001B[39mbind(\u001B[38;5;241m*\u001B[39margs, \u001B[38;5;241m*\u001B[39m\u001B[38;5;241m*\u001B[39mkwargs)\n\u001B[0;32m     90\u001B[0m   bound_arguments\u001B[38;5;241m.\u001B[39mapply_defaults()\n",
      "File \u001B[1;32mD:\\Artificial\\.venv\\Lib\\site-packages\\tensorflow\\python\\util\\traceback_utils.py:153\u001B[0m, in \u001B[0;36mfilter_traceback.<locals>.error_handler\u001B[1;34m(*args, **kwargs)\u001B[0m\n\u001B[0;32m    151\u001B[0m \u001B[38;5;28;01mexcept\u001B[39;00m \u001B[38;5;167;01mException\u001B[39;00m \u001B[38;5;28;01mas\u001B[39;00m e:\n\u001B[0;32m    152\u001B[0m   filtered_tb \u001B[38;5;241m=\u001B[39m _process_traceback_frames(e\u001B[38;5;241m.\u001B[39m__traceback__)\n\u001B[1;32m--> 153\u001B[0m   \u001B[38;5;28;01mraise\u001B[39;00m e\u001B[38;5;241m.\u001B[39mwith_traceback(filtered_tb) \u001B[38;5;28;01mfrom\u001B[39;00m\u001B[38;5;250m \u001B[39m\u001B[38;5;28;01mNone\u001B[39;00m\n\u001B[0;32m    154\u001B[0m \u001B[38;5;28;01mfinally\u001B[39;00m:\n\u001B[0;32m    155\u001B[0m   \u001B[38;5;28;01mdel\u001B[39;00m filtered_tb\n",
      "File \u001B[1;32mD:\\Artificial\\.venv\\Lib\\site-packages\\tensorflow\\python\\util\\dispatch.py:1254\u001B[0m, in \u001B[0;36madd_dispatch_support.<locals>.decorator.<locals>.op_dispatch_handler\u001B[1;34m(*args, **kwargs)\u001B[0m\n\u001B[0;32m   1252\u001B[0m \u001B[38;5;28;01mif\u001B[39;00m iterable_params \u001B[38;5;129;01mis\u001B[39;00m \u001B[38;5;129;01mnot\u001B[39;00m \u001B[38;5;28;01mNone\u001B[39;00m:\n\u001B[0;32m   1253\u001B[0m   args, kwargs \u001B[38;5;241m=\u001B[39m replace_iterable_params(args, kwargs, iterable_params)\n\u001B[1;32m-> 1254\u001B[0m result \u001B[38;5;241m=\u001B[39m \u001B[43mapi_dispatcher\u001B[49m\u001B[38;5;241;43m.\u001B[39;49m\u001B[43mDispatch\u001B[49m\u001B[43m(\u001B[49m\u001B[43margs\u001B[49m\u001B[43m,\u001B[49m\u001B[43m \u001B[49m\u001B[43mkwargs\u001B[49m\u001B[43m)\u001B[49m\n\u001B[0;32m   1255\u001B[0m \u001B[38;5;28;01mif\u001B[39;00m result \u001B[38;5;129;01mis\u001B[39;00m \u001B[38;5;129;01mnot\u001B[39;00m \u001B[38;5;28mNotImplemented\u001B[39m:\n\u001B[0;32m   1256\u001B[0m   \u001B[38;5;28;01mreturn\u001B[39;00m result\n",
      "\u001B[1;31mTypeError\u001B[0m: Missing required positional argument"
     ]
    }
   ],
   "execution_count": 55
  },
  {
   "metadata": {},
   "cell_type": "code",
   "outputs": [],
   "execution_count": null,
   "source": "",
   "id": "f7e0156399030a31"
  },
  {
   "metadata": {},
   "cell_type": "code",
   "outputs": [],
   "execution_count": null,
   "source": "",
   "id": "51b577eff2754102"
  }
 ],
 "metadata": {
  "kernelspec": {
   "display_name": "Python 3",
   "language": "python",
   "name": "python3"
  },
  "language_info": {
   "codemirror_mode": {
    "name": "ipython",
    "version": 2
   },
   "file_extension": ".py",
   "mimetype": "text/x-python",
   "name": "python",
   "nbconvert_exporter": "python",
   "pygments_lexer": "ipython2",
   "version": "2.7.6"
  }
 },
 "nbformat": 4,
 "nbformat_minor": 5
}
