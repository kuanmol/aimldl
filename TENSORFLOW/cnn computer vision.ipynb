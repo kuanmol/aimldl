{
 "cells": [
  {
   "cell_type": "code",
   "execution_count": 7,
   "id": "initial_id",
   "metadata": {
    "ExecuteTime": {
     "end_time": "2025-03-03T12:14:54.248053Z",
     "start_time": "2025-03-03T12:14:54.244720Z"
    },
    "collapsed": true,
    "jupyter": {
     "outputs_hidden": true
    }
   },
   "outputs": [],
   "source": [
    "import tensorflow as tf\n",
    "import zipfile"
   ]
  },
  {
   "cell_type": "code",
   "execution_count": 11,
   "id": "a3a36581c8def127",
   "metadata": {
    "ExecuteTime": {
     "end_time": "2025-03-03T12:17:17.281671Z",
     "start_time": "2025-03-03T12:17:05.646751Z"
    }
   },
   "outputs": [
    {
     "name": "stderr",
     "output_type": "stream",
     "text": [
      "  % Total    % Received % Xferd  Average Speed   Time    Time     Time  Current\n",
      "                                 Dload  Upload   Total   Spent    Left  Speed\n",
      "\n",
      "  0     0    0     0    0     0      0      0 --:--:-- --:--:-- --:--:--     0\n",
      "  0  104M    0 15139    0     0  26307      0  1:09:23 --:--:--  1:09:23 26328\n",
      "  0  104M    0  146k    0     0  96919      0  0:18:50  0:00:01  0:18:49 96949\n",
      "  1  104M    1 1326k    0     0   531k      0  0:03:21  0:00:02  0:03:19  531k\n",
      " 11  104M   11 12.1M    0     0  3539k      0  0:00:30  0:00:03  0:00:27 3540k\n",
      " 25  104M   25 26.4M    0     0  6005k      0  0:00:17  0:00:04  0:00:13 6006k\n",
      " 38  104M   38 40.6M    0     0  7575k      0  0:00:14  0:00:05  0:00:09 8458k\n",
      " 51  104M   51 53.2M    0     0  8372k      0  0:00:12  0:00:06  0:00:06 10.6M\n",
      " 65  104M   65 68.0M    0     0  9231k      0  0:00:11  0:00:07  0:00:04 13.2M\n",
      " 76  104M   76 79.8M    0     0  9524k      0  0:00:11  0:00:08  0:00:03 13.3M\n",
      " 90  104M   90 94.5M    0     0   9.8M      0  0:00:10  0:00:09  0:00:01 13.3M\n",
      "100  104M  100  104M    0     0  10.2M      0  0:00:10  0:00:10 --:--:-- 13.5M\n",
      "'wget' is not recognized as an internal or external command,\n",
      "operable program or batch file.\n"
     ]
    },
    {
     "data": {
      "text/plain": [
       "<zipfile.ZipFile [closed]>"
      ]
     },
     "execution_count": 11,
     "metadata": {},
     "output_type": "execute_result"
    }
   ],
   "source": [
    "!curl -O https://storage.googleapis.com/ztm_tf_course/food_vision/pizza_steak.zip\n",
    "\n",
    "!wget https://storage.googleapis.com/ztm_tf_course/food_vision/pizza_steak.zip\n",
    "zip = zipfile.ZipFile('pizza_steak.zip')\n",
    "zip.extractall()\n",
    "zip.close()\n",
    "zip"
   ]
  },
  {
   "cell_type": "code",
   "execution_count": 14,
   "id": "a186731ca691e16b",
   "metadata": {
    "ExecuteTime": {
     "end_time": "2025-03-03T12:21:38.588258Z",
     "start_time": "2025-03-03T12:21:38.581236Z"
    }
   },
   "outputs": [
    {
     "name": "stdout",
     "output_type": "stream",
     "text": [
      "there are 2 directories and 0 images in pizza_steak\n",
      "there are 2 directories and 0 images in pizza_steak\\test\n",
      "there are 0 directories and 250 images in pizza_steak\\test\\pizza\n",
      "there are 0 directories and 250 images in pizza_steak\\test\\steak\n",
      "there are 2 directories and 0 images in pizza_steak\\train\n",
      "there are 0 directories and 750 images in pizza_steak\\train\\pizza\n",
      "there are 0 directories and 750 images in pizza_steak\\train\\steak\n"
     ]
    }
   ],
   "source": [
    "import os\n",
    "for dirpath, dirnames, filenames in os.walk('pizza_steak'):\n",
    "    print(f\"there are {len(dirnames)} directories and {len(filenames)} images in {dirpath}\")"
   ]
  },
  {
   "cell_type": "code",
   "id": "93a4ae300da932a",
   "metadata": {
    "ExecuteTime": {
     "end_time": "2025-03-03T17:39:21.254137Z",
     "start_time": "2025-03-03T17:39:03.407482Z"
    }
   },
   "source": [
    "import tensorflow as tf\n",
    "print(tf.config.list_physical_devices('GPU'))\n"
   ],
   "outputs": [
    {
     "name": "stdout",
     "output_type": "stream",
     "text": [
      "[]\n"
     ]
    }
   ],
   "execution_count": 2
  },
  {
   "cell_type": "code",
   "id": "c5a1780f-8380-42cc-92d8-b2f8dfa9f43b",
   "metadata": {
    "ExecuteTime": {
     "end_time": "2025-03-03T17:41:45.960449Z",
     "start_time": "2025-03-03T17:41:45.955436Z"
    }
   },
   "source": [
    "import pathlib\n",
    "import numpy as np\n",
    "data_dir=pathlib.Path('pizza_steak/train')\n",
    "class_names=np.array(sorted([item.name for item in data_dir.glob(\"*\")]))\n",
    "print(class_names)\n"
   ],
   "outputs": [
    {
     "name": "stdout",
     "output_type": "stream",
     "text": [
      "['pizza' 'steak']\n"
     ]
    }
   ],
   "execution_count": 3
  }
 ],
 "metadata": {
  "kernelspec": {
   "display_name": "Python 3 (ipykernel)",
   "language": "python",
   "name": "python3"
  },
  "language_info": {
   "codemirror_mode": {
    "name": "ipython",
    "version": 3
   },
   "file_extension": ".py",
   "mimetype": "text/x-python",
   "name": "python",
   "nbconvert_exporter": "python",
   "pygments_lexer": "ipython3",
   "version": "3.11.0rc1"
  }
 },
 "nbformat": 4,
 "nbformat_minor": 5
}
