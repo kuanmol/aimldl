{
 "cells": [
  {
   "cell_type": "code",
   "id": "initial_id",
   "metadata": {
    "collapsed": true,
    "ExecuteTime": {
     "end_time": "2025-03-01T09:51:35.586068Z",
     "start_time": "2025-03-01T09:51:30.393589Z"
    }
   },
   "source": [
    "import tensorflow as tf\n",
    "print(tf.__version__)"
   ],
   "outputs": [
    {
     "name": "stdout",
     "output_type": "stream",
     "text": [
      "2.18.0\n"
     ]
    }
   ],
   "execution_count": 1
  },
  {
   "metadata": {
    "ExecuteTime": {
     "end_time": "2025-03-01T09:51:35.688431Z",
     "start_time": "2025-03-01T09:51:35.662116Z"
    }
   },
   "cell_type": "code",
   "source": [
    "scalar=tf.constant(7)\n",
    "scalar\n",
    "scalar.ndim"
   ],
   "id": "1e947bacf315a8dc",
   "outputs": [
    {
     "data": {
      "text/plain": [
       "0"
      ]
     },
     "execution_count": 2,
     "metadata": {},
     "output_type": "execute_result"
    }
   ],
   "execution_count": 2
  },
  {
   "metadata": {
    "ExecuteTime": {
     "end_time": "2025-03-01T09:51:35.790410Z",
     "start_time": "2025-03-01T09:51:35.785410Z"
    }
   },
   "cell_type": "code",
   "source": [
    "vector=tf.constant([1,2,3,4,5])\n",
    "vector\n",
    "vector.ndim"
   ],
   "id": "1c83490ff0eb5a47",
   "outputs": [
    {
     "data": {
      "text/plain": [
       "1"
      ]
     },
     "execution_count": 3,
     "metadata": {},
     "output_type": "execute_result"
    }
   ],
   "execution_count": 3
  },
  {
   "metadata": {
    "ExecuteTime": {
     "end_time": "2025-03-01T09:51:44.870655Z",
     "start_time": "2025-03-01T09:51:44.865622Z"
    }
   },
   "cell_type": "code",
   "source": [
    "matrix=tf.constant([[1,2],[3,4]])\n",
    "print(matrix)\n",
    "matrix.ndim"
   ],
   "id": "bbf7a9f6dd7fb835",
   "outputs": [
    {
     "name": "stdout",
     "output_type": "stream",
     "text": [
      "tf.Tensor(\n",
      "[[1 2]\n",
      " [3 4]], shape=(2, 2), dtype=int32)\n"
     ]
    },
    {
     "data": {
      "text/plain": [
       "2"
      ]
     },
     "execution_count": 5,
     "metadata": {},
     "output_type": "execute_result"
    }
   ],
   "execution_count": 5
  },
  {
   "metadata": {
    "ExecuteTime": {
     "end_time": "2025-03-01T09:51:35.873038Z",
     "start_time": "2025-03-01T09:51:35.870042Z"
    }
   },
   "cell_type": "code",
   "source": "",
   "id": "20815ef155418030",
   "outputs": [],
   "execution_count": null
  },
  {
   "metadata": {
    "ExecuteTime": {
     "end_time": "2025-03-01T09:51:35.905036Z",
     "start_time": "2025-03-01T09:51:35.903020Z"
    }
   },
   "cell_type": "code",
   "source": "",
   "id": "c5dda959cc270443",
   "outputs": [],
   "execution_count": null
  },
  {
   "metadata": {
    "ExecuteTime": {
     "end_time": "2025-03-01T09:51:35.934638Z",
     "start_time": "2025-03-01T09:51:35.932179Z"
    }
   },
   "cell_type": "code",
   "source": "",
   "id": "d1d8b58817f0e0c9",
   "outputs": [],
   "execution_count": null
  },
  {
   "metadata": {
    "ExecuteTime": {
     "end_time": "2025-03-01T09:51:35.962748Z",
     "start_time": "2025-03-01T09:51:35.959644Z"
    }
   },
   "cell_type": "code",
   "source": "",
   "id": "21fc882afa433766",
   "outputs": [],
   "execution_count": null
  },
  {
   "metadata": {
    "ExecuteTime": {
     "end_time": "2025-03-01T09:51:35.975282Z",
     "start_time": "2025-03-01T09:51:35.972893Z"
    }
   },
   "cell_type": "code",
   "source": "",
   "id": "a0a8f85848223220",
   "outputs": [],
   "execution_count": null
  },
  {
   "metadata": {
    "ExecuteTime": {
     "end_time": "2025-03-01T09:51:35.990291Z",
     "start_time": "2025-03-01T09:51:35.987132Z"
    }
   },
   "cell_type": "code",
   "source": "",
   "id": "eff0452937eccff6",
   "outputs": [],
   "execution_count": null
  },
  {
   "metadata": {
    "ExecuteTime": {
     "end_time": "2025-03-01T09:51:36.015286Z",
     "start_time": "2025-03-01T09:51:36.012995Z"
    }
   },
   "cell_type": "code",
   "source": "",
   "id": "6660382e3ede618d",
   "outputs": [],
   "execution_count": null
  },
  {
   "metadata": {
    "ExecuteTime": {
     "end_time": "2025-03-01T09:51:36.033296Z",
     "start_time": "2025-03-01T09:51:36.030301Z"
    }
   },
   "cell_type": "code",
   "source": "",
   "id": "2aca5b5abcd94c30",
   "outputs": [],
   "execution_count": null
  },
  {
   "metadata": {
    "ExecuteTime": {
     "end_time": "2025-03-01T09:51:36.056937Z",
     "start_time": "2025-03-01T09:51:36.054634Z"
    }
   },
   "cell_type": "code",
   "source": "",
   "id": "6373d9b8ef4e538b",
   "outputs": [],
   "execution_count": null
  },
  {
   "metadata": {
    "ExecuteTime": {
     "end_time": "2025-03-01T09:51:36.071226Z",
     "start_time": "2025-03-01T09:51:36.068227Z"
    }
   },
   "cell_type": "code",
   "source": "",
   "id": "954f8a64e0196a37",
   "outputs": [],
   "execution_count": null
  },
  {
   "metadata": {
    "ExecuteTime": {
     "end_time": "2025-03-01T09:51:36.084482Z",
     "start_time": "2025-03-01T09:51:36.081440Z"
    }
   },
   "cell_type": "code",
   "source": "",
   "id": "6b05015364b04989",
   "outputs": [],
   "execution_count": null
  },
  {
   "metadata": {
    "ExecuteTime": {
     "end_time": "2025-03-01T09:51:36.104296Z",
     "start_time": "2025-03-01T09:51:36.101300Z"
    }
   },
   "cell_type": "code",
   "source": "",
   "id": "75db21dd7d332053",
   "outputs": [],
   "execution_count": null
  },
  {
   "metadata": {
    "ExecuteTime": {
     "end_time": "2025-03-01T09:51:36.114252Z",
     "start_time": "2025-03-01T09:51:36.111815Z"
    }
   },
   "cell_type": "code",
   "source": "",
   "id": "6e4fe2f62e278f9b",
   "outputs": [],
   "execution_count": null
  },
  {
   "metadata": {
    "ExecuteTime": {
     "end_time": "2025-03-01T09:51:36.126213Z",
     "start_time": "2025-03-01T09:51:36.124308Z"
    }
   },
   "cell_type": "code",
   "source": "",
   "id": "54f4a800426a1538",
   "outputs": [],
   "execution_count": null
  },
  {
   "metadata": {
    "ExecuteTime": {
     "end_time": "2025-03-01T09:51:36.147558Z",
     "start_time": "2025-03-01T09:51:36.144705Z"
    }
   },
   "cell_type": "code",
   "source": "",
   "id": "737eebbc7741bf08",
   "outputs": [],
   "execution_count": null
  },
  {
   "metadata": {
    "ExecuteTime": {
     "end_time": "2025-03-01T09:51:36.166140Z",
     "start_time": "2025-03-01T09:51:36.163792Z"
    }
   },
   "cell_type": "code",
   "source": "",
   "id": "981141b44de9ab5d",
   "outputs": [],
   "execution_count": null
  },
  {
   "metadata": {
    "ExecuteTime": {
     "end_time": "2025-03-01T09:51:36.186756Z",
     "start_time": "2025-03-01T09:51:36.183941Z"
    }
   },
   "cell_type": "code",
   "source": "",
   "id": "efc9330154cb2261",
   "outputs": [],
   "execution_count": null
  }
 ],
 "metadata": {
  "kernelspec": {
   "display_name": "Python 3",
   "language": "python",
   "name": "python3"
  },
  "language_info": {
   "codemirror_mode": {
    "name": "ipython",
    "version": 2
   },
   "file_extension": ".py",
   "mimetype": "text/x-python",
   "name": "python",
   "nbconvert_exporter": "python",
   "pygments_lexer": "ipython2",
   "version": "2.7.6"
  }
 },
 "nbformat": 4,
 "nbformat_minor": 5
}
