{
 "cells": [
  {
   "cell_type": "code",
   "id": "5cc0bd8dfddb438d",
   "metadata": {},
   "source": [
    "import tensorflow as tf\n",
    "from keras_preprocessing import image\n",
    "train_dir = '10_food_classes_10_percent/train'\n",
    "test_dir = '10_food_classes_10_percent/test'\n",
    "IMG_SIZE = (224,224)\n",
    "BATCH_SIZE = 32\n",
    "train_data_10_percent=tf.keras.preprocessing.image_dataset_from_directory(directory=train_dir,\n",
    "                                                                          image_size=IMG_SIZE,\n",
    "                                                                          label_mode=\"categorical\",\n",
    "                                                                          batch_size=BATCH_SIZE)\n",
    "test_data=tf.keras.preprocessing.image_dataset_from_directory(directory=test_dir,\n",
    "                                                              image_size=IMG_SIZE,\n",
    "                                                              label_mode=\"categorical\",\n",
    "                                                              batch_size=BATCH_SIZE)"
   ],
   "outputs": [],
   "execution_count": null
  },
  {
   "metadata": {},
   "cell_type": "markdown",
   "source": "### MODEL 0 transfer learning model using functional api\n",
   "id": "ab9375be1b49f944"
  },
  {
   "metadata": {},
   "cell_type": "code",
   "source": [
    "from keras.api.applications import EfficientNetB0\n",
    "from keras.api.layers import Flatten, Dense, GlobalAveragePooling2D, Dropout, Input\n",
    "\n",
    "#create base model\n",
    "base_model = EfficientNetB0(include_top=False)\n",
    "\n",
    "#freeze base model\n",
    "base_model.trainable = False\n",
    "\n",
    "#create input into our model\n",
    "inputs = Input(shape=(224, 224, 3), name=\"input_layer\")\n",
    "\n",
    "#pass the input to the base model\n",
    "x=base_model(inputs)\n",
    "print(f\"Shape after passign input through the base model: {x.shape}\")\n",
    "\n",
    "x=GlobalAveragePooling2D(name=\"global_average_pooling_layer\")(x)\n",
    "print(f\"Shape after global average pooling layer: {x.shape}\")\n",
    "\n",
    "outputs = Dense(10, activation=\"softmax\", name=\"output_layer\")(x)\n",
    "\n"
   ],
   "id": "190db08aeffd2302",
   "outputs": [],
   "execution_count": null
  },
  {
   "metadata": {},
   "cell_type": "code",
   "source": "",
   "id": "1a878f55105e2e18",
   "outputs": [],
   "execution_count": null
  },
  {
   "metadata": {},
   "cell_type": "code",
   "source": "",
   "id": "1724b0e9802a5d94",
   "outputs": [],
   "execution_count": null
  },
  {
   "metadata": {},
   "cell_type": "code",
   "source": "",
   "id": "9654fb3890ef649b",
   "outputs": [],
   "execution_count": null
  },
  {
   "metadata": {},
   "cell_type": "code",
   "source": "",
   "id": "30e4b193a69c8f9",
   "outputs": [],
   "execution_count": null
  },
  {
   "metadata": {},
   "cell_type": "code",
   "source": "",
   "id": "39a34a8b20a530c9",
   "outputs": [],
   "execution_count": null
  },
  {
   "metadata": {},
   "cell_type": "code",
   "source": "",
   "id": "d5e667a028bb40a7",
   "outputs": [],
   "execution_count": null
  },
  {
   "metadata": {},
   "cell_type": "code",
   "source": "",
   "id": "eb0904e361308694",
   "outputs": [],
   "execution_count": null
  },
  {
   "metadata": {
    "collapsed": true
   },
   "cell_type": "code",
   "source": "",
   "id": "initial_id",
   "outputs": [],
   "execution_count": null
  }
 ],
 "metadata": {
  "kernelspec": {
   "display_name": "Python 3",
   "language": "python",
   "name": "python3"
  },
  "language_info": {
   "codemirror_mode": {
    "name": "ipython",
    "version": 2
   },
   "file_extension": ".py",
   "mimetype": "text/x-python",
   "name": "python",
   "nbconvert_exporter": "python",
   "pygments_lexer": "ipython2",
   "version": "2.7.6"
  }
 },
 "nbformat": 4,
 "nbformat_minor": 5
}
