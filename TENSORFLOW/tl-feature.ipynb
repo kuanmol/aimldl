{
 "cells": [
  {
   "cell_type": "code",
   "id": "initial_id",
   "metadata": {},
   "source": [
    "import tensorflow as tf\n",
    "\n",
    "print(\"Num GPUs Available:\", len(tf.config.list_physical_devices('GPU')))\n",
    "print(tf.config.list_physical_devices('GPU'))"
   ],
   "outputs": [],
   "execution_count": null
  },
  {
   "cell_type": "code",
   "id": "5a57d5926b2a0bc1",
   "metadata": {},
   "source": [
    "import zipfile\n",
    "!curl -O https://storage.googleapis.com/ztm_tf_course/food_vision/10_food_classes_10_percent.zip\n",
    "\n",
    "zip_ref=zipfile.ZipFile('10_food_classes_10_percent.zip')\n",
    "zip_ref.extractall()\n",
    "zip_ref.close()"
   ],
   "outputs": [],
   "execution_count": null
  },
  {
   "cell_type": "code",
   "id": "2c735c8e389992aa",
   "metadata": {},
   "source": [
    "import os\n",
    "\n",
    "for dirpath, dirnames, filenames in os.walk(\"10_food_classes_10_percent\"):\n",
    "  print(f\"There are {len(dirnames)} directories and {len(filenames)} images in '{dirpath}'.\")"
   ],
   "outputs": [],
   "execution_count": null
  },
  {
   "cell_type": "code",
   "id": "31fa3c5a39e67208",
   "metadata": {},
   "source": [
    "\n",
    "# Setup data inputs\n",
    "from keras_preprocessing.image import ImageDataGenerator\n",
    "\n",
    "IMAGE_SHAPE = (224, 224)\n",
    "BATCH_SIZE = 32\n",
    "\n",
    "# train_dir = \"/workspace/Artificial/TENSORFLOW/10_food_classes_10_percent/train\"\n",
    "# test_dir = \"/workspace/Artificial/TENSORFLOW/10_food_classes_10_percent/test\"\n",
    "\n",
    "train_dir = '10_food_classes_10_percent/train'\n",
    "test_dir = '10_food_classes_10_percent/test'\n",
    "train_datagen = ImageDataGenerator(rescale=1/255.)\n",
    "test_datagen = ImageDataGenerator(rescale=1/255.)\n",
    "\n",
    "print(\"Training images:\")\n",
    "train_data_10_percent = train_datagen.flow_from_directory(train_dir,\n",
    "                                               target_size=IMAGE_SHAPE,\n",
    "                                               batch_size=BATCH_SIZE,\n",
    "                                               class_mode=\"categorical\")\n",
    "\n",
    "print(\"Testing images:\")\n",
    "test_data = train_datagen.flow_from_directory(test_dir,\n",
    "                                              target_size=IMAGE_SHAPE,\n",
    "                                              batch_size=BATCH_SIZE,\n",
    "                                              class_mode=\"categorical\")"
   ],
   "outputs": [],
   "execution_count": null
  },
  {
   "cell_type": "code",
   "id": "1d62420d48fdc1a4",
   "metadata": {},
   "source": [
    "from keras.api.callbacks import TensorBoard\n",
    "import datetime\n",
    "def create_tensorboard_callback(dir_name, experiment_name):\n",
    "    log_dir = dir_name + \"/\" + experiment_name + \"/\" + datetime.datetime.now().strftime(\"%Y%m%d-%H%M%S\")\n",
    "    tensorboard_callback=TensorBoard(log_dir=log_dir)\n",
    "    print(f\"Saving Tensorboard logs to {log_dir}\")\n",
    "    return tensorboard_callback"
   ],
   "outputs": [],
   "execution_count": null
  },
  {
   "cell_type": "code",
   "id": "41360b9d4c460c56",
   "metadata": {},
   "source": [
    "import tensorflow as tf\n",
    "from keras.api.layers import Dense,GlobalAveragePooling2D\n",
    "from keras.api.applications import ResNet50V2\n",
    "from keras.api.models import Sequential\n",
    "from keras.api.callbacks import TensorBoard\n",
    "import datetime"
   ],
   "outputs": [],
   "execution_count": null
  },
  {
   "cell_type": "code",
   "id": "d84aeada161073fb",
   "metadata": {},
   "source": [
    "\n",
    "\n",
    "# Define image shape\n",
    "IMAGE_SHAPE = (224, 224)\n",
    "\n",
    "# Load ResNet50V2 model without the top classification layer\n",
    "base_model = ResNet50V2(weights='imagenet', include_top=False, input_shape=IMAGE_SHAPE + (3,))\n",
    "base_model.trainable = False  # Freeze the base model layers\n",
    "\n",
    "# Create the new model\n",
    "model = Sequential([\n",
    "    base_model,\n",
    "    GlobalAveragePooling2D(),  # Reduce feature maps to a single vector\n",
    "    Dense(10, activation='softmax', name='output_layer')  # Output layer with 10 classes\n",
    "])"
   ],
   "outputs": [],
   "execution_count": null
  },
  {
   "metadata": {},
   "cell_type": "code",
   "source": [
    "\n",
    "# Compile the model\n",
    "model.compile(\n",
    "    loss='categorical_crossentropy',\n",
    "    optimizer=tf.keras.optimizers.Adam(),\n",
    "    metrics=['accuracy']\n",
    ")"
   ],
   "id": "c5667158240d7d25",
   "outputs": [],
   "execution_count": null
  },
  {
   "metadata": {},
   "cell_type": "code",
   "source": [
    "history = model.fit(\n",
    "    train_data_10_percent,\n",
    "    epochs=5,\n",
    "    steps_per_epoch=len(train_data_10_percent),\n",
    "    validation_data=test_data,\n",
    "    validation_steps=len(test_data),\n",
    "    callbacks=[create_tensorboard_callback(dir_name=\"tensorflow_keras\", experiment_name=\"resnet50V2\")],\n",
    "    verbose=2\n",
    ")\n"
   ],
   "id": "bdc2fc6782b892a9",
   "outputs": [],
   "execution_count": null
  },
  {
   "cell_type": "code",
   "id": "706a5c14e7a4fe77",
   "metadata": {},
   "source": [
    "import matplotlib.pyplot as plt\n",
    "\n",
    "def plot_loss_curves(history):\n",
    "\n",
    "  loss = history.history['loss']\n",
    "  val_loss = history.history['val_loss']\n",
    "\n",
    "  accuracy = history.history['accuracy']\n",
    "  val_accuracy = history.history['val_accuracy']\n",
    "\n",
    "  epochs = range(len(history.history['loss']))\n",
    "\n",
    "  # Plot loss\n",
    "  plt.plot(epochs, loss, label='training_loss')\n",
    "  plt.plot(epochs, val_loss, label='val_loss')\n",
    "  plt.title('Loss')\n",
    "  plt.xlabel('Epochs')\n",
    "  plt.legend()\n",
    "\n",
    "  # Plot accuracy\n",
    "  plt.figure()\n",
    "  plt.plot(epochs, accuracy, label='training_accuracy')\n",
    "  plt.plot(epochs, val_accuracy, label='val_accuracy')\n",
    "  plt.title('Accuracy')\n",
    "  plt.xlabel('Epochs')\n",
    "  plt.legend();\n",
    "plot_loss_curves(history)"
   ],
   "outputs": [],
   "execution_count": null
  },
  {
   "metadata": {},
   "cell_type": "code",
   "source": "model.summary()",
   "id": "e2a9a32b4fe759a3",
   "outputs": [],
   "execution_count": null
  },
  {
   "metadata": {},
   "cell_type": "code",
   "source": [
    "from keras.api.applications import EfficientNetV2B0\n",
    "\n",
    "IMAGE_SHAPE = (224, 224)\n",
    "\n",
    "base_model = EfficientNetV2B0(weights='imagenet', include_top=False, input_shape=IMAGE_SHAPE + (3,))\n",
    "base_model.trainable = False\n",
    "\n",
    "efficientnet_model = Sequential([\n",
    "    base_model,\n",
    "    GlobalAveragePooling2D(),\n",
    "    Dense(10, activation='softmax', name='output_layer')\n",
    "])\n",
    "\n",
    "efficientnet_model.compile(\n",
    "    loss='categorical_crossentropy',\n",
    "    optimizer=tf.keras.optimizers.Adam(),\n",
    "    metrics=['accuracy']\n",
    ")"
   ],
   "id": "1b99a9fcdeea86a7",
   "outputs": [],
   "execution_count": null
  },
  {
   "metadata": {},
   "cell_type": "code",
   "source": [
    "efficientnet_history = efficientnet_model.fit(\n",
    "    train_data_10_percent,\n",
    "    epochs=5,\n",
    "    steps_per_epoch=len(train_data_10_percent),\n",
    "    validation_data=test_data,\n",
    "    validation_steps=len(test_data),\n",
    "    callbacks=[create_tensorboard_callback(dir_name=\"tensorflow_keras\", experiment_name=\"efficientnetB0\")],\n",
    "    verbose=2\n",
    ")"
   ],
   "id": "56f2f8a4c7c8aead",
   "outputs": [],
   "execution_count": null
  },
  {
   "metadata": {},
   "cell_type": "code",
   "source": "",
   "id": "d744d334482ddf95",
   "outputs": [],
   "execution_count": null
  },
  {
   "metadata": {},
   "cell_type": "code",
   "source": "",
   "id": "b15652a7ddbd6cd3",
   "outputs": [],
   "execution_count": null
  },
  {
   "metadata": {},
   "cell_type": "code",
   "source": "",
   "id": "840de7a0059d712a",
   "outputs": [],
   "execution_count": null
  },
  {
   "metadata": {},
   "cell_type": "code",
   "source": "",
   "id": "e57fc99081b9da84",
   "outputs": [],
   "execution_count": null
  },
  {
   "metadata": {},
   "cell_type": "code",
   "source": "",
   "id": "13cb76c7-a483-4138-a0c8-a88c81276555",
   "outputs": [],
   "execution_count": null
  }
 ],
 "metadata": {
  "kernelspec": {
   "display_name": "Python 3 (ipykernel)",
   "language": "python",
   "name": "python3"
  },
  "language_info": {
   "codemirror_mode": {
    "name": "ipython",
    "version": 3
   },
   "file_extension": ".py",
   "mimetype": "text/x-python",
   "name": "python",
   "nbconvert_exporter": "python",
   "pygments_lexer": "ipython3",
   "version": "3.11.0rc1"
  }
 },
 "nbformat": 4,
 "nbformat_minor": 5
}
