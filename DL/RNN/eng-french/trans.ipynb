{
 "cells": [
  {
   "cell_type": "code",
   "id": "d4b646c08f03b13c",
   "metadata": {
    "ExecuteTime": {
     "end_time": "2025-05-27T04:27:02.182515Z",
     "start_time": "2025-05-27T04:26:57.853596Z"
    }
   },
   "source": [
    "import pandas as pd\n",
    "import torch\n",
    "import torch.nn as nn\n",
    "from torch.utils.data import Dataset, DataLoader\n",
    "from sklearn.model_selection import train_test_split\n",
    "from collections import Counter\n",
    "import numpy as np\n",
    "import uuid\n",
    "torch.manual_seed(42)\n",
    "\n",
    "# Device configuration\n",
    "device = torch.device(\"cuda\" if torch.cuda.is_available() else \"cpu\")\n",
    "print(f\"Using device: {device}\")\n",
    "\n",
    "# Load data\n",
    "# Replace with your actual file path\n",
    "file_path = \"eng_-french.csv\"\n",
    "df = pd.read_csv(file_path)\n",
    "print(df.head())"
   ],
   "outputs": [
    {
     "name": "stdout",
     "output_type": "stream",
     "text": [
      "Using device: cuda\n",
      "  English words/sentences French words/sentences\n",
      "0                     Hi.                 Salut!\n",
      "1                    Run!                Cours !\n",
      "2                    Run!               Courez !\n",
      "3                    Who?                  Qui ?\n",
      "4                    Wow!             Ça alors !\n"
     ]
    }
   ],
   "execution_count": 1
  },
  {
   "metadata": {
    "ExecuteTime": {
     "end_time": "2025-05-27T04:27:02.191298Z",
     "start_time": "2025-05-27T04:27:02.182515Z"
    }
   },
   "cell_type": "code",
   "source": [
    "def build_vocab(sentences, min_freq=2):\n",
    "    vocab = {\"<pad>\": 0, \"<sos>\": 1, \"<eos>\": 2, \"<unk>\": 3}\n",
    "    counter = Counter()\n",
    "\n",
    "    for sentence in sentences:\n",
    "        for word in sentence.lower().split():\n",
    "            word = word.strip(\".,!?;:()\\\"'\")\n",
    "            counter[word] += 1\n",
    "\n",
    "    idx = len(vocab)\n",
    "    for word, freq in counter.items():\n",
    "        if freq >= min_freq and word not in vocab:\n",
    "            vocab[word] = idx\n",
    "            idx += 1\n",
    "    return vocab\n"
   ],
   "id": "4a8ccdff5242e534",
   "outputs": [],
   "execution_count": 2
  },
  {
   "metadata": {
    "ExecuteTime": {
     "end_time": "2025-05-27T04:27:02.996677Z",
     "start_time": "2025-05-27T04:27:02.338660Z"
    }
   },
   "cell_type": "code",
   "source": [
    "english_sentences = df['English words/sentences'].tolist()\n",
    "french_sentences = df['French words/sentences'].tolist()\n",
    "eng_vocab = build_vocab(english_sentences, min_freq=2)\n",
    "fr_vocab = build_vocab(french_sentences, min_freq=2)\n",
    "print(f\"English vocab size: {len(eng_vocab)}\")\n",
    "print(f\"French vocab size: {len(fr_vocab)}\")\n",
    "\n",
    "def tokenize_sentence(sentence, vocab, add_sos_eos=False, max_len=30):\n",
    "    tokens = []\n",
    "    if add_sos_eos:\n",
    "        tokens.append(vocab[\"<sos>\"])\n",
    "\n",
    "    for word in sentence.lower().split():\n",
    "        word = word.strip(\".,!?;:()\\\"'\")\n",
    "        tokens.append(vocab.get(word, vocab[\"<unk>\"]))\n",
    "\n",
    "    if add_sos_eos:\n",
    "        tokens.append(vocab[\"<eos>\"])\n",
    "\n",
    "    if len(tokens) > max_len:\n",
    "        tokens = tokens[:max_len]\n",
    "    else:\n",
    "        tokens += [vocab[\"<pad>\"]] * (max_len - len(tokens))\n",
    "\n",
    "    return tokens\n",
    "\n",
    "# Test tokenization\n",
    "print(tokenize_sentence(\"I love this movie.\", eng_vocab))\n",
    "print(tokenize_sentence(\"J'aime ce film.\", fr_vocab, add_sos_eos=True))\n"
   ],
   "id": "6dd23b1719d62a8d",
   "outputs": [
    {
     "name": "stdout",
     "output_type": "stream",
     "text": [
      "English vocab size: 10109\n",
      "French vocab size: 18110\n",
      "[16, 269, 120, 2249, 0, 0, 0, 0, 0, 0, 0, 0, 0, 0, 0, 0, 0, 0, 0, 0, 0, 0, 0, 0, 0, 0, 0, 0, 0, 0]\n",
      "[1, 537, 723, 4304, 2, 0, 0, 0, 0, 0, 0, 0, 0, 0, 0, 0, 0, 0, 0, 0, 0, 0, 0, 0, 0, 0, 0, 0, 0, 0]\n"
     ]
    }
   ],
   "execution_count": 3
  },
  {
   "metadata": {
    "ExecuteTime": {
     "end_time": "2025-05-27T04:27:03.007398Z",
     "start_time": "2025-05-27T04:27:02.997949Z"
    }
   },
   "cell_type": "code",
   "source": [
    "class TranslationDataset(Dataset):\n",
    "    def __init__(self, source_sentences, target_sentences, src_vocab, tgt_vocab, max_len=30):\n",
    "        self.source_sentences = source_sentences\n",
    "        self.target_sentences = target_sentences\n",
    "        self.src_vocab = src_vocab\n",
    "        self.tgt_vocab = tgt_vocab\n",
    "        self.max_len = max_len\n",
    "\n",
    "    def __len__(self):\n",
    "        return len(self.source_sentences)\n",
    "\n",
    "    def __getitem__(self, idx):\n",
    "        src = self.source_sentences[idx]\n",
    "        tgt = self.target_sentences[idx]\n",
    "        src_tokens = tokenize_sentence(src, self.src_vocab, add_sos_eos=False, max_len=self.max_len)\n",
    "        tgt_tokens = tokenize_sentence(tgt, self.tgt_vocab, add_sos_eos=True, max_len=self.max_len)\n",
    "        return torch.tensor(src_tokens, dtype=torch.long), torch.tensor(tgt_tokens, dtype=torch.long)\n"
   ],
   "id": "74645ebed2517852",
   "outputs": [],
   "execution_count": 4
  },
  {
   "metadata": {
    "ExecuteTime": {
     "end_time": "2025-05-27T04:27:03.100549Z",
     "start_time": "2025-05-27T04:27:03.037139Z"
    }
   },
   "cell_type": "code",
   "source": [
    "train_src, val_src, train_tgt, val_tgt = train_test_split(\n",
    "    english_sentences, french_sentences, test_size=0.2, random_state=42)\n",
    "\n",
    "train_dataset = TranslationDataset(train_src, train_tgt, eng_vocab, fr_vocab, max_len=30)\n",
    "val_dataset = TranslationDataset(val_src, val_tgt, eng_vocab, fr_vocab, max_len=30)\n",
    "\n",
    "train_loader = DataLoader(train_dataset, batch_size=64, shuffle=True)\n",
    "val_loader = DataLoader(val_dataset, batch_size=64)"
   ],
   "id": "543d758ad9b4ec89",
   "outputs": [],
   "execution_count": 5
  },
  {
   "metadata": {
    "ExecuteTime": {
     "end_time": "2025-05-27T04:27:03.130675Z",
     "start_time": "2025-05-27T04:27:03.102076Z"
    }
   },
   "cell_type": "code",
   "source": [
    "class Encoder(nn.Module):\n",
    "    def __init__(self, input_dim, emb_dim, hid_dim, n_layers=2, dropout=0.5):\n",
    "        super().__init__()\n",
    "        self.embedding = nn.Embedding(input_dim, emb_dim)\n",
    "        self.layer_norm = nn.LayerNorm(emb_dim)\n",
    "        self.gru = nn.GRU(emb_dim, hid_dim, num_layers=n_layers,\n",
    "                         dropout=dropout if n_layers > 1 else 0,\n",
    "                         batch_first=True, bidirectional=True)\n",
    "        self.fc = nn.Linear(hid_dim * 2, hid_dim)\n",
    "        self.dropout = nn.Dropout(dropout)\n",
    "\n",
    "    def forward(self, src):\n",
    "        embedded = self.dropout(self.layer_norm(self.embedding(src)))\n",
    "        outputs, hidden = self.gru(embedded)\n",
    "\n",
    "        # Combine bidirectional hidden states\n",
    "        hidden = torch.tanh(self.fc(torch.cat((hidden[-2,:,:], hidden[-1,:,:]), dim=1)))\n",
    "        hidden = hidden.unsqueeze(0).repeat(self.gru.num_layers, 1, 1)\n",
    "        return outputs, hidden\n",
    "\n",
    "class LuongAttention(nn.Module):\n",
    "    def __init__(self, hid_dim):\n",
    "        super().__init__()\n",
    "        self.attn = nn.Linear(hid_dim * 3, hid_dim)  # Adjusted for bidirectional encoder\n",
    "        self.v = nn.Parameter(torch.rand(hid_dim))\n",
    "        self.layer_norm = nn.LayerNorm(hid_dim)\n",
    "\n",
    "    def forward(self, hidden, encoder_outputs):\n",
    "        batch_size = encoder_outputs.shape[0]\n",
    "        src_len = encoder_outputs.shape[1]\n",
    "\n",
    "        hidden = hidden.unsqueeze(1).repeat(1, src_len, 1)\n",
    "        energy = torch.tanh(self.attn(torch.cat((hidden, encoder_outputs), dim=2)))\n",
    "        energy = self.layer_norm(energy)\n",
    "        energy = energy.permute(0, 2, 1)\n",
    "\n",
    "        v = self.v.repeat(batch_size, 1).unsqueeze(1)\n",
    "        attention = torch.bmm(v, energy).squeeze(1)\n",
    "        return torch.softmax(attention, dim=1)\n",
    "\n",
    "class Decoder(nn.Module):\n",
    "    def __init__(self, output_dim, emb_dim, hid_dim, n_layers=2, dropout=0.5):\n",
    "        super().__init__()\n",
    "        self.output_dim = output_dim\n",
    "        self.embedding = nn.Embedding(output_dim, emb_dim)\n",
    "        self.layer_norm = nn.LayerNorm(emb_dim)\n",
    "        # Adjusted input dimension for GRU to account for bidirectional encoder\n",
    "        self.gru = nn.GRU(emb_dim + hid_dim * 2, hid_dim, num_layers=n_layers,\n",
    "                         dropout=dropout if n_layers > 1 else 0, batch_first=True)\n",
    "        self.fc_out = nn.Linear(hid_dim * 3, output_dim)  # Adjusted for context\n",
    "        self.attention = LuongAttention(hid_dim)\n",
    "        self.dropout = nn.Dropout(dropout)\n",
    "\n",
    "    def forward(self, input, hidden, encoder_outputs):\n",
    "        input = input.unsqueeze(1)\n",
    "        embedded = self.dropout(self.layer_norm(self.embedding(input)))\n",
    "        attn_weights = self.attention(hidden[-1], encoder_outputs)\n",
    "        attn_weights = attn_weights.unsqueeze(1)\n",
    "\n",
    "        context = torch.bmm(attn_weights, encoder_outputs)  # context: (batch_size, 1, hid_dim * 2)\n",
    "        gru_input = torch.cat((embedded, context), dim=2)  # gru_input: (batch_size, 1, emb_dim + hid_dim * 2)\n",
    "\n",
    "        output, hidden = self.gru(gru_input, hidden)\n",
    "        output = output.squeeze(1)\n",
    "        context = context.squeeze(1)\n",
    "\n",
    "        output = self.fc_out(torch.cat((output, context), dim=1))\n",
    "        return output, hidden, attn_weights.squeeze(1)"
   ],
   "id": "a92fa2d0e2e6d985",
   "outputs": [],
   "execution_count": 6
  },
  {
   "metadata": {
    "ExecuteTime": {
     "end_time": "2025-05-27T04:27:05.090813Z",
     "start_time": "2025-05-27T04:27:03.149857Z"
    }
   },
   "cell_type": "code",
   "source": [
    "EMB_DIM = 256\n",
    "HID_DIM = 512\n",
    "N_LAYERS = 2\n",
    "DROPOUT = 0.5\n",
    "INPUT_DIM = len(eng_vocab)\n",
    "OUTPUT_DIM = len(fr_vocab)\n",
    "\n",
    "encoder = Encoder(INPUT_DIM, EMB_DIM, HID_DIM, N_LAYERS, DROPOUT).to(device)\n",
    "decoder = Decoder(OUTPUT_DIM, EMB_DIM, HID_DIM, N_LAYERS, DROPOUT).to(device)\n",
    "\n",
    "# Optimizers and scheduler\n",
    "encoder_optimizer = torch.optim.Adam(encoder.parameters(), lr=1e-3)\n",
    "decoder_optimizer = torch.optim.Adam(decoder.parameters(), lr=1e-3)\n",
    "scheduler = torch.optim.lr_scheduler.ReduceLROnPlateau(\n",
    "    encoder_optimizer, mode='min', factor=0.5, patience=3)\n",
    "\n",
    "criterion = nn.CrossEntropyLoss(ignore_index=fr_vocab[\"<pad>\"])\n",
    "pad_idx = fr_vocab[\"<pad>\"]"
   ],
   "id": "430a07b37b5197f2",
   "outputs": [],
   "execution_count": 7
  },
  {
   "metadata": {
    "ExecuteTime": {
     "end_time": "2025-05-27T04:27:05.114874Z",
     "start_time": "2025-05-27T04:27:05.106570Z"
    }
   },
   "cell_type": "code",
   "source": [
    "def train_loop(dataloader, encoder, decoder, encoder_optimizer, decoder_optimizer, criterion, device, pad_idx, teacher_forcing_ratio=0.5):\n",
    "    encoder.train()\n",
    "    decoder.train()\n",
    "    total_loss, total_correct, total_tokens = 0, 0, 0\n",
    "\n",
    "    for src_tokens, tgt_tokens in dataloader:\n",
    "        src_tokens, tgt_tokens = src_tokens.to(device), tgt_tokens.to(device)\n",
    "        encoder_optimizer.zero_grad()\n",
    "        decoder_optimizer.zero_grad()\n",
    "\n",
    "        encoder_outputs, hidden = encoder(src_tokens)\n",
    "        batch_size = src_tokens.size(0)\n",
    "        tgt_len = tgt_tokens.size(1)\n",
    "        output_dim = decoder.output_dim\n",
    "\n",
    "        input = tgt_tokens[:, 0]\n",
    "        outputs = torch.zeros(batch_size, tgt_len - 1, output_dim).to(device)\n",
    "\n",
    "        for t in range(1, tgt_len):\n",
    "            output, hidden, _ = decoder(input, hidden, encoder_outputs)\n",
    "            outputs[:, t-1, :] = output\n",
    "            teacher_force = torch.rand(1).item() < teacher_forcing_ratio\n",
    "            top1 = output.argmax(1)\n",
    "            input = tgt_tokens[:, t] if teacher_force else top1\n",
    "\n",
    "        output_flat = outputs.reshape(-1, output_dim)\n",
    "        target_flat = tgt_tokens[:, 1:].reshape(-1)\n",
    "\n",
    "        loss = criterion(output_flat, target_flat)\n",
    "        loss.backward()\n",
    "\n",
    "        torch.nn.utils.clip_grad_norm_(encoder.parameters(), max_norm=1)\n",
    "        torch.nn.utils.clip_grad_norm_(decoder.parameters(), max_norm=1)\n",
    "\n",
    "        encoder_optimizer.step()\n",
    "        decoder_optimizer.step()\n",
    "\n",
    "        total_loss += loss.item()\n",
    "        preds = output_flat.argmax(dim=1)\n",
    "        mask = target_flat != pad_idx\n",
    "        total_correct += ((preds == target_flat) & mask).sum().item()\n",
    "        total_tokens += mask.sum().item()\n",
    "\n",
    "    avg_loss = total_loss / len(dataloader)\n",
    "    accuracy = total_correct / total_tokens if total_tokens > 0 else 0\n",
    "    return avg_loss, accuracy"
   ],
   "id": "e4cb488cadaa874c",
   "outputs": [],
   "execution_count": 8
  },
  {
   "metadata": {
    "ExecuteTime": {
     "end_time": "2025-05-27T06:35:00.711766Z",
     "start_time": "2025-05-27T04:27:05.133211Z"
    }
   },
   "cell_type": "code",
   "source": [
    "@torch.no_grad()\n",
    "def evaluate_loop(dataloader, encoder, decoder, criterion, device, pad_idx):\n",
    "    encoder.eval()\n",
    "    decoder.eval()\n",
    "    total_loss, total_correct, total_tokens = 0, 0, 0\n",
    "\n",
    "    for src_tokens, tgt_tokens in dataloader:\n",
    "        src_tokens, tgt_tokens = src_tokens.to(device), tgt_tokens.to(device)\n",
    "        encoder_outputs, hidden = encoder(src_tokens)\n",
    "        batch_size = src_tokens.size(0)\n",
    "        tgt_len = tgt_tokens.size(1)\n",
    "        output_dim = decoder.output_dim\n",
    "\n",
    "        input = tgt_tokens[:, 0]\n",
    "        outputs = torch.zeros(batch_size, tgt_len - 1, output_dim).to(device)\n",
    "\n",
    "        for t in range(1, tgt_len):\n",
    "            output, hidden, _ = decoder(input, hidden, encoder_outputs)\n",
    "            outputs[:, t-1, :] = output\n",
    "            top1 = output.argmax(1)\n",
    "            input = top1\n",
    "\n",
    "        output_flat = outputs.reshape(-1, output_dim)\n",
    "        target_flat = tgt_tokens[:, 1:].reshape(-1)\n",
    "\n",
    "        loss = criterion(output_flat, target_flat)\n",
    "        total_loss += loss.item()\n",
    "        preds = output_flat.argmax(dim=1)\n",
    "        mask = target_flat != pad_idx\n",
    "        total_correct += ((preds == target_flat) & mask).sum().item()\n",
    "        total_tokens += mask.sum().item()\n",
    "\n",
    "    avg_loss = total_loss / len(dataloader)\n",
    "    accuracy = total_correct / total_tokens if total_tokens > 0 else 0\n",
    "    return avg_loss, accuracy\n",
    "\n",
    "@torch.no_grad()\n",
    "def translate_sentence(sentence, src_vocab, tgt_vocab, encoder, decoder, device, max_len=30):\n",
    "    encoder.eval()\n",
    "    decoder.eval()\n",
    "\n",
    "    tokens = tokenize_sentence(sentence, src_vocab, add_sos_eos=False, max_len=max_len)\n",
    "    src_tensor = torch.LongTensor(tokens).unsqueeze(0).to(device)\n",
    "\n",
    "    encoder_outputs, hidden = encoder(src_tensor)\n",
    "\n",
    "    input_token = tgt_vocab[\"<sos>\"]\n",
    "    output_tokens = []\n",
    "\n",
    "    for _ in range(max_len):\n",
    "        input_tensor = torch.LongTensor([input_token]).to(device)\n",
    "        output, hidden, _ = decoder(input_tensor, hidden, encoder_outputs)\n",
    "        pred_token = output.argmax(1).item()\n",
    "\n",
    "        if pred_token == tgt_vocab[\"<eos>\"]:\n",
    "            break\n",
    "\n",
    "        output_tokens.append(pred_token)\n",
    "        input_token = pred_token\n",
    "\n",
    "    # Convert tokens to words\n",
    "    inv_tgt_vocab = {v: k for k, v in tgt_vocab.items()}\n",
    "    translated = [inv_tgt_vocab.get(token, \"<unk>\") for token in output_tokens]\n",
    "    return \" \".join(translated)\n",
    "\n",
    "# Training loop with early stopping\n",
    "num_epochs = 50\n",
    "best_val_loss = float('inf')\n",
    "patience = 5\n",
    "patience_counter = 0\n",
    "best_model_state = None\n",
    "\n",
    "for epoch in range(num_epochs):\n",
    "    train_loss, train_acc = train_loop(train_loader, encoder, decoder,\n",
    "                                     encoder_optimizer, decoder_optimizer,\n",
    "                                     criterion, device, pad_idx)\n",
    "    val_loss, val_acc = evaluate_loop(val_loader, encoder, decoder,\n",
    "                                    criterion, device, pad_idx)\n",
    "\n",
    "    scheduler.step(val_loss)\n",
    "\n",
    "    print(f\"Epoch {epoch + 1}/{num_epochs}\")\n",
    "    print(f\"  Train Loss: {train_loss:.4f} | Train Acc: {train_acc:.4f}\")\n",
    "    print(f\"  Val   Loss: {val_loss:.4f} | Val   Acc: {val_acc:.4f}\")\n",
    "\n",
    "    # Early stopping\n",
    "    if val_loss < best_val_loss:\n",
    "        best_val_loss = val_loss\n",
    "        patience_counter = 0\n",
    "        best_model_state = {\n",
    "            'encoder': encoder.state_dict(),\n",
    "            'decoder': decoder.state_dict(),\n",
    "        }\n",
    "    else:\n",
    "        patience_counter += 1\n",
    "        if patience_counter >= patience:\n",
    "            print(f\"Early stopping triggered after {epoch + 1} epochs\")\n",
    "            break\n"
   ],
   "id": "a288cccb9300aadf",
   "outputs": [
    {
     "name": "stdout",
     "output_type": "stream",
     "text": [
      "Epoch 1/50\n",
      "  Train Loss: 3.5468 | Train Acc: 0.3930\n",
      "  Val   Loss: 3.2092 | Val   Acc: 0.3971\n",
      "Epoch 2/50\n",
      "  Train Loss: 2.5336 | Train Acc: 0.4828\n",
      "  Val   Loss: 3.1427 | Val   Acc: 0.4169\n",
      "Epoch 3/50\n",
      "  Train Loss: 2.3018 | Train Acc: 0.5054\n",
      "  Val   Loss: 3.1874 | Val   Acc: 0.4214\n",
      "Epoch 4/50\n",
      "  Train Loss: 2.1901 | Train Acc: 0.5203\n",
      "  Val   Loss: 3.2353 | Val   Acc: 0.4251\n",
      "Epoch 5/50\n",
      "  Train Loss: 2.1462 | Train Acc: 0.5249\n",
      "  Val   Loss: 3.2252 | Val   Acc: 0.4318\n",
      "Epoch 6/50\n",
      "  Train Loss: 2.1152 | Train Acc: 0.5294\n",
      "  Val   Loss: 3.3864 | Val   Acc: 0.4166\n",
      "Epoch 7/50\n",
      "  Train Loss: 2.0406 | Train Acc: 0.5418\n",
      "  Val   Loss: 3.4043 | Val   Acc: 0.4268\n",
      "Early stopping triggered after 7 epochs\n"
     ]
    }
   ],
   "execution_count": 9
  },
  {
   "metadata": {
    "ExecuteTime": {
     "end_time": "2025-05-27T10:07:36.573614Z",
     "start_time": "2025-05-27T10:07:36.389675Z"
    }
   },
   "cell_type": "code",
   "source": [
    "test_sentence = \"I am going to school\"\n",
    "translated = translate_sentence(test_sentence, eng_vocab, fr_vocab, encoder, decoder, device)\n",
    "print(f\"Input: {test_sentence}\")\n",
    "print(f\"Translated: {translated}\")"
   ],
   "id": "c25bd25587df097a",
   "outputs": [
    {
     "name": "stdout",
     "output_type": "stream",
     "text": [
      "Input: I am going to school\n",
      "Translated: je vais l'école l'école\n"
     ]
    }
   ],
   "execution_count": 27
  },
  {
   "metadata": {
    "collapsed": true,
    "ExecuteTime": {
     "end_time": "2025-05-27T06:39:21.923303Z",
     "start_time": "2025-05-27T06:39:20.397252Z"
    }
   },
   "cell_type": "code",
   "outputs": [
    {
     "name": "stdout",
     "output_type": "stream",
     "text": [
      "Model and vocabularies saved successfully.\n",
      "Input: What is your name\n",
      "Translated: comment s'appelle ton nom \n"
     ]
    }
   ],
   "execution_count": 17,
   "source": [
    "if best_model_state:\n",
    "    encoder.load_state_dict(best_model_state['encoder'])\n",
    "    decoder.load_state_dict(best_model_state['decoder'])\n",
    "\n",
    "    # Save model state dictionaries\n",
    "    torch.save({\n",
    "        'encoder_state_dict': encoder.state_dict(),\n",
    "        'decoder_state_dict': decoder.state_dict(),\n",
    "        'encoder_optimizer_state_dict': encoder_optimizer.state_dict(),\n",
    "        'decoder_optimizer_state_dict': decoder_optimizer.state_dict(),\n",
    "        'best_val_loss': best_val_loss,\n",
    "        'epoch': epoch + 1\n",
    "    }, 'translation_model.pth')\n",
    "\n",
    "    # Save vocabularies\n",
    "    import pickle\n",
    "    with open('eng_vocab.pkl', 'wb') as f:\n",
    "        pickle.dump(eng_vocab, f)\n",
    "    with open('fr_vocab.pkl', 'wb') as f:\n",
    "        pickle.dump(fr_vocab, f)\n",
    "    print(\"Model and vocabularies saved successfully.\")\n",
    "\n",
    "# Test translation\n",
    "\n",
    "\n",
    "# Optional: Code to load the model and vocabularies later\n",
    "def load_model_and_vocabs(model_path, eng_vocab_path, fr_vocab_path, device):\n",
    "    # Load vocabularies\n",
    "    with open(eng_vocab_path, 'rb') as f:\n",
    "        eng_vocab = pickle.load(f)\n",
    "    with open(fr_vocab_path, 'rb') as f:\n",
    "        fr_vocab = pickle.load(f)\n",
    "\n",
    "    # Initialize model with same architecture\n",
    "    encoder = Encoder(len(eng_vocab), EMB_DIM, HID_DIM, N_LAYERS, DROPOUT).to(device)\n",
    "    decoder = Decoder(len(fr_vocab), EMB_DIM, HID_DIM, N_LAYERS, DROPOUT).to(device)\n",
    "\n",
    "    # Load model state dictionaries\n",
    "    checkpoint = torch.load(model_path, map_location=device)\n",
    "    encoder.load_state_dict(checkpoint['encoder_state_dict'])\n",
    "    decoder.load_state_dict(checkpoint['decoder_state_dict'])\n",
    "\n",
    "    return encoder, decoder, eng_vocab, fr_vocab"
   ],
   "id": "initial_id"
  }
 ],
 "metadata": {
  "kernelspec": {
   "display_name": "Python 3",
   "language": "python",
   "name": "python3"
  },
  "language_info": {
   "codemirror_mode": {
    "name": "ipython",
    "version": 2
   },
   "file_extension": ".py",
   "mimetype": "text/x-python",
   "name": "python",
   "nbconvert_exporter": "python",
   "pygments_lexer": "ipython2",
   "version": "2.7.6"
  }
 },
 "nbformat": 4,
 "nbformat_minor": 5
}
