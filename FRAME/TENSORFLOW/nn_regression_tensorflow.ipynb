{
 "cells": [
  {
   "cell_type": "code",
   "id": "initial_id",
   "metadata": {
    "collapsed": true
   },
   "source": "import tensorflow as tf\n",
   "outputs": [],
   "execution_count": null
  },
  {
   "metadata": {},
   "cell_type": "code",
   "source": [
    "house_info=tf.constant([\"bedroom\",\"bathroom\",\"garage\"])\n",
    "house_price=tf.constant([939700])\n",
    "house_info,house_price"
   ],
   "id": "d685b14cd74ec834",
   "outputs": [],
   "execution_count": null
  },
  {
   "metadata": {},
   "cell_type": "code",
   "source": [
    "import matplotlib.pyplot as plt\n",
    "\n",
    "# Create features (using tensors)\n",
    "X = tf.constant([-7.0, -4.0, -1.0, 2.0, 5.0, 8.0, 11.0, 14.0])\n",
    "\n",
    "# Create labels (using tensors)\n",
    "y = tf.constant([3.0, 6.0, 9.0, 12.0, 15.0, 18.0, 21.0, 24.0])\n",
    "\n",
    "# Visualize it\n",
    "plt.scatter(X, y);"
   ],
   "id": "16d5338967946fbc",
   "outputs": [],
   "execution_count": null
  },
  {
   "metadata": {},
   "cell_type": "code",
   "source": [
    "\n",
    "# Take a single example of X\n",
    "input_shape = X[0].shape\n",
    "\n",
    "# Take a single example of y\n",
    "output_shape = y[0].shape\n"
   ],
   "id": "e4f238960a23e417",
   "outputs": [],
   "execution_count": null
  },
  {
   "metadata": {},
   "cell_type": "code",
   "source": [
    "#modelling\n",
    "tf.random.set_seed(42)\n",
    "\n",
    "model = tf.keras.Sequential([\n",
    "    tf.keras.layers.Dense(1),\n",
    "])\n",
    "\n",
    "model.compile(loss=tf.keras.losses.mae, optimizer=tf.keras.optimizers.SGD(), metrics=[\"mae\"])\n",
    "\n",
    "model.fit(tf.expand_dims(X, axis=-1), y, epochs=5,verbose=2)"
   ],
   "id": "68c3e171739a5388",
   "outputs": [],
   "execution_count": null
  },
  {
   "metadata": {},
   "cell_type": "code",
   "source": [
    "x = tf.constant([[17.0]])  # Shape (1,1)\n",
    "print(model.predict(x))  # ✅ Works fine!\n"
   ],
   "id": "2611d5a202415ef7",
   "outputs": [],
   "execution_count": null
  },
  {
   "metadata": {},
   "cell_type": "code",
   "source": "import tensorflow as tf\n",
   "id": "b7612b245a1aed3f",
   "outputs": [],
   "execution_count": null
  },
  {
   "metadata": {},
   "cell_type": "markdown",
   "source": "Improving the model\n",
   "id": "1fcd5ff0a81a800a"
  },
  {
   "metadata": {},
   "cell_type": "code",
   "source": [
    "import matplotlib.pyplot as plt\n",
    "\n",
    "# Create features (using tensors)\n",
    "X = tf.constant([-7.0, -4.0, -1.0, 2.0, 5.0, 8.0, 11.0, 14.0])\n",
    "\n",
    "# Create labels (using tensors)\n",
    "y = tf.constant([3.0, 6.0, 9.0, 12.0, 15.0, 18.0, 21.0, 24.0])\n",
    "\n",
    "# Visualize it\n",
    "plt.scatter(X, y);"
   ],
   "id": "8b116f3ebaec36a8",
   "outputs": [],
   "execution_count": null
  },
  {
   "metadata": {},
   "cell_type": "code",
   "source": [
    "from keras.api.layers import Dense\n",
    "from keras.api.models import Sequential\n",
    "from keras.api.optimizers import Adam\n",
    "from keras.api.losses import mean_absolute_error\n",
    "\n",
    "model = Sequential([\n",
    "    Dense(50, activation=\"relu\"),\n",
    "    Dense(1),\n",
    "])\n",
    "model.compile(loss=mean_absolute_error, optimizer=Adam(learning_rate=0.01), metrics=[\"mae\"])\n",
    "\n",
    "model.fit(tf.expand_dims(X, axis=-1), y, epochs=100, verbose=2)"
   ],
   "id": "81765e2da5f443f1",
   "outputs": [],
   "execution_count": null
  },
  {
   "metadata": {},
   "cell_type": "code",
   "source": "X,y",
   "id": "ce61133cc5410854",
   "outputs": [],
   "execution_count": null
  },
  {
   "metadata": {},
   "cell_type": "code",
   "source": [
    "x=tf.constant([17.0])\n",
    "print(model.predict(x))"
   ],
   "id": "b6b82602edecee0b",
   "outputs": [],
   "execution_count": null
  },
  {
   "metadata": {},
   "cell_type": "code",
   "source": [
    "#Bigger dataset\n",
    "X=tf.range(-100,100,4)\n",
    "y=X+10\n",
    "X,y"
   ],
   "id": "5a0aebf2403a7416",
   "outputs": [],
   "execution_count": null
  },
  {
   "metadata": {},
   "cell_type": "code",
   "source": [
    "X_train=X[:40]\n",
    "y_train=y[:40]\n",
    "X_test=X[40:]\n",
    "y_test=y[40:]\n",
    "len(X_train),len(X_test),len(y_train),len(y_test)"
   ],
   "id": "3b59eb24a7ab920",
   "outputs": [],
   "execution_count": null
  },
  {
   "metadata": {},
   "cell_type": "code",
   "source": [
    "import matplotlib.pyplot as plt\n",
    "plt.figure(figsize=(10,5))\n",
    "plt.scatter(X_train,y_train,c=\"b\",label=\"training data\")\n",
    "plt.scatter(X_test,y_test,c=\"g\",label=\"test data\")\n",
    "plt.legend()"
   ],
   "id": "ef39701dfe5ea883",
   "outputs": [],
   "execution_count": null
  },
  {
   "metadata": {},
   "cell_type": "code",
   "source": [
    "import tensorflow as tf\n",
    "from keras.api.models import Sequential\n",
    "from keras.api.layers import Dense\n",
    "from keras.api.losses import mean_absolute_error\n",
    "from keras.api.optimizers import SGD\n",
    "\n",
    "model=Sequential([\n",
    "    Dense(50, activation=\"relu\", input_shape=(1,)),\n",
    "    Dense(1),\n",
    "])\n",
    "model.compile(loss=mean_absolute_error, optimizer=SGD(), metrics=[\"mae\"])\n",
    "model.fit(tf.expand_dims(X_train, axis=-1), y_train, epochs=10,verbose=2)"
   ],
   "id": "f177c0841b8ac40a",
   "outputs": [],
   "execution_count": null
  },
  {
   "metadata": {},
   "cell_type": "code",
   "source": "model.summary()",
   "id": "2a1bfa881454f597",
   "outputs": [],
   "execution_count": null
  },
  {
   "metadata": {},
   "cell_type": "code",
   "source": [
    "y_pred=model.predict(X_test)\n",
    "y_pred"
   ],
   "id": "be5f80996259a22b",
   "outputs": [],
   "execution_count": null
  },
  {
   "metadata": {},
   "cell_type": "code",
   "source": [
    "def plot_prediction(train_data=X_train, train_labels=y_train, test_data=X_test, test_labels=y_test,predictions=y_pred):\n",
    "    plt.figure(figsize=(10,5))\n",
    "    plt.scatter(train_data, train_labels, c=\"b\",label=\"training data\")\n",
    "    plt.scatter(test_data, test_labels, c=\"g\",label=\"test data\")\n",
    "    plt.scatter(test_data, predictions, c=\"r\",label=\"predictions\")\n",
    "    plt.legend()\n",
    "plot_prediction()"
   ],
   "id": "7566ca28b355190c",
   "outputs": [],
   "execution_count": null
  },
  {
   "metadata": {},
   "cell_type": "code",
   "source": "",
   "id": "1220936963bb831c",
   "outputs": [],
   "execution_count": null
  },
  {
   "metadata": {},
   "cell_type": "markdown",
   "source": "LARGE EXAMPLE\n",
   "id": "a99080affa6c07b"
  },
  {
   "metadata": {},
   "cell_type": "code",
   "source": [
    "import tensorflow as tf\n",
    "import matplotlib.pyplot as plt\n",
    "import numpy as np\n",
    "import pandas as pd\n",
    "insurance=pd.read_csv(\"https://raw.githubusercontent.com/stedy/Machine-Learning-with-R-datasets/refs/heads/master/insurance.csv\")\n",
    "insurance.head()"
   ],
   "id": "a58247251ce6e017",
   "outputs": [],
   "execution_count": null
  },
  {
   "metadata": {},
   "cell_type": "code",
   "source": [
    "#encoding\n",
    "insurance_hot=pd.get_dummies(insurance).astype(int)\n",
    "insurance_hot.head()"
   ],
   "id": "244cc5ab4e0c3a64",
   "outputs": [],
   "execution_count": null
  },
  {
   "metadata": {},
   "cell_type": "code",
   "source": [
    "X=insurance_hot.drop(\"charges\",axis=1)\n",
    "y=insurance_hot[\"charges\"]\n",
    "y.head()"
   ],
   "id": "9c2fb6419f2f6145",
   "outputs": [],
   "execution_count": null
  },
  {
   "metadata": {},
   "cell_type": "code",
   "source": [
    "from sklearn.model_selection import train_test_split\n",
    "X_train, X_test, y_train, y_test = train_test_split(X, y, test_size=0.2, random_state=42)\n",
    "len(X_train),len(X_test),len(y_train),len(y_test)"
   ],
   "id": "612534e7295d3cf9",
   "outputs": [],
   "execution_count": null
  },
  {
   "metadata": {},
   "cell_type": "code",
   "source": [
    "tf.random.set_seed(42)\n",
    "insurance_model=Sequential([\n",
    "    Dense(10),\n",
    "    Dense(1),\n",
    "])\n",
    "\n",
    "insurance_model.compile(loss=mean_absolute_error, optimizer=SGD(), metrics=[\"mae\"])\n",
    "\n",
    "insurance_model.fit(X_train, y_train, epochs=10,verbose=2)"
   ],
   "id": "a503e66824e237b4",
   "outputs": [],
   "execution_count": null
  },
  {
   "metadata": {},
   "cell_type": "code",
   "source": "insurance_model.evaluate(X_test,y_test)",
   "id": "f7e0156399030a31",
   "outputs": [],
   "execution_count": null
  },
  {
   "metadata": {},
   "cell_type": "code",
   "source": [
    "from keras.api.losses import mean_squared_error\n",
    "from keras.api.optimizers import Adam\n",
    "tf.random.set_seed(42)\n",
    "insurance_model2 = Sequential([\n",
    "    Dense(100),\n",
    "    Dense(10),\n",
    "    Dense(1),\n",
    "])\n",
    "insurance_model2.compile(loss=mean_absolute_error, optimizer=Adam(), metrics=[\"mae\"])\n",
    "insurance_model2.fit(X_train, y_train, epochs=100,verbose=2)\n"
   ],
   "id": "51b577eff2754102",
   "outputs": [],
   "execution_count": null
  },
  {
   "metadata": {},
   "cell_type": "code",
   "source": [
    "import tensorflow as tf\n",
    "import matplotlib.pyplot as plt\n",
    "import numpy as np\n",
    "import pandas as pd\n",
    "insurance=pd.read_csv(\"https://raw.githubusercontent.com/stedy/Machine-Learning-with-R-datasets/refs/heads/master/insurance.csv\")\n",
    "insurance.head()"
   ],
   "id": "c0c18c3ae7f3a95d",
   "outputs": [],
   "execution_count": null
  },
  {
   "metadata": {},
   "cell_type": "code",
   "source": [
    "from sklearn.compose import make_column_transformer\n",
    "from sklearn.preprocessing import MinMaxScaler, OneHotEncoder\n",
    "from sklearn.model_selection import train_test_split\n",
    "\n",
    "ct=make_column_transformer(\n",
    "    (MinMaxScaler(), [\"age\",\"bmi\",\"children\"]),\n",
    "    (OneHotEncoder(handle_unknown=\"ignore\"), [\"sex\",\"smoker\",\"region\"])\n",
    ")\n",
    "X=insurance.drop(\"charges\",axis=1)\n",
    "y=insurance[\"charges\"]\n",
    "x_train, x_test, y_train, y_test = train_test_split(X, y, test_size=0.2, random_state=42)\n",
    "\n",
    "ct.fit(x_train)\n",
    "\n",
    "X_train_normal=ct.transform(x_train)\n",
    "X_test_normal=ct.transform(x_test)\n",
    "x_train"
   ],
   "id": "ba708794fe33654a",
   "outputs": [],
   "execution_count": null
  },
  {
   "metadata": {},
   "cell_type": "code",
   "source": "X_train_normal.shape,x_train.shape",
   "id": "a0961f6982588e34",
   "outputs": [],
   "execution_count": null
  },
  {
   "metadata": {},
   "cell_type": "code",
   "source": [
    "from keras.api.models import Sequential\n",
    "from keras.api.layers import Dense\n",
    "from keras.api.losses import mean_absolute_error\n",
    "from keras.api.optimizers import Adam\n",
    "tf.random.set_seed(42)\n",
    "\n",
    "insurance_model3=Sequential([\n",
    "    Dense(100),\n",
    "    Dense(10),\n",
    "    Dense(1),\n",
    "])\n",
    "insurance_model3.compile(loss=mean_absolute_error, optimizer=Adam(), metrics=[\"mae\"])\n",
    "insurance_model3.fit(X_train_normal, y_train, epochs=100, verbose=2)"
   ],
   "id": "10ddb8d8c00376f6",
   "outputs": [],
   "execution_count": null
  },
  {
   "metadata": {},
   "cell_type": "code",
   "source": "insurance_model3.evaluate(X_test_normal, y_test)",
   "id": "49a1e8912be7049a",
   "outputs": [],
   "execution_count": null
  }
 ],
 "metadata": {
  "kernelspec": {
   "display_name": "Python 3",
   "language": "python",
   "name": "python3"
  },
  "language_info": {
   "codemirror_mode": {
    "name": "ipython",
    "version": 2
   },
   "file_extension": ".py",
   "mimetype": "text/x-python",
   "name": "python",
   "nbconvert_exporter": "python",
   "pygments_lexer": "ipython2",
   "version": "2.7.6"
  }
 },
 "nbformat": 4,
 "nbformat_minor": 5
}
