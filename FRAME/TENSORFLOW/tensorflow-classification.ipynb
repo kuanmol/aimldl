{
 "cells": [
  {
   "cell_type": "code",
   "id": "initial_id",
   "metadata": {
    "collapsed": true
   },
   "source": [
    "import tensorflow as tf\n",
    "from keras.src.losses import mean_absolute_error\n",
    "from tensorflow.python.keras.callbacks import LearningRateScheduler\n"
   ],
   "outputs": [],
   "execution_count": null
  },
  {
   "metadata": {},
   "cell_type": "code",
   "source": [
    "from sklearn.datasets import make_circles\n",
    "\n",
    "#1000 samples\n",
    "n_samples = 1000\n",
    "\n",
    "#create circle\n",
    "x, y = make_circles(n_samples, noise=0.03, random_state=42)\n",
    "\n",
    "print(f\"First 5 samples of X : \\n {x[:5]}\")\n",
    "print(f\"First 5 samples of Y : \\n {y[:5]}\")"
   ],
   "id": "615efe50d525ca09",
   "outputs": [],
   "execution_count": null
  },
  {
   "metadata": {},
   "cell_type": "code",
   "source": [
    "import pandas as pd\n",
    "import matplotlib.pyplot as plt\n",
    "\n",
    "circles = pd.DataFrame({\"X1\": x[:, 0],\n",
    "                        \"X2\": x[:, 1],\n",
    "                        \"labels\": y})\n",
    "circles.head(10)\n",
    "plt.scatter(x=x[:, 0], y=x[:, 1], c=y, cmap=plt.cm.RdYlBu)\n"
   ],
   "id": "601ec76654930526",
   "outputs": [],
   "execution_count": null
  },
  {
   "metadata": {},
   "cell_type": "code",
   "source": "x.shape, y.shape",
   "id": "bea614a303d41c31",
   "outputs": [],
   "execution_count": null
  },
  {
   "metadata": {},
   "cell_type": "code",
   "source": [
    "from keras.api.models import Sequential\n",
    "from keras.api.layers import Dense\n",
    "from keras.api.losses import BinaryCrossentropy\n",
    "from keras.api.optimizers import SGD\n",
    "\n",
    "tf.random.set_seed(42)\n",
    "model1 = Sequential([\n",
    "    Dense(1)\n",
    "])\n",
    "model1.compile(loss=BinaryCrossentropy(), optimizer=SGD(), metrics=['accuracy'])\n",
    "model1.fit(x=x, y=y, epochs=5, verbose=2)"
   ],
   "id": "9c2d51c9f6d83525",
   "outputs": [],
   "execution_count": null
  },
  {
   "metadata": {},
   "cell_type": "code",
   "source": [
    "model1.fit(x, y, epochs=200, verbose=0)  # set verbose=0 to remove training updates\n",
    "model1.evaluate(x, y)"
   ],
   "id": "3008f0551f63a913",
   "outputs": [],
   "execution_count": null
  },
  {
   "metadata": {},
   "cell_type": "code",
   "source": [
    "tf.random.set_seed(42)\n",
    "model2 = Sequential([\n",
    "    Dense(1),\n",
    "    Dense(1)\n",
    "])\n",
    "model2.compile(loss=BinaryCrossentropy(), optimizer=SGD(), metrics=['accuracy'])\n",
    "model2.fit(x, y, epochs=100, verbose=0)"
   ],
   "id": "f2b2f9225b23e62e",
   "outputs": [],
   "execution_count": null
  },
  {
   "metadata": {},
   "cell_type": "code",
   "source": "model2.evaluate(x, y)",
   "id": "497ee91a70feaef0",
   "outputs": [],
   "execution_count": null
  },
  {
   "metadata": {},
   "cell_type": "code",
   "source": [
    "from keras.api.optimizers import Adam\n",
    "\n",
    "tf.random.set_seed(42)\n",
    "model3 = Sequential([\n",
    "    Dense(100),\n",
    "    Dense(10),\n",
    "    Dense(1)\n",
    "])\n",
    "model3.compile(loss=BinaryCrossentropy(), optimizer=Adam(), metrics=['accuracy'])\n",
    "model3.fit(x, y, epochs=100, verbose=2)"
   ],
   "id": "a0c4ff5406870aba",
   "outputs": [],
   "execution_count": null
  },
  {
   "metadata": {},
   "cell_type": "code",
   "source": [
    "import numpy as np\n",
    "\n",
    "\n",
    "def plot_decision_boundary(model, X, y):\n",
    "    x_min, x_max = X[:, 0].min() - .1, X[:, 0].max() + .1\n",
    "    y_min, y_max = X[:, 1].min() - .1, X[:, 1].max() + .1\n",
    "    xx, yy = np.meshgrid(np.linspace(x_min, x_max, 100),\n",
    "                         np.linspace(y_min, y_max, 100))\n",
    "    x_in = np.c_[xx.ravel(), yy.ravel()]\n",
    "    y_pred = model.predict(x_in)\n",
    "    if model.output_shape[-1] > 1:\n",
    "        print(\"doing multiclass classification\")\n",
    "        y_pred = np.argmax(y_pred, axis=1).reshape(xx.shape)\n",
    "    else:\n",
    "        print(\"doing binary classification\")\n",
    "        y_pred = np.round(np.max(y_pred, axis=1)).reshape(xx.shape)\n",
    "    plt.contourf(xx, yy, y_pred, cmap=plt.cm.RdYlBu, alpha=0.7)\n",
    "    plt.scatter(X[:, 0], X[:, 1], c=y, s=40, cmap=plt.cm.RdYlBu)\n",
    "    plt.xlim(xx.min(), xx.max())\n",
    "    plt.ylim(yy.min(), yy.max())"
   ],
   "id": "dc119ffd9e398b25",
   "outputs": [],
   "execution_count": null
  },
  {
   "metadata": {},
   "cell_type": "code",
   "source": "",
   "id": "aba849e7b7efeb1c",
   "outputs": [],
   "execution_count": null
  },
  {
   "metadata": {},
   "cell_type": "code",
   "source": "plot_decision_boundary(model3, x, y)",
   "id": "3d4855a9ca55f003",
   "outputs": [],
   "execution_count": null
  },
  {
   "metadata": {},
   "cell_type": "code",
   "source": [
    "# Set random seed\n",
    "tf.random.set_seed(42)\n",
    "\n",
    "# Create some regression data\n",
    "X_regression = np.arange(0, 1000, 5)\n",
    "y_regression = np.arange(100, 1100, 5)\n",
    "\n",
    "# Split it into training and test sets\n",
    "X_reg_train = X_regression[:150]\n",
    "X_reg_test = X_regression[150:]\n",
    "y_reg_train = y_regression[:150]\n",
    "y_reg_test = y_regression[150:]\n",
    "\n",
    "model3.fit(tf.expand_dims(X_reg_train, axis=-1),\n",
    "           y_reg_train,\n",
    "           epochs=100)\n"
   ],
   "id": "e5e126ee4a1b699c",
   "outputs": [],
   "execution_count": null
  },
  {
   "metadata": {},
   "cell_type": "code",
   "source": [
    "from keras.api.losses import mean_absolute_error\n",
    "\n",
    "tf.random.set_seed(42)\n",
    "model3 = Sequential([\n",
    "    Dense(100),\n",
    "    Dense(10),\n",
    "    Dense(1)\n",
    "])\n",
    "model3.compile(loss=mean_absolute_error, optimizer=Adam(), metrics=['mae'])\n",
    "model3.fit(tf.expand_dims(X_reg_train, axis=-1),\n",
    "           y_reg_train,\n",
    "           epochs=100, verbose=2)\n"
   ],
   "id": "2a970eabad1d5547",
   "outputs": [],
   "execution_count": null
  },
  {
   "metadata": {},
   "cell_type": "code",
   "source": [
    "y_reg_preds = model3.predict(X_reg_test)\n",
    "\n",
    "# Plot the model's predictions against our regression data\n",
    "plt.figure(figsize=(10, 7))\n",
    "plt.scatter(X_reg_train, y_reg_train, c='b', label='Training data')\n",
    "plt.scatter(X_reg_test, y_reg_test, c='g', label='Testing data')\n",
    "plt.scatter(X_reg_test, y_reg_preds.squeeze(), c='r', label='Predictions')\n",
    "plt.legend();"
   ],
   "id": "daae2dc82bce2d70",
   "outputs": [],
   "execution_count": null
  },
  {
   "metadata": {},
   "cell_type": "code",
   "source": [
    "from keras.api.activations import relu, sigmoid\n",
    "from keras.api.models import Sequential\n",
    "from keras.api.layers import Dense\n",
    "from keras.api.losses import binary_crossentropy\n",
    "\n",
    "tf.random.set_seed(42)\n",
    "\n",
    "model5 = Sequential([\n",
    "    Dense(4, activation=relu),\n",
    "    Dense(4, activation=relu),\n",
    "    Dense(1, activation=sigmoid),\n",
    "])\n",
    "model5.compile(loss=binary_crossentropy, optimizer=Adam(), metrics=['accuracy'])\n",
    "model5.fit(x, y, epochs=100, verbose=0)"
   ],
   "id": "e326551ed076eda0",
   "outputs": [],
   "execution_count": null
  },
  {
   "metadata": {},
   "cell_type": "code",
   "source": [
    "model5.evaluate(x, y)\n",
    "plot_decision_boundary(model5, x, y)"
   ],
   "id": "122c5f00fdf5433b",
   "outputs": [],
   "execution_count": null
  },
  {
   "metadata": {},
   "cell_type": "code",
   "source": [
    "\n",
    "# Split data into train and test sets\n",
    "X_train, y_train = x[:800], y[:800]  # 80% of the data for the training set\n",
    "X_test, y_test = x[800:], y[800:]  # 20% of the data for the test set\n",
    "\n",
    "# Check the shapes of the data\n",
    "X_train.shape, X_test.shape  # 800 examples in the training set, 200 examples in the test set\n"
   ],
   "id": "60083ce39646248c",
   "outputs": [],
   "execution_count": null
  },
  {
   "metadata": {},
   "cell_type": "code",
   "source": [
    "# Set random seed\n",
    "tf.random.set_seed(42)\n",
    "\n",
    "# Create the model (same as model_7)\n",
    "model_8 = tf.keras.Sequential([\n",
    "    tf.keras.layers.Dense(4, activation=\"relu\"),\n",
    "    # hidden layer 1, using \"relu\" for activation (same as tf.keras.activations.relu)\n",
    "    tf.keras.layers.Dense(4, activation=\"relu\"),\n",
    "    tf.keras.layers.Dense(1, activation=\"sigmoid\")  # output layer, using 'sigmoid' for the output\n",
    "])\n",
    "\n",
    "# Compile the model\n",
    "model_8.compile(loss=tf.keras.losses.binary_crossentropy,\n",
    "                optimizer=tf.keras.optimizers.Adam(learning_rate=0.01),\n",
    "                # increase learning rate from 0.001 to 0.01 for faster learning\n",
    "                metrics=['accuracy'])\n",
    "\n",
    "# Fit the model\n",
    "history = model_8.fit(X_train, y_train, epochs=25)"
   ],
   "id": "dcbab5b44cc56312",
   "outputs": [],
   "execution_count": null
  },
  {
   "metadata": {},
   "cell_type": "code",
   "source": [
    "\n",
    "# Evaluate our model on the test set\n",
    "loss, accuracy = model_8.evaluate(X_test, y_test)\n",
    "print(f\"Model loss on the test set: {loss}\")\n",
    "print(f\"Model accuracy on the test set: {100 * accuracy:.2f}%\")"
   ],
   "id": "5d0ac5965170e6e6",
   "outputs": [],
   "execution_count": null
  },
  {
   "metadata": {},
   "cell_type": "code",
   "source": [
    "\n",
    "# Plot the decision boundaries for the training and test sets\n",
    "plt.figure(figsize=(12, 6))\n",
    "plt.subplot(1, 2, 1)\n",
    "plt.title(\"Train\")\n",
    "plot_decision_boundary(model_8, X=X_train, y=y_train)\n",
    "plt.subplot(1, 2, 2)\n",
    "plt.title(\"Test\")\n",
    "plot_decision_boundary(model_8, X=X_test, y=y_test)\n",
    "plt.show()"
   ],
   "id": "943a3d89df15f477",
   "outputs": [],
   "execution_count": null
  },
  {
   "metadata": {},
   "cell_type": "code",
   "source": "pd.DataFrame(history.history)",
   "id": "deb424c2b65eeaea",
   "outputs": [],
   "execution_count": null
  },
  {
   "metadata": {},
   "cell_type": "code",
   "source": [
    "pd.DataFrame(history.history).plot()\n",
    "plt.title(\"Model_8 training curves\")"
   ],
   "id": "accc91aa30c3f115",
   "outputs": [],
   "execution_count": null
  },
  {
   "metadata": {},
   "cell_type": "code",
   "source": [
    "tf.random.set_seed(42)\n",
    "model9 = Sequential([\n",
    "    tf.keras.layers.Dense(4, activation=\"relu\"),\n",
    "    tf.keras.layers.Dense(4, activation=\"relu\"),\n",
    "    tf.keras.layers.Dense(1, activation=\"sigmoid\"),\n",
    "])\n",
    "model9.compile(loss=\"binary_crossentropy\", optimizer=\"adam\", metrics=[\"accuracy\"])\n",
    "lr_scheduler = tf.keras.callbacks.LearningRateScheduler(lambda epochs: 1e-4 * 10 ** (epochs / 20))\n",
    "history = model9.fit(X_train, y_train, epochs=100, callbacks=[lr_scheduler], verbose=2)"
   ],
   "id": "39bbad49af77da7c",
   "outputs": [],
   "execution_count": null
  },
  {
   "metadata": {},
   "cell_type": "code",
   "source": "pd.DataFrame(history.history).plot(figsize=(12, 6), xlabel=\"Epochs\", ylabel=\"Loss\")",
   "id": "bc0ac23807e90428",
   "outputs": [],
   "execution_count": null
  },
  {
   "metadata": {},
   "cell_type": "code",
   "source": [
    "lrs = 1e-4 * (10 ** (np.arange(100) / 20))\n",
    "plt.figure(figsize=(10, 7))\n",
    "plt.semilogx(lrs, history.history[\"loss\"])  # we want the x-axis (learning rate) to be log scale\n",
    "plt.xlabel(\"Learning Rate\")\n",
    "plt.ylabel(\"Loss\")\n",
    "plt.title(\"Learning rate vs. loss\");"
   ],
   "id": "3ca6efd02839207a",
   "outputs": [],
   "execution_count": null
  },
  {
   "metadata": {},
   "cell_type": "code",
   "source": [
    "tf.random.set_seed(42)\n",
    "model10 = Sequential([\n",
    "    Dense(4, activation=\"relu\"),\n",
    "    Dense(4, activation=\"relu\"),\n",
    "    Dense(1, activation=\"sigmoid\"),\n",
    "])\n",
    "model10.compile(loss=\"binary_crossentropy\", optimizer=Adam(learning_rate=0.01), metrics=[\"accuracy\"])\n",
    "history = model10.fit(X_train, y_train, epochs=15, verbose=2)"
   ],
   "id": "e61bd221c70071f3",
   "outputs": [],
   "execution_count": null
  },
  {
   "metadata": {},
   "cell_type": "code",
   "source": "model10.evaluate(X_test, y_test)",
   "id": "df90db7a925824e6",
   "outputs": [],
   "execution_count": null
  },
  {
   "metadata": {},
   "cell_type": "code",
   "source": [
    "plt.figure(figsize=(12, 6))\n",
    "plt.subplot(1, 2, 1)\n",
    "plt.title(\"Train\")\n",
    "plot_decision_boundary(model10, X=X_train, y=y_train)\n",
    "plt.subplot(1, 2, 2)\n",
    "plt.title(\"Test\")\n",
    "plot_decision_boundary(model10, X=X_test, y=y_test)\n",
    "plt.show()"
   ],
   "id": "cc420d22fb014fb8",
   "outputs": [],
   "execution_count": null
  },
  {
   "metadata": {},
   "cell_type": "markdown",
   "source": "Multiclass classification",
   "id": "712517652b67d22b"
  },
  {
   "metadata": {},
   "cell_type": "code",
   "source": [
    "import tensorflow as tf\n",
    "from keras.api.datasets import fashion_mnist\n",
    "\n",
    "(train_data, train_labels), (test_data, test_labels) = fashion_mnist.load_data()"
   ],
   "id": "1832b65fd5888156",
   "outputs": [],
   "execution_count": null
  },
  {
   "metadata": {},
   "cell_type": "code",
   "source": [
    "print(f\"Training sample:\\n{train_data[0]}\\n\")\n",
    "print(f\"Training label: {train_labels[0]}\")"
   ],
   "id": "46d850e06616e6e5",
   "outputs": [],
   "execution_count": null
  },
  {
   "metadata": {},
   "cell_type": "code",
   "source": "train_data.shape, train_labels.shape, test_data.shape, test_labels.shape",
   "id": "8a722083e867c00f",
   "outputs": [],
   "execution_count": null
  },
  {
   "metadata": {},
   "cell_type": "code",
   "source": [
    "import matplotlib.pyplot as plt\n",
    "\n",
    "plt.imshow(train_data[17]);"
   ],
   "id": "bf29e00c57897735",
   "outputs": [],
   "execution_count": null
  },
  {
   "metadata": {},
   "cell_type": "code",
   "source": [
    "class_names = ['T-shirt/top', 'Trouser', 'Pullover', 'Dress', 'Coat',\n",
    "               'Sandal', 'Shirt', 'Sneaker', 'Bag', 'Ankle boot']\n",
    "class_names[train_labels[0]]\n"
   ],
   "id": "1577b6a3fa686d28",
   "outputs": [],
   "execution_count": null
  },
  {
   "metadata": {},
   "cell_type": "code",
   "source": [
    "plt.imshow(train_data[17], cmap=plt.cm.binary)  # change the colours to black & white\n",
    "plt.title(class_names[train_labels[17]]);"
   ],
   "id": "6cc6ece1d5a2c957",
   "outputs": [],
   "execution_count": null
  },
  {
   "metadata": {},
   "cell_type": "code",
   "source": [
    "import random\n",
    "\n",
    "plt.figure(figsize=(7, 7))\n",
    "for i in range(4):\n",
    "    ax = plt.subplot(2, 2, i + 1)\n",
    "    rand_index = random.choice(range(len(train_data)))\n",
    "    plt.imshow(train_data[rand_index], cmap=plt.cm.binary)\n",
    "    plt.title(class_names[train_labels[rand_index]])\n",
    "    plt.axis(False)"
   ],
   "id": "3885c2e31d90475d",
   "outputs": [],
   "execution_count": null
  },
  {
   "metadata": {},
   "cell_type": "code",
   "source": [
    "from keras.api.layers import Dense, Flatten\n",
    "from keras.api.losses import SparseCategoricalCrossentropy\n",
    "from keras.api.models import Sequential\n",
    "from keras.api.optimizers import Adam\n",
    "\n",
    "tf.random.set_seed(42)\n",
    "modell = Sequential([\n",
    "    Flatten(input_shape=(28, 28)),\n",
    "    Dense(4, activation=\"relu\"),\n",
    "    Dense(4, activation=\"relu\"),\n",
    "    Dense(10, activation=\"softmax\"),\n",
    "])\n",
    "modell.compile(loss=SparseCategoricalCrossentropy(), optimizer=Adam(), metrics=[\"accuracy\"])\n",
    "\n",
    "his = modell.fit(train_data, train_labels, epochs=10, validation_data=(test_data, test_labels), verbose=2)"
   ],
   "id": "c9b10401a8577bb7",
   "outputs": [],
   "execution_count": null
  },
  {
   "metadata": {},
   "cell_type": "code",
   "source": "modell.summary()",
   "id": "89bbdbb19e69079a",
   "outputs": [],
   "execution_count": null
  },
  {
   "metadata": {},
   "cell_type": "code",
   "source": [
    "# Divide train and test images by the maximum value (normalize it)\n",
    "train_data = train_data / 255.0\n",
    "test_data = test_data / 255.0"
   ],
   "id": "cfcaf2f956074f9",
   "outputs": [],
   "execution_count": null
  },
  {
   "metadata": {},
   "cell_type": "code",
   "source": [
    "tf.random.set_seed(42)\n",
    "modell1 = Sequential([\n",
    "    Flatten(input_shape=(28, 28)),\n",
    "    Dense(4, activation=\"relu\"),\n",
    "    Dense(4, activation=\"relu\"),\n",
    "    Dense(10, activation=\"sigmoid\"),\n",
    "])\n",
    "\n",
    "modell1.compile(loss=SparseCategoricalCrossentropy(), optimizer=Adam(), metrics=[\"accuracy\"])\n",
    "his1 = modell1.fit(train_data, train_labels, epochs=10, validation_data=(test_data, test_labels), verbose=2)"
   ],
   "id": "308b5d3e5a134b79",
   "outputs": [],
   "execution_count": null
  },
  {
   "metadata": {},
   "cell_type": "code",
   "source": [
    "import pandas as pd\n",
    "\n",
    "# Plot non-normalized data loss curves\n",
    "pd.DataFrame(his.history).plot(title=\"Non-normalized Data\")\n",
    "# Plot normalized data loss curves\n",
    "pd.DataFrame(his1.history).plot(title=\"Normalized data\");"
   ],
   "id": "86c8da82b00af49f",
   "outputs": [],
   "execution_count": null
  },
  {
   "metadata": {},
   "cell_type": "code",
   "source": [
    "from keras.api.callbacks import LearningRateScheduler\n",
    "\n",
    "tf.random.set_seed(42)\n",
    "modell2 = Sequential([\n",
    "    Flatten(input_shape=(28, 28)),\n",
    "    Dense(4, activation=\"relu\"),\n",
    "    Dense(4, activation=\"relu\"),\n",
    "    Dense(10, activation=\"softmax\"),\n",
    "])\n",
    "\n",
    "modell2.compile(loss=SparseCategoricalCrossentropy, optimizer=Adam(), metrics=[\"accuracy\"])\n",
    "lr_scheduler = LearningRateScheduler(lambda epochs: 1e-3 * 10 ** (epochs / 20))\n",
    "his_lr = modell2.fit(train_data, train_labels, epochs=40, validation_data=(test_data, test_labels), verbose=2)"
   ],
   "id": "d86597967d4b9292",
   "outputs": [],
   "execution_count": null
  },
  {
   "metadata": {},
   "cell_type": "code",
   "source": [
    "import numpy as np\n",
    "import matplotlib.pyplot as plt\n",
    "\n",
    "lrs = 1e-3 * (10 ** (np.arange(40) / 20))\n",
    "plt.semilogx(lrs, his_lr.history[\"loss\"])  # want the x-axis to be log-scale\n",
    "plt.xlabel(\"Learning rate\")\n",
    "plt.ylabel(\"Loss\")\n",
    "plt.title(\"Finding the ideal learning rate\");"
   ],
   "id": "efa422268f2e275d",
   "outputs": [],
   "execution_count": null
  },
  {
   "metadata": {},
   "cell_type": "code",
   "source": [
    "import itertools\n",
    "from sklearn.metrics import confusion_matrix\n",
    "\n",
    "\n",
    "def make_confusion_matrix(y_true, y_pred, classes=None, figsize=(10, 10), text_size=15):\n",
    "    # Create the confustion matrix\n",
    "    cm = confusion_matrix(y_true, y_pred)\n",
    "    cm_norm = cm.astype(\"float\") / cm.sum(axis=1)[:, np.newaxis]  # normalize it\n",
    "    n_classes = cm.shape[0]  # find the number of classes we're dealing with\n",
    "\n",
    "    # Plot the figure and make it pretty\n",
    "    fig, ax = plt.subplots(figsize=figsize)\n",
    "    cax = ax.matshow(cm, cmap=plt.cm.Blues)  # colors will represent how 'correct' a class is, darker == better\n",
    "    fig.colorbar(cax)\n",
    "\n",
    "    # Are there a list of classes?\n",
    "    if classes:\n",
    "        labels = classes\n",
    "    else:\n",
    "        labels = np.arange(cm.shape[0])\n",
    "\n",
    "    # Label the axes\n",
    "    ax.set(title=\"Confusion Matrix\",\n",
    "           xlabel=\"Predicted label\",\n",
    "           ylabel=\"True label\",\n",
    "           xticks=np.arange(n_classes),  # create enough axis slots for each class\n",
    "           yticks=np.arange(n_classes),\n",
    "           xticklabels=labels,  # axes will labeled with class names (if they exist) or ints\n",
    "           yticklabels=labels)\n",
    "\n",
    "    # Make x-axis labels appear on bottom\n",
    "    ax.xaxis.set_label_position(\"bottom\")\n",
    "    ax.xaxis.tick_bottom()\n",
    "\n",
    "    # Set the threshold for different colors\n",
    "    threshold = (cm.max() + cm.min()) / 2.\n",
    "\n",
    "    # Plot the text on each cell\n",
    "    for i, j in itertools.product(range(cm.shape[0]), range(cm.shape[1])):\n",
    "        plt.text(j, i, f\"{cm[i, j]} ({cm_norm[i, j] * 100:.1f}%)\",\n",
    "                 horizontalalignment=\"center\",\n",
    "                 color=\"white\" if cm[i, j] > threshold else \"black\",\n",
    "                 size=text_size)"
   ],
   "id": "bcae796f124a55f0",
   "outputs": [],
   "execution_count": null
  },
  {
   "metadata": {},
   "cell_type": "code",
   "source": [
    "y_probs = modell2.predict(test_data)\n",
    "y_probs[:5]"
   ],
   "id": "a9111cd8961ac697",
   "outputs": [],
   "execution_count": null
  },
  {
   "metadata": {},
   "cell_type": "code",
   "source": "y_probs[0].argmax(), class_names[y_probs[0].argmax()]",
   "id": "5d1d32c18102106b",
   "outputs": [],
   "execution_count": null
  },
  {
   "metadata": {},
   "cell_type": "code",
   "source": [
    "from sklearn.metrics import confusion_matrix\n",
    "y_preds = y_probs.argmax(axis=1)\n",
    "confusion_matrix(y_true=test_labels,\n",
    "                 y_pred=y_preds)"
   ],
   "id": "4e286ac3875b684a",
   "outputs": [],
   "execution_count": null
  },
  {
   "metadata": {},
   "cell_type": "code",
   "source": [
    "make_confusion_matrix(y_true=test_labels,\n",
    "                      y_pred=y_preds,\n",
    "                      classes=class_names,\n",
    "                      figsize=(15, 15),\n",
    "                      text_size=10)"
   ],
   "id": "dddd6866c26aec02",
   "outputs": [],
   "execution_count": null
  },
  {
   "metadata": {},
   "cell_type": "code",
   "source": [
    "import random\n",
    "\n",
    "def plot_random_image(model, images, true_labels, classes):\n",
    "    i = random.randint(0, len(images))\n",
    "    target_image = images[i]\n",
    "    pred_probs = model.predict(target_image.reshape(1, 28, 28))\n",
    "    pred_label = classes[pred_probs.argmax()]\n",
    "    true_label = classes[true_labels[i]]\n",
    "\n",
    "    plt.imshow(target_image, cmap=plt.cm.binary)\n",
    "\n",
    "    if pred_label == true_label:\n",
    "        color = \"green\"\n",
    "    else:\n",
    "        color = \"red\"\n",
    "\n",
    "    plt.xlabel(\"Pred: {} {:2.0f}% (True: {})\".format(pred_label,\n",
    "                                                     100 * tf.reduce_max(pred_probs),\n",
    "                                                     true_label),color=color)"
   ],
   "id": "6638e4ac6c26af25",
   "outputs": [],
   "execution_count": null
  },
  {
   "metadata": {},
   "cell_type": "code",
   "source": "plot_random_image(model=modell2, images=test_data, true_labels=test_labels, classes=class_names)",
   "id": "c63ae469888a0fc1",
   "outputs": [],
   "execution_count": null
  },
  {
   "metadata": {},
   "cell_type": "code",
   "source": "modell2.layers",
   "id": "7cfb8f75a80b67d",
   "outputs": [],
   "execution_count": null
  }
 ],
 "metadata": {
  "kernelspec": {
   "display_name": "Python 3",
   "language": "python",
   "name": "python3"
  },
  "language_info": {
   "codemirror_mode": {
    "name": "ipython",
    "version": 2
   },
   "file_extension": ".py",
   "mimetype": "text/x-python",
   "name": "python",
   "nbconvert_exporter": "python",
   "pygments_lexer": "ipython2",
   "version": "2.7.6"
  }
 },
 "nbformat": 4,
 "nbformat_minor": 5
}
