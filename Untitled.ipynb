{
 "cells": [
  {
   "cell_type": "code",
   "id": "f59a74b6e02b4d1a",
   "metadata": {
    "ExecuteTime": {
     "end_time": "2025-04-22T11:53:12.380249Z",
     "start_time": "2025-04-22T11:52:59.097295Z"
    }
   },
   "source": [
    "import tensorflow as tf\n",
    "print(\"Num GPUs Available:\", len(tf.config.list_physical_devices('GPU')))"
   ],
   "outputs": [
    {
     "name": "stdout",
     "output_type": "stream",
     "text": [
      "Num GPUs Available: 0\n"
     ]
    }
   ],
   "execution_count": 1
  },
  {
   "metadata": {},
   "cell_type": "code",
   "source": [
    "import torch\n",
    "x = torch.tensor([1.2, 3.4, 5.6])     # Shape: [3]\n",
    "print(x.shape)\n",
    "x = x.unsqueeze(0)                   # Shape: [1, 3]\n",
    "print(x.shape)                       # Batch of 1 sample"
   ],
   "id": "1fb69fe63292e070",
   "outputs": [],
   "execution_count": null
  },
  {
   "metadata": {},
   "cell_type": "code",
   "source": [
    "img = torch.randn(28, 28)           # Shape: [28, 28]\n",
    "img = img.unsqueeze(0).unsqueeze(0) # Shape: [1, 1, 28, 28]\n",
    "print(img.shape)"
   ],
   "id": "f7d4694711fa41c4",
   "outputs": [],
   "execution_count": null
  },
  {
   "metadata": {},
   "cell_type": "code",
   "source": [
    "output = torch.randn(4, 1)         # Simulated output from model\n",
    "print(output)\n",
    "print(output.shape)\n",
    "print()\n",
    "\n",
    "target = torch.tensor([1, 0, 1, 0]) # Shape: [4]\n",
    "print(target.shape)\n",
    "print()\n",
    "\n",
    "# Squeeze output to match target\n",
    "output = output.squeeze(1)         # Shape: [4]\n",
    "print(output,output.shape)\n",
    "loss = torch.nn.BCELoss()(torch.sigmoid(output), target.float())\n",
    "print(\"Loss:\", loss.item())"
   ],
   "id": "71a6f803edf4cbf",
   "outputs": [],
   "execution_count": null
  },
  {
   "metadata": {
    "ExecuteTime": {
     "end_time": "2025-04-22T12:05:59.523976Z",
     "start_time": "2025-04-22T12:05:59.513952Z"
    }
   },
   "cell_type": "code",
   "source": [
    "x = torch.tensor([1.0, 2.0, 3.0])\n",
    "print(x.shape)\n",
    "print(x)\n",
    "x = x.unsqueeze(0)                 # Shape: [1, 3]\n",
    "print(x)\n",
    "print()\n",
    "model_output = torch.nn.Linear(3, 2)(x)\n",
    "prediction = model_output.squeeze(0)  # Shape: [2]\n",
    "print(\"Prediction shape:\", prediction.shape)"
   ],
   "id": "34ae0d7a98ec43b2",
   "outputs": [
    {
     "name": "stdout",
     "output_type": "stream",
     "text": [
      "torch.Size([3])\n",
      "tensor([1., 2., 3.])\n",
      "tensor([[1., 2., 3.]])\n",
      "\n",
      "Prediction shape: torch.Size([2])\n"
     ]
    }
   ],
   "execution_count": 33
  },
  {
   "metadata": {
    "ExecuteTime": {
     "end_time": "2025-04-22T12:09:45.926407Z",
     "start_time": "2025-04-22T12:09:45.918482Z"
    }
   },
   "cell_type": "code",
   "source": [
    "x = torch.randn(32, 1, 28, 28)  # batch of 32 images\n",
    "x1 = x.view(-1)\n",
    "x2 = x.view(x.size(0), -1)  # Flatten → [32, 784]\n",
    "print(x1.shape)\n",
    "print(x2.shape)\n"
   ],
   "id": "6b5df236eb608802",
   "outputs": [
    {
     "name": "stdout",
     "output_type": "stream",
     "text": [
      "torch.Size([25088])\n",
      "torch.Size([32, 784])\n"
     ]
    }
   ],
   "execution_count": 47
  },
  {
   "metadata": {
    "ExecuteTime": {
     "end_time": "2025-04-22T12:11:36.224773Z",
     "start_time": "2025-04-22T12:11:36.210638Z"
    }
   },
   "cell_type": "code",
   "source": [
    "output = torch.randn(1, 1, 28, 28)     # Model output\n",
    "image = output.squeeze(1)              # Shape: [28, 28]\n",
    "image2=output.squeeze()\n",
    "print(\"Image shape:\", image.shape)\n",
    "print(\"Image shape:\", image2.shape)\n"
   ],
   "id": "9b98f9da0d305f0e",
   "outputs": [
    {
     "name": "stdout",
     "output_type": "stream",
     "text": [
      "Image shape: torch.Size([1, 28, 28])\n",
      "Image shape: torch.Size([28, 28])\n"
     ]
    }
   ],
   "execution_count": 56
  },
  {
   "metadata": {},
   "cell_type": "code",
   "source": [
    "tokens = torch.tensor([101, 2023, 2003, 1037, 2742, 102])  # [seq_len]\n",
    "tokens = tokens.unsqueeze(0)                              # [1, seq_len]\n",
    "print(\"Tokens shape:\", tokens.shape)"
   ],
   "id": "91e05f5fba8e344e",
   "outputs": [],
   "execution_count": null
  },
  {
   "metadata": {
    "ExecuteTime": {
     "end_time": "2025-04-22T12:13:51.704894Z",
     "start_time": "2025-04-22T12:13:51.696576Z"
    }
   },
   "cell_type": "code",
   "source": [
    "x = torch.tensor([[42.0]])           # Shape: [1, 1]\n",
    "x = x.squeeze()                      # Shape: []\n",
    "print(x.shape,x)\n",
    "value = x.item()                     # Get Python float\n",
    "print(\"Value:\", value)\n"
   ],
   "id": "866a6cd55dfc7b62",
   "outputs": [
    {
     "name": "stdout",
     "output_type": "stream",
     "text": [
      "torch.Size([]) tensor(42.)\n",
      "Value: 42.0\n"
     ]
    }
   ],
   "execution_count": 63
  },
  {
   "metadata": {},
   "cell_type": "code",
   "source": [
    "state = torch.tensor([0.5, 0.1, -0.3])   # Shape: [3]\n",
    "state = state.unsqueeze(0)              # Shape: [1, 3]\n",
    "q_values = torch.nn.Linear(3, 2)(state) # Simulated DQN\n",
    "print(\"Q-values:\", q_values)"
   ],
   "id": "ef05b4e152a91683",
   "outputs": [],
   "execution_count": null
  },
  {
   "metadata": {},
   "cell_type": "code",
   "source": [
    "rewards = torch.tensor([1.0, 0.0, 1.0])  # Shape: [3]\n",
    "rewards = rewards.unsqueeze(1)          # Shape: [3, 1]\n",
    "print(\"Rewards shape:\", rewards.shape)"
   ],
   "id": "6dc19bd42694d855",
   "outputs": [],
   "execution_count": null
  },
  {
   "metadata": {},
   "cell_type": "code",
   "outputs": [],
   "execution_count": null,
   "source": "",
   "id": "d1812e89a45fa1e6"
  }
 ],
 "metadata": {
  "kernelspec": {
   "display_name": "Python 3 (ipykernel)",
   "language": "python",
   "name": "python3"
  },
  "language_info": {
   "codemirror_mode": {
    "name": "ipython",
    "version": 3
   },
   "file_extension": ".py",
   "mimetype": "text/x-python",
   "name": "python",
   "nbconvert_exporter": "python",
   "pygments_lexer": "ipython3",
   "version": "3.11.0rc1"
  }
 },
 "nbformat": 4,
 "nbformat_minor": 5
}
