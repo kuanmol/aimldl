{
 "cells": [
  {
   "cell_type": "code",
   "id": "f59a74b6e02b4d1a",
   "metadata": {
    "ExecuteTime": {
     "end_time": "2025-05-29T07:11:35.082065Z",
     "start_time": "2025-05-29T07:11:27.311223Z"
    }
   },
   "source": [
    "import tensorflow as tf\n",
    "print(\"Num GPUs Available:\", len(tf.config.list_physical_devices('GPU')))"
   ],
   "outputs": [
    {
     "name": "stdout",
     "output_type": "stream",
     "text": [
      "Num GPUs Available: 0\n"
     ]
    }
   ],
   "execution_count": 1
  },
  {
   "metadata": {},
   "cell_type": "code",
   "source": [
    "import torch\n",
    "x = torch.tensor([1.2, 3.4, 5.6])     # Shape: [3]\n",
    "print(x.shape)\n",
    "x = x.unsqueeze(0)                   # Shape: [1, 3]\n",
    "print(x.shape)                       # Batch of 1 sample"
   ],
   "id": "1fb69fe63292e070",
   "outputs": [],
   "execution_count": null
  },
  {
   "metadata": {},
   "cell_type": "code",
   "source": [
    "img = torch.randn(28, 28)           # Shape: [28, 28]\n",
    "img = img.unsqueeze(0).unsqueeze(0) # Shape: [1, 1, 28, 28]\n",
    "print(img.shape)"
   ],
   "id": "f7d4694711fa41c4",
   "outputs": [],
   "execution_count": null
  },
  {
   "metadata": {},
   "cell_type": "code",
   "source": [
    "output = torch.randn(4, 1)         # Simulated output from model\n",
    "print(output)\n",
    "print(output.shape)\n",
    "print()\n",
    "\n",
    "target = torch.tensor([1, 0, 1, 0]) # Shape: [4]\n",
    "print(target.shape)\n",
    "print()\n",
    "\n",
    "# Squeeze output to match target\n",
    "output = output.squeeze(1)         # Shape: [4]\n",
    "print(output,output.shape)\n",
    "loss = torch.nn.BCELoss()(torch.sigmoid(output), target.float())\n",
    "print(\"Loss:\", loss.item())"
   ],
   "id": "71a6f803edf4cbf",
   "outputs": [],
   "execution_count": null
  },
  {
   "metadata": {
    "ExecuteTime": {
     "end_time": "2025-04-22T12:05:59.523976Z",
     "start_time": "2025-04-22T12:05:59.513952Z"
    }
   },
   "cell_type": "code",
   "source": [
    "x = torch.tensor([1.0, 2.0, 3.0])\n",
    "print(x.shape)\n",
    "print(x)\n",
    "x = x.unsqueeze(0)                 # Shape: [1, 3]\n",
    "print(x)\n",
    "print()\n",
    "model_output = torch.nn.Linear(3, 2)(x)\n",
    "prediction = model_output.squeeze(0)  # Shape: [2]\n",
    "print(\"Prediction shape:\", prediction.shape)"
   ],
   "id": "34ae0d7a98ec43b2",
   "outputs": [
    {
     "name": "stdout",
     "output_type": "stream",
     "text": [
      "torch.Size([3])\n",
      "tensor([1., 2., 3.])\n",
      "tensor([[1., 2., 3.]])\n",
      "\n",
      "Prediction shape: torch.Size([2])\n"
     ]
    }
   ],
   "execution_count": 33
  },
  {
   "metadata": {
    "ExecuteTime": {
     "end_time": "2025-04-22T12:09:45.926407Z",
     "start_time": "2025-04-22T12:09:45.918482Z"
    }
   },
   "cell_type": "code",
   "source": [
    "x = torch.randn(32, 1, 28, 28)  # batch of 32 images\n",
    "x1 = x.view(-1)\n",
    "x2 = x.view(x.size(0), -1)  # Flatten → [32, 784]\n",
    "print(x1.shape)\n",
    "print(x2.shape)\n"
   ],
   "id": "6b5df236eb608802",
   "outputs": [
    {
     "name": "stdout",
     "output_type": "stream",
     "text": [
      "torch.Size([25088])\n",
      "torch.Size([32, 784])\n"
     ]
    }
   ],
   "execution_count": 47
  },
  {
   "metadata": {
    "ExecuteTime": {
     "end_time": "2025-04-22T12:11:36.224773Z",
     "start_time": "2025-04-22T12:11:36.210638Z"
    }
   },
   "cell_type": "code",
   "source": [
    "output = torch.randn(1, 1, 28, 28)     # Model output\n",
    "image = output.squeeze(1)              # Shape: [28, 28]\n",
    "image2=output.squeeze()\n",
    "print(\"Image shape:\", image.shape)\n",
    "print(\"Image shape:\", image2.shape)\n"
   ],
   "id": "9b98f9da0d305f0e",
   "outputs": [
    {
     "name": "stdout",
     "output_type": "stream",
     "text": [
      "Image shape: torch.Size([1, 28, 28])\n",
      "Image shape: torch.Size([28, 28])\n"
     ]
    }
   ],
   "execution_count": 56
  },
  {
   "metadata": {},
   "cell_type": "code",
   "source": [
    "tokens = torch.tensor([101, 2023, 2003, 1037, 2742, 102])  # [seq_len]\n",
    "tokens = tokens.unsqueeze(0)                              # [1, seq_len]\n",
    "print(\"Tokens shape:\", tokens.shape)"
   ],
   "id": "91e05f5fba8e344e",
   "outputs": [],
   "execution_count": null
  },
  {
   "metadata": {
    "ExecuteTime": {
     "end_time": "2025-04-22T12:13:51.704894Z",
     "start_time": "2025-04-22T12:13:51.696576Z"
    }
   },
   "cell_type": "code",
   "source": [
    "x = torch.tensor([[42.0]])           # Shape: [1, 1]\n",
    "x = x.squeeze()                      # Shape: []\n",
    "print(x.shape,x)\n",
    "value = x.item()                     # Get Python float\n",
    "print(\"Value:\", value)\n"
   ],
   "id": "866a6cd55dfc7b62",
   "outputs": [
    {
     "name": "stdout",
     "output_type": "stream",
     "text": [
      "torch.Size([]) tensor(42.)\n",
      "Value: 42.0\n"
     ]
    }
   ],
   "execution_count": 63
  },
  {
   "metadata": {},
   "cell_type": "code",
   "source": [
    "state = torch.tensor([0.5, 0.1, -0.3])   # Shape: [3]\n",
    "state = state.unsqueeze(0)              # Shape: [1, 3]\n",
    "q_values = torch.nn.Linear(3, 2)(state) # Simulated DQN\n",
    "print(\"Q-values:\", q_values)"
   ],
   "id": "ef05b4e152a91683",
   "outputs": [],
   "execution_count": null
  },
  {
   "metadata": {},
   "cell_type": "code",
   "source": [
    "rewards = torch.tensor([1.0, 0.0, 1.0])  # Shape: [3]\n",
    "rewards = rewards.unsqueeze(1)          # Shape: [3, 1]\n",
    "print(\"Rewards shape:\", rewards.shape)"
   ],
   "id": "6dc19bd42694d855",
   "outputs": [],
   "execution_count": null
  },
  {
   "metadata": {
    "ExecuteTime": {
     "end_time": "2025-05-01T18:13:16.039813Z",
     "start_time": "2025-05-01T18:11:47.141463Z"
    }
   },
   "cell_type": "code",
   "source": [
    "import kagglehub\n",
    "\n",
    "# Download latest version\n",
    "path = kagglehub.dataset_download(\"andradaolteanu/gtzan-dataset-music-genre-classification\")\n",
    "\n",
    "print(\"Path to dataset files:\", path)"
   ],
   "id": "d1812e89a45fa1e6",
   "outputs": [
    {
     "name": "stderr",
     "output_type": "stream",
     "text": [
      "D:\\Artificial\\.venv\\Lib\\site-packages\\tqdm\\auto.py:21: TqdmWarning: IProgress not found. Please update jupyter and ipywidgets. See https://ipywidgets.readthedocs.io/en/stable/user_install.html\n",
      "  from .autonotebook import tqdm as notebook_tqdm\n"
     ]
    },
    {
     "name": "stdout",
     "output_type": "stream",
     "text": [
      "Warning: Looks like you're using an outdated `kagglehub` version (installed: 0.3.11), please consider upgrading to the latest version (0.3.12).\n",
      "Downloading from https://www.kaggle.com/api/v1/datasets/download/andradaolteanu/gtzan-dataset-music-genre-classification?dataset_version_number=1...\n"
     ]
    },
    {
     "name": "stderr",
     "output_type": "stream",
     "text": [
      "100%|██████████| 1.21G/1.21G [01:20<00:00, 16.2MB/s]"
     ]
    },
    {
     "name": "stdout",
     "output_type": "stream",
     "text": [
      "Extracting files...\n"
     ]
    },
    {
     "name": "stderr",
     "output_type": "stream",
     "text": [
      "\n"
     ]
    },
    {
     "name": "stdout",
     "output_type": "stream",
     "text": [
      "Path to dataset files: C:\\Users\\anmol\\.cache\\kagglehub\\datasets\\andradaolteanu\\gtzan-dataset-music-genre-classification\\versions\\1\n"
     ]
    }
   ],
   "execution_count": 1
  },
  {
   "metadata": {
    "ExecuteTime": {
     "end_time": "2025-05-26T10:55:25.779881Z",
     "start_time": "2025-05-26T10:55:25.760907Z"
    }
   },
   "cell_type": "code",
   "source": [
    "data = [\n",
    "    {\"text\": \"I love this movie!\", \"label\": 1},\n",
    "    {\"text\": \"This is terrible.\", \"label\": 0},\n",
    "    {\"text\": \"What a great day!\", \"label\": 1},\n",
    "    {\"text\": \"I hate this.\", \"label\": 0},\n",
    "    {\"text\": \"Absolutely fantastic!\", \"label\": 1},\n",
    "    {\"text\": \"So boring and slow.\", \"label\": 0}\n",
    "]"
   ],
   "id": "6b4903b3d8fe366",
   "outputs": [],
   "execution_count": 15
  },
  {
   "metadata": {
    "ExecuteTime": {
     "end_time": "2025-05-26T10:55:26.465196Z",
     "start_time": "2025-05-26T10:55:26.460195Z"
    }
   },
   "cell_type": "code",
   "source": [
    "# Step 2: Build vocabulary\n",
    "vocab = {\"<pad>\": 0, \"<unk>\": 1}\n",
    "idx = 2\n",
    "\n",
    "# Build vocab from data\n",
    "for sample in data:\n",
    "    for word in sample[\"text\"].lower().split():\n",
    "        word = word.strip(\".,!?\")  # remove punctuation\n",
    "        if word not in vocab:\n",
    "            vocab[word] = idx\n",
    "            idx += 1\n",
    "\n",
    "print(\"Vocabulary:\", vocab)\n"
   ],
   "id": "b44a847de8eb90d3",
   "outputs": [
    {
     "name": "stdout",
     "output_type": "stream",
     "text": [
      "Vocabulary: {'<pad>': 0, '<unk>': 1, 'i': 2, 'love': 3, 'this': 4, 'movie': 5, 'is': 6, 'terrible': 7, 'what': 8, 'a': 9, 'great': 10, 'day': 11, 'hate': 12, 'absolutely': 13, 'fantastic': 14, 'so': 15, 'boring': 16, 'and': 17, 'slow': 18}\n"
     ]
    }
   ],
   "execution_count": 16
  },
  {
   "metadata": {
    "ExecuteTime": {
     "end_time": "2025-05-26T10:55:27.150680Z",
     "start_time": "2025-05-26T10:55:27.145025Z"
    }
   },
   "cell_type": "code",
   "source": [
    "def tokenize(sentence, vocab, max_len=6):\n",
    "    words = sentence.lower().split()\n",
    "    tokens = [vocab.get(w.strip(\".,!?\"), vocab[\"<unk>\"]) for w in words]\n",
    "\n",
    "    # Pad or truncate\n",
    "    tokens = tokens[:max_len]\n",
    "    tokens += [vocab[\"<pad>\"]] * (max_len - len(tokens))\n",
    "    return tokens\n",
    "tokens = tokenize(\"I love this movie!\", vocab)\n",
    "print(\"Tokens:\", tokens)"
   ],
   "id": "d351b58a89337e49",
   "outputs": [
    {
     "name": "stdout",
     "output_type": "stream",
     "text": [
      "Tokens: [2, 3, 4, 5, 0, 0]\n"
     ]
    }
   ],
   "execution_count": 17
  },
  {
   "metadata": {
    "ExecuteTime": {
     "end_time": "2025-05-26T10:55:28.036832Z",
     "start_time": "2025-05-26T10:55:28.032132Z"
    }
   },
   "cell_type": "code",
   "source": [
    "import torch\n",
    "from torch.utils.data import Dataset\n",
    "\n",
    "class TextDataset(Dataset):\n",
    "    def __init__(self, data, vocab, max_len=6):\n",
    "        self.data = data\n",
    "        self.vocab = vocab\n",
    "        self.max_len = max_len\n",
    "\n",
    "    def __len__(self):\n",
    "        return len(self.data)\n",
    "\n",
    "    def __getitem__(self, idx):\n",
    "        sample = self.data[idx]\n",
    "        text = sample[\"text\"]\n",
    "        label = sample[\"label\"]\n",
    "\n",
    "        # Tokenize the text\n",
    "        tokens = tokenize(text, self.vocab, self.max_len)\n",
    "\n",
    "        # Convert tokens and label to tensors\n",
    "        tokens = torch.tensor(tokens, dtype=torch.long)\n",
    "        label = torch.tensor(label, dtype=torch.long)\n",
    "\n",
    "        return tokens, label"
   ],
   "id": "f4c626aa62ab859f",
   "outputs": [],
   "execution_count": 18
  },
  {
   "metadata": {
    "ExecuteTime": {
     "end_time": "2025-05-26T11:18:47.093209Z",
     "start_time": "2025-05-26T11:18:47.086144Z"
    }
   },
   "cell_type": "code",
   "source": [
    "from torch.utils.data import DataLoader\n",
    "\n",
    "dataset = TextDataset(data, vocab, max_len=6)\n",
    "dataloader = DataLoader(dataset, batch_size=2, shuffle=True)\n",
    "\n",
    "for batch_tokens, batch_labels in dataloader:\n",
    "    print(batch_tokens)\n",
    "    print(batch_labels)\n",
    "    break\n"
   ],
   "id": "8e22903dcbbebc7",
   "outputs": [
    {
     "name": "stdout",
     "output_type": "stream",
     "text": [
      "tensor([[15, 16, 17, 18,  0,  0],\n",
      "        [13, 14,  0,  0,  0,  0]])\n",
      "tensor([0, 1])\n"
     ]
    }
   ],
   "execution_count": 36
  },
  {
   "metadata": {
    "ExecuteTime": {
     "end_time": "2025-05-26T11:18:48.896515Z",
     "start_time": "2025-05-26T11:18:48.888359Z"
    }
   },
   "cell_type": "code",
   "source": [
    "import torch.nn as nn\n",
    "\n",
    "class TextClassifier(nn.Module):\n",
    "    def __init__(self, vocab_size, embed_dim, num_classes):\n",
    "        super(TextClassifier, self).__init__()\n",
    "        self.embedding = nn.Embedding(vocab_size, embed_dim)\n",
    "        self.fc = nn.Linear(embed_dim, num_classes)\n",
    "\n",
    "    def forward(self, x):\n",
    "        # x: (batch_size, max_len)\n",
    "        embedded = self.embedding(x)              # shape: (batch_size, max_len, embed_dim)\n",
    "        mean_embeds = embedded.mean(dim=1)        # average across tokens → (batch_size, embed_dim)\n",
    "        output = self.fc(mean_embeds)             # → (batch_size, num_classes)\n",
    "        return output\n",
    "\n",
    "vocab_size = len(vocab)\n",
    "embed_dim = 50\n",
    "num_classes = 2  # binary classification\n",
    "\n",
    "model = TextClassifier(vocab_size, embed_dim, num_classes)\n"
   ],
   "id": "68ac4229196fe4f5",
   "outputs": [],
   "execution_count": 37
  },
  {
   "metadata": {
    "ExecuteTime": {
     "end_time": "2025-05-26T11:18:50.075597Z",
     "start_time": "2025-05-26T11:18:50.023269Z"
    }
   },
   "cell_type": "code",
   "source": [
    "import torch\n",
    "import torch.nn as nn\n",
    "import torch.optim as optim\n",
    "\n",
    "# Move model to device (GPU if available)\n",
    "device = torch.device(\"cuda\" if torch.cuda.is_available() else \"cpu\")\n",
    "model = model.to(device)\n",
    "\n",
    "# Loss function & optimizer\n",
    "criterion = nn.CrossEntropyLoss()\n",
    "optimizer = optim.Adam(model.parameters(), lr=0.001)\n",
    "\n",
    "# Training loop\n",
    "num_epochs = 5\n",
    "\n",
    "for epoch in range(num_epochs):\n",
    "    model.train()\n",
    "    total_loss = 0\n",
    "    correct = 0\n",
    "    total = 0\n",
    "\n",
    "    for tokens, labels in dataloader:\n",
    "        tokens = tokens.to(device)\n",
    "        labels = labels.to(device)\n",
    "\n",
    "        optimizer.zero_grad()\n",
    "        outputs = model(tokens)\n",
    "        loss = criterion(outputs, labels)\n",
    "        loss.backward()\n",
    "        optimizer.step()\n",
    "\n",
    "        total_loss += loss.item()\n",
    "\n",
    "        # ----------- Accuracy calculation ----------\n",
    "        preds = torch.argmax(outputs, dim=1)  # predicted labels\n",
    "        correct += (preds == labels).sum().item()\n",
    "        total += labels.size(0)\n",
    "        # --------------------------------------------\n",
    "\n",
    "    accuracy = correct / total * 100\n",
    "    print(f\"Epoch {epoch+1}/{num_epochs}, Loss: {total_loss:.4f}, Accuracy: {accuracy:.2f}%\")\n"
   ],
   "id": "734af51aea990880",
   "outputs": [
    {
     "name": "stdout",
     "output_type": "stream",
     "text": [
      "Epoch 1/5, Loss: 2.0016, Accuracy: 66.67%\n",
      "Epoch 2/5, Loss: 1.9718, Accuracy: 83.33%\n",
      "Epoch 3/5, Loss: 1.9395, Accuracy: 83.33%\n",
      "Epoch 4/5, Loss: 1.9113, Accuracy: 83.33%\n",
      "Epoch 5/5, Loss: 1.8897, Accuracy: 83.33%\n"
     ]
    }
   ],
   "execution_count": 38
  },
  {
   "metadata": {},
   "cell_type": "code",
   "source": [
    "model.eval()\n",
    "with torch.no_grad():\n",
    "    test_sentence = \"I love this movie\"\n",
    "    tokens = tokenize(test_sentence, vocab)\n",
    "    tokens = torch.tensor(tokens).unsqueeze(0).to(device)  # shape: (1, max_len)\n",
    "    output = model(tokens)\n",
    "    predicted = torch.argmax(output, dim=1).item()\n",
    "    print(\"Predicted label:\", predicted)"
   ],
   "id": "3236e759b641c63a",
   "outputs": [],
   "execution_count": null
  },
  {
   "metadata": {
    "ExecuteTime": {
     "end_time": "2025-05-26T16:55:48.995440Z",
     "start_time": "2025-05-26T16:55:47.024453Z"
    }
   },
   "cell_type": "code",
   "source": [
    "import pandas as pd\n",
    "\n",
    "device = torch.device(\"cuda\" if torch.cuda.is_available() else \"cpu\")\n",
    "print(f\"Using device: {device}\")\n",
    "\n",
    "# Replace with your actual file path\n",
    "file_path = \"DL/RNN/eng-french/eng_-french.csv\"\n",
    "\n",
    "df = pd.read_csv(file_path)\n",
    "\n",
    "# See first few rows\n",
    "print(df.head())"
   ],
   "id": "5959d7235d975814",
   "outputs": [
    {
     "name": "stdout",
     "output_type": "stream",
     "text": [
      "Using device: cuda\n",
      "  English words/sentences French words/sentences\n",
      "0                     Hi.                 Salut!\n",
      "1                    Run!                Cours !\n",
      "2                    Run!               Courez !\n",
      "3                    Who?                  Qui ?\n",
      "4                    Wow!             Ça alors !\n"
     ]
    }
   ],
   "execution_count": 3
  },
  {
   "metadata": {
    "ExecuteTime": {
     "end_time": "2025-05-26T16:55:51.275088Z",
     "start_time": "2025-05-26T16:55:50.645090Z"
    }
   },
   "cell_type": "code",
   "source": [
    "def build_vocab(sentences, min_freq=1):\n",
    "    from collections import Counter\n",
    "\n",
    "    vocab = {\"<pad>\": 0, \"<sos>\": 1, \"<eos>\": 2, \"<unk>\": 3}\n",
    "    counter = Counter()\n",
    "\n",
    "    for sentence in sentences:\n",
    "        for word in sentence.lower().split():\n",
    "            word = word.strip(\".,!?;:()\\\"'\")  # Remove punctuation\n",
    "            counter[word] += 1\n",
    "\n",
    "    idx = len(vocab)\n",
    "    for word, freq in counter.items():\n",
    "        if freq >= min_freq and word not in vocab:\n",
    "            vocab[word] = idx\n",
    "            idx += 1\n",
    "    return vocab\n",
    "\n",
    "# Build vocabularies\n",
    "english_sentences = df['English words/sentences'].tolist()\n",
    "french_sentences = df['French words/sentences'].tolist()\n",
    "\n",
    "eng_vocab = build_vocab(english_sentences)\n",
    "fr_vocab = build_vocab(french_sentences)\n",
    "\n",
    "print(f\"English vocab size: {len(eng_vocab)}\")\n",
    "print(f\"French vocab size: {len(fr_vocab)}\")"
   ],
   "id": "5cfcc92087d852e7",
   "outputs": [
    {
     "name": "stdout",
     "output_type": "stream",
     "text": [
      "English vocab size: 14907\n",
      "French vocab size: 29699\n"
     ]
    }
   ],
   "execution_count": 4
  },
  {
   "metadata": {
    "ExecuteTime": {
     "end_time": "2025-05-26T17:20:20.980897Z",
     "start_time": "2025-05-26T17:20:20.975336Z"
    }
   },
   "cell_type": "code",
   "source": [
    "def tokenize_sentence(sentence, vocab, add_sos_eos=False, max_len=20):\n",
    "    tokens = []\n",
    "    if add_sos_eos:\n",
    "        tokens.append(vocab[\"<sos>\"])\n",
    "\n",
    "    for word in sentence.lower().split():\n",
    "        word = word.strip(\".,!?;:()\\\"'\")\n",
    "        tokens.append(vocab.get(word, vocab[\"<unk>\"]))\n",
    "\n",
    "    if add_sos_eos:\n",
    "        tokens.append(vocab[\"<eos>\"])\n",
    "\n",
    "    # Pad or truncate\n",
    "    if len(tokens) > max_len:\n",
    "        tokens = tokens[:max_len]\n",
    "    else:\n",
    "        tokens += [vocab[\"<pad>\"]] * (max_len - len(tokens))\n",
    "\n",
    "    return tokens\n",
    "\n",
    "# Test example\n",
    "print(tokenize_sentence(\"I love this movie.\", eng_vocab))\n",
    "print(tokenize_sentence(\"J'aime ce film.\", fr_vocab, add_sos_eos=True))"
   ],
   "id": "7bbae75f6c43b549",
   "outputs": [
    {
     "name": "stdout",
     "output_type": "stream",
     "text": [
      "[16, 272, 121, 2337, 0, 0, 0, 0, 0, 0, 0, 0, 0, 0, 0, 0, 0, 0, 0, 0]\n",
      "[1, 569, 772, 4920, 2, 0, 0, 0, 0, 0, 0, 0, 0, 0, 0, 0, 0, 0, 0, 0]\n"
     ]
    }
   ],
   "execution_count": 19
  },
  {
   "metadata": {
    "ExecuteTime": {
     "end_time": "2025-05-26T17:20:21.785999Z",
     "start_time": "2025-05-26T17:20:21.777190Z"
    }
   },
   "cell_type": "code",
   "source": [
    "from torch.utils.data import Dataset\n",
    "import torch\n",
    "\n",
    "class TranslationDataset(Dataset):\n",
    "    def __init__(self, source_sentences, target_sentences, src_vocab, tgt_vocab, max_len=20):\n",
    "        self.source_sentences = source_sentences\n",
    "        self.target_sentences = target_sentences\n",
    "        self.src_vocab = src_vocab\n",
    "        self.tgt_vocab = tgt_vocab\n",
    "        self.max_len = max_len\n",
    "\n",
    "    def __len__(self):\n",
    "        return len(self.source_sentences)\n",
    "\n",
    "    def __getitem__(self, idx):\n",
    "        src = self.source_sentences[idx]\n",
    "        tgt = self.target_sentences[idx]\n",
    "\n",
    "        src_tokens = tokenize_sentence(src, self.src_vocab, add_sos_eos=False, max_len=self.max_len)\n",
    "        tgt_tokens = tokenize_sentence(tgt, self.tgt_vocab, add_sos_eos=True, max_len=self.max_len)\n",
    "\n",
    "        return torch.tensor(src_tokens, dtype=torch.long), torch.tensor(tgt_tokens, dtype=torch.long)\n"
   ],
   "id": "2279ca2f26fa9913",
   "outputs": [],
   "execution_count": 20
  },
  {
   "metadata": {
    "ExecuteTime": {
     "end_time": "2025-05-26T17:20:22.351968Z",
     "start_time": "2025-05-26T17:20:22.273295Z"
    }
   },
   "cell_type": "code",
   "source": [
    "import torch\n",
    "import torch.nn as nn\n",
    "from torch.utils.data import Dataset, DataLoader\n",
    "from sklearn.model_selection import train_test_split\n",
    "\n",
    "train_src, val_src, train_tgt, val_tgt = train_test_split(\n",
    "    english_sentences, french_sentences, test_size=0.2, random_state=42)\n",
    "\n",
    "train_dataset = TranslationDataset(train_src, train_tgt, eng_vocab, fr_vocab, max_len=20)\n",
    "val_dataset = TranslationDataset(val_src, val_tgt, eng_vocab, fr_vocab, max_len=20)\n",
    "\n",
    "train_loader = DataLoader(train_dataset, batch_size=32, shuffle=True)\n",
    "val_loader = DataLoader(val_dataset, batch_size=32)"
   ],
   "id": "eaaf16c76c3b92a6",
   "outputs": [],
   "execution_count": 21
  },
  {
   "metadata": {
    "ExecuteTime": {
     "end_time": "2025-05-26T17:20:22.754982Z",
     "start_time": "2025-05-26T17:20:22.739739Z"
    }
   },
   "cell_type": "code",
   "source": [
    "class Encoder(nn.Module):\n",
    "    def __init__(self, input_dim, emb_dim, hid_dim, n_layers=2, dropout=0.7):\n",
    "        super().__init__()\n",
    "        self.embedding = nn.Embedding(input_dim, emb_dim)\n",
    "        self.gru = nn.GRU(emb_dim, hid_dim, num_layers=n_layers,\n",
    "                          dropout=dropout if n_layers > 1 else 0, batch_first=True)\n",
    "\n",
    "    def forward(self, src):\n",
    "        embedded = self.embedding(src)\n",
    "        outputs, hidden = self.gru(embedded)\n",
    "\n",
    "        return outputs, hidden\n",
    "\n",
    "\n",
    "class LuongAttention(nn.Module):\n",
    "    def __init__(self, hid_dim):\n",
    "        super().__init__()\n",
    "        self.attn = nn.Linear(hid_dim * 2, hid_dim)\n",
    "        self.v = nn.Parameter(torch.rand(hid_dim))\n",
    "\n",
    "    def forward(self, hidden, encoder_outputs):\n",
    "        batch_size = encoder_outputs.shape[0]\n",
    "        src_len = encoder_outputs.shape[1]\n",
    "\n",
    "        # Repeat decoder hidden state src_len times\n",
    "        hidden = hidden.unsqueeze(1).repeat(1, src_len, 1)  # (batch_size, src_len, hid_dim)\n",
    "\n",
    "        energy = torch.tanh(self.attn(torch.cat((hidden, encoder_outputs), dim=2)))  # (batch_size, src_len, hid_dim)\n",
    "        energy = energy.permute(0, 2, 1)  # (batch_size, hid_dim, src_len)\n",
    "\n",
    "        v = self.v.repeat(batch_size, 1).unsqueeze(1)  # (batch_size, 1, hid_dim)\n",
    "\n",
    "        attention = torch.bmm(v, energy).squeeze(1)  # (batch_size, src_len)\n",
    "        return torch.softmax(attention, dim=1)  # (batch_size, src_len)\n",
    "\n",
    "\n",
    "class Decoder(nn.Module):\n",
    "    def __init__(self, output_dim, emb_dim, hid_dim, n_layers=2, dropout=0.7):\n",
    "        super().__init__()\n",
    "        self.output_dim = output_dim\n",
    "        self.embedding = nn.Embedding(output_dim, emb_dim)\n",
    "        self.gru = nn.GRU(emb_dim + hid_dim, hid_dim, num_layers=n_layers,\n",
    "                          dropout=dropout if n_layers > 1 else 0, batch_first=True)\n",
    "        self.fc_out = nn.Linear(hid_dim * 2, output_dim)\n",
    "        self.attention = LuongAttention(hid_dim)\n",
    "\n",
    "    def forward(self, input, hidden, encoder_outputs):\n",
    "\n",
    "\n",
    "        input = input.unsqueeze(1)\n",
    "        embedded = self.embedding(input)\n",
    "\n",
    "        attn_weights = self.attention(hidden[-1], encoder_outputs)\n",
    "\n",
    "        attn_weights = attn_weights.unsqueeze(1)  # (batch_size, 1, src_len)\n",
    "\n",
    "        # Context vector = weighted sum of encoder outputs\n",
    "        context = torch.bmm(attn_weights, encoder_outputs)  # (batch_size, 1, hid_dim)\n",
    "\n",
    "        gru_input = torch.cat((embedded, context), dim=2)  # (batch_size, 1, emb_dim + hid_dim)\n",
    "\n",
    "        output, hidden = self.gru(gru_input, hidden)  # output: (batch_size, 1, hid_dim)\n",
    "\n",
    "        output = output.squeeze(1)  # (batch_size, hid_dim)\n",
    "        context = context.squeeze(1)  # (batch_size, hid_dim)\n",
    "\n",
    "        output = self.fc_out(torch.cat((output, context), dim=1))  # (batch_size, output_dim)\n",
    "\n",
    "        return output, hidden, attn_weights.squeeze(1)  # return attention weights if you want to visualize\n",
    "\n"
   ],
   "id": "a577bf81e2a1e067",
   "outputs": [],
   "execution_count": 22
  },
  {
   "metadata": {
    "ExecuteTime": {
     "end_time": "2025-05-26T17:20:23.438104Z",
     "start_time": "2025-05-26T17:20:23.202799Z"
    }
   },
   "cell_type": "code",
   "source": [
    "EMB_DIM = 256\n",
    "HID_DIM = 512\n",
    "N_LAYERS = 2\n",
    "DROPOUT = 0.7\n",
    "INPUT_DIM = len(eng_vocab)\n",
    "OUTPUT_DIM = len(fr_vocab)\n",
    "\n",
    "encoder = Encoder(INPUT_DIM, EMB_DIM, HID_DIM, N_LAYERS, DROPOUT).to(device)\n",
    "decoder = Decoder(OUTPUT_DIM, EMB_DIM, HID_DIM, N_LAYERS, DROPOUT).to(device)\n",
    "\n",
    "encoder_optimizer = torch.optim.Adam(encoder.parameters(), lr=1e-4)\n",
    "decoder_optimizer = torch.optim.Adam(decoder.parameters(), lr=1e-4)\n",
    "\n",
    "criterion = nn.CrossEntropyLoss(ignore_index=fr_vocab[\"<pad>\"])\n",
    "pad_idx = fr_vocab[\"<pad>\"]  # for masking in accuracy calculation\n"
   ],
   "id": "3aa849e1c2f7d8c9",
   "outputs": [],
   "execution_count": 23
  },
  {
   "metadata": {
    "ExecuteTime": {
     "end_time": "2025-05-26T17:20:23.840793Z",
     "start_time": "2025-05-26T17:20:23.833553Z"
    }
   },
   "cell_type": "code",
   "source": [
    "def train_loop(dataloader, encoder, decoder, encoder_optimizer, decoder_optimizer, criterion, device, pad_idx, teacher_forcing_ratio=0.5):\n",
    "    encoder.train()\n",
    "    decoder.train()\n",
    "\n",
    "    total_loss, total_correct, total_tokens = 0, 0, 0\n",
    "\n",
    "    for src_tokens, tgt_tokens in dataloader:\n",
    "        src_tokens, tgt_tokens = src_tokens.to(device), tgt_tokens.to(device)\n",
    "\n",
    "        encoder_optimizer.zero_grad()\n",
    "        decoder_optimizer.zero_grad()\n",
    "\n",
    "        encoder_outputs, hidden = encoder(src_tokens)\n",
    "\n",
    "        batch_size = src_tokens.size(0)\n",
    "        tgt_len = tgt_tokens.size(1)\n",
    "        output_dim = decoder.output_dim\n",
    "\n",
    "        # First input to the decoder is <sos> tokens\n",
    "        input = tgt_tokens[:, 0]\n",
    "\n",
    "        outputs = torch.zeros(batch_size, tgt_len - 1, output_dim).to(device)\n",
    "\n",
    "        for t in range(1, tgt_len):\n",
    "            output, hidden, _ = decoder(input, hidden, encoder_outputs)\n",
    "            outputs[:, t-1, :] = output\n",
    "\n",
    "            teacher_force = torch.rand(1).item() < teacher_forcing_ratio\n",
    "            top1 = output.argmax(1)\n",
    "\n",
    "            input = tgt_tokens[:, t] if teacher_force else top1\n",
    "\n",
    "        output_flat = outputs.reshape(-1, output_dim)\n",
    "        target_flat = tgt_tokens[:, 1:].reshape(-1)\n",
    "\n",
    "        loss = criterion(output_flat, target_flat)\n",
    "        loss.backward()\n",
    "\n",
    "        torch.nn.utils.clip_grad_norm_(encoder.parameters(), max_norm=1)\n",
    "        torch.nn.utils.clip_grad_norm_(decoder.parameters(), max_norm=1)\n",
    "\n",
    "        encoder_optimizer.step()\n",
    "        decoder_optimizer.step()\n",
    "\n",
    "        total_loss += loss.item()\n",
    "\n",
    "        preds = output_flat.argmax(dim=1)\n",
    "        mask = target_flat != pad_idx\n",
    "        total_correct += ((preds == target_flat) & mask).sum().item()\n",
    "        total_tokens += mask.sum().item()\n",
    "\n",
    "    avg_loss = total_loss / len(dataloader)\n",
    "    accuracy = total_correct / total_tokens if total_tokens > 0 else 0\n",
    "    return avg_loss, accuracy\n"
   ],
   "id": "f2d10b14315311ca",
   "outputs": [],
   "execution_count": 24
  },
  {
   "metadata": {
    "ExecuteTime": {
     "end_time": "2025-05-26T19:36:37.590093Z",
     "start_time": "2025-05-26T17:20:24.443855Z"
    }
   },
   "cell_type": "code",
   "source": [
    "@torch.no_grad()\n",
    "def evaluate_loop(dataloader, encoder, decoder, criterion, device, pad_idx):\n",
    "    encoder.eval()\n",
    "    decoder.eval()\n",
    "\n",
    "    total_loss, total_correct, total_tokens = 0, 0, 0\n",
    "\n",
    "    for src_tokens, tgt_tokens in dataloader:\n",
    "        src_tokens, tgt_tokens = src_tokens.to(device), tgt_tokens.to(device)\n",
    "\n",
    "        encoder_outputs, hidden = encoder(src_tokens)\n",
    "\n",
    "        batch_size = src_tokens.size(0)\n",
    "        tgt_len = tgt_tokens.size(1)\n",
    "        output_dim = decoder.output_dim\n",
    "\n",
    "        input = tgt_tokens[:, 0]\n",
    "\n",
    "        outputs = torch.zeros(batch_size, tgt_len - 1, output_dim).to(device)\n",
    "\n",
    "        for t in range(1, tgt_len):\n",
    "            output, hidden, _ = decoder(input, hidden, encoder_outputs)\n",
    "            outputs[:, t-1, :] = output\n",
    "\n",
    "            top1 = output.argmax(1)\n",
    "            input = top1\n",
    "\n",
    "        output_flat = outputs.reshape(-1, output_dim)\n",
    "        target_flat = tgt_tokens[:, 1:].reshape(-1)\n",
    "\n",
    "        loss = criterion(output_flat, target_flat)\n",
    "        total_loss += loss.item()\n",
    "\n",
    "        preds = output_flat.argmax(dim=1)\n",
    "        mask = target_flat != pad_idx\n",
    "        total_correct += ((preds == target_flat) & mask).sum().item()\n",
    "        total_tokens += mask.sum().item()\n",
    "\n",
    "    avg_loss = total_loss / len(dataloader)\n",
    "    accuracy = total_correct / total_tokens if total_tokens > 0 else 0\n",
    "    return avg_loss, accuracy\n",
    "\n",
    "\n",
    "num_epochs = 10\n",
    "\n",
    "for epoch in range(num_epochs):\n",
    "    train_loss, train_acc = train_loop(train_loader, encoder, decoder,\n",
    "                                       encoder_optimizer, decoder_optimizer,\n",
    "                                       criterion, device, pad_idx)\n",
    "    val_loss, val_acc = evaluate_loop(val_loader, encoder, decoder,\n",
    "                                      criterion, device, pad_idx)\n",
    "\n",
    "    print(f\"Epoch {epoch + 1}/{num_epochs}\")\n",
    "    print(f\"  Train Loss: {train_loss:.4f} | Train Acc: {train_acc:.4f}\")\n",
    "    print(f\"  Val   Loss: {val_loss:.4f} | Val   Acc: {val_acc:.4f}\")\n"
   ],
   "id": "420d7b6e27f5a46",
   "outputs": [
    {
     "name": "stdout",
     "output_type": "stream",
     "text": [
      "Epoch 1/10\n",
      "  Train Loss: 4.8290 | Train Acc: 0.2847\n",
      "  Val   Loss: 4.2224 | Val   Acc: 0.3368\n",
      "Epoch 2/10\n",
      "  Train Loss: 3.5433 | Train Acc: 0.4043\n",
      "  Val   Loss: 3.6668 | Val   Acc: 0.3867\n",
      "Epoch 3/10\n",
      "  Train Loss: 2.9876 | Train Acc: 0.4604\n",
      "  Val   Loss: 3.3665 | Val   Acc: 0.4167\n",
      "Epoch 4/10\n",
      "  Train Loss: 2.6358 | Train Acc: 0.4981\n",
      "  Val   Loss: 3.1513 | Val   Acc: 0.4430\n",
      "Epoch 5/10\n",
      "  Train Loss: 2.3825 | Train Acc: 0.5264\n",
      "  Val   Loss: 3.0407 | Val   Acc: 0.4560\n",
      "Epoch 6/10\n",
      "  Train Loss: 2.1832 | Train Acc: 0.5508\n",
      "  Val   Loss: 2.9358 | Val   Acc: 0.4662\n",
      "Epoch 7/10\n",
      "  Train Loss: 2.0273 | Train Acc: 0.5706\n",
      "  Val   Loss: 2.8459 | Val   Acc: 0.4780\n"
     ]
    },
    {
     "ename": "KeyboardInterrupt",
     "evalue": "",
     "output_type": "error",
     "traceback": [
      "\u001B[31m---------------------------------------------------------------------------\u001B[39m",
      "\u001B[31mKeyboardInterrupt\u001B[39m                         Traceback (most recent call last)",
      "\u001B[36mCell\u001B[39m\u001B[36m \u001B[39m\u001B[32mIn[25]\u001B[39m\u001B[32m, line 47\u001B[39m\n\u001B[32m     44\u001B[39m num_epochs = \u001B[32m10\u001B[39m\n\u001B[32m     46\u001B[39m \u001B[38;5;28;01mfor\u001B[39;00m epoch \u001B[38;5;129;01min\u001B[39;00m \u001B[38;5;28mrange\u001B[39m(num_epochs):\n\u001B[32m---> \u001B[39m\u001B[32m47\u001B[39m     train_loss, train_acc = \u001B[43mtrain_loop\u001B[49m\u001B[43m(\u001B[49m\u001B[43mtrain_loader\u001B[49m\u001B[43m,\u001B[49m\u001B[43m \u001B[49m\u001B[43mencoder\u001B[49m\u001B[43m,\u001B[49m\u001B[43m \u001B[49m\u001B[43mdecoder\u001B[49m\u001B[43m,\u001B[49m\n\u001B[32m     48\u001B[39m \u001B[43m                                       \u001B[49m\u001B[43mencoder_optimizer\u001B[49m\u001B[43m,\u001B[49m\u001B[43m \u001B[49m\u001B[43mdecoder_optimizer\u001B[49m\u001B[43m,\u001B[49m\n\u001B[32m     49\u001B[39m \u001B[43m                                       \u001B[49m\u001B[43mcriterion\u001B[49m\u001B[43m,\u001B[49m\u001B[43m \u001B[49m\u001B[43mdevice\u001B[49m\u001B[43m,\u001B[49m\u001B[43m \u001B[49m\u001B[43mpad_idx\u001B[49m\u001B[43m)\u001B[49m\n\u001B[32m     50\u001B[39m     val_loss, val_acc = evaluate_loop(val_loader, encoder, decoder,\n\u001B[32m     51\u001B[39m                                       criterion, device, pad_idx)\n\u001B[32m     53\u001B[39m     \u001B[38;5;28mprint\u001B[39m(\u001B[33mf\u001B[39m\u001B[33m\"\u001B[39m\u001B[33mEpoch \u001B[39m\u001B[38;5;132;01m{\u001B[39;00mepoch\u001B[38;5;250m \u001B[39m+\u001B[38;5;250m \u001B[39m\u001B[32m1\u001B[39m\u001B[38;5;132;01m}\u001B[39;00m\u001B[33m/\u001B[39m\u001B[38;5;132;01m{\u001B[39;00mnum_epochs\u001B[38;5;132;01m}\u001B[39;00m\u001B[33m\"\u001B[39m)\n",
      "\u001B[36mCell\u001B[39m\u001B[36m \u001B[39m\u001B[32mIn[24]\u001B[39m\u001B[32m, line 49\u001B[39m, in \u001B[36mtrain_loop\u001B[39m\u001B[34m(dataloader, encoder, decoder, encoder_optimizer, decoder_optimizer, criterion, device, pad_idx, teacher_forcing_ratio)\u001B[39m\n\u001B[32m     47\u001B[39m     preds = output_flat.argmax(dim=\u001B[32m1\u001B[39m)\n\u001B[32m     48\u001B[39m     mask = target_flat != pad_idx\n\u001B[32m---> \u001B[39m\u001B[32m49\u001B[39m     total_correct += \u001B[43m(\u001B[49m\u001B[43m(\u001B[49m\u001B[43mpreds\u001B[49m\u001B[43m \u001B[49m\u001B[43m==\u001B[49m\u001B[43m \u001B[49m\u001B[43mtarget_flat\u001B[49m\u001B[43m)\u001B[49m\u001B[43m \u001B[49m\u001B[43m&\u001B[49m\u001B[43m \u001B[49m\u001B[43mmask\u001B[49m\u001B[43m)\u001B[49m\u001B[43m.\u001B[49m\u001B[43msum\u001B[49m\u001B[43m(\u001B[49m\u001B[43m)\u001B[49m\u001B[43m.\u001B[49m\u001B[43mitem\u001B[49m\u001B[43m(\u001B[49m\u001B[43m)\u001B[49m\n\u001B[32m     50\u001B[39m     total_tokens += mask.sum().item()\n\u001B[32m     52\u001B[39m avg_loss = total_loss / \u001B[38;5;28mlen\u001B[39m(dataloader)\n",
      "\u001B[31mKeyboardInterrupt\u001B[39m: "
     ]
    }
   ],
   "execution_count": 25
  },
  {
   "metadata": {
    "ExecuteTime": {
     "end_time": "2025-05-26T19:36:42.503539Z",
     "start_time": "2025-05-26T19:36:41.347734Z"
    }
   },
   "cell_type": "code",
   "source": [
    "import matplotlib.pyplot as plt\n",
    "\n",
    "train_losses = [3.2226, 1.7968, 1.2684, 0.9930, 0.8477, 0.7630, 0.7088, 0.6720, 0.6467, 0.6283]\n",
    "val_losses   = [2.3611, 2.0270, 1.9881, 2.0060, 2.0640, 2.1267, 2.1771, 2.2328, 2.2842, 2.3351]\n",
    "\n",
    "train_accuracies = [0.4612, 0.6243, 0.6967, 0.7461, 0.7757, 0.7936, 0.8051, 0.8135, 0.8196, 0.8237]\n",
    "val_accuracies   = [0.5650, 0.6166, 0.6314, 0.6380, 0.6382, 0.6373, 0.6378, 0.6383, 0.6366, 0.6354]\n",
    "epochs = list(range(1, 11))\n",
    "\n",
    "# Plot Loss\n",
    "plt.figure(figsize=(12, 5))\n",
    "\n",
    "plt.subplot(1, 2, 1)\n",
    "plt.plot(epochs, train_losses, label='Train Loss', marker='o')\n",
    "plt.plot(epochs, val_losses, label='Validation Loss', marker='o')\n",
    "plt.title('Loss Over Epochs')\n",
    "plt.xlabel('Epoch')\n",
    "plt.ylabel('Loss')\n",
    "plt.legend()\n",
    "plt.grid(True)\n",
    "\n",
    "# Plot Accuracy\n",
    "plt.subplot(1, 2, 2)\n",
    "plt.plot(epochs, train_accuracies, label='Train Accuracy', marker='o')\n",
    "plt.plot(epochs, val_accuracies, label='Validation Accuracy', marker='o')\n",
    "plt.title('Accuracy Over Epochs')\n",
    "plt.xlabel('Epoch')\n",
    "plt.ylabel('Accuracy')\n",
    "plt.legend()\n",
    "plt.grid(True)\n",
    "\n",
    "plt.tight_layout()\n",
    "plt.show()\n"
   ],
   "id": "faebfd0b235d41c8",
   "outputs": [
    {
     "data": {
      "text/plain": [
       "<Figure size 1200x500 with 2 Axes>"
      ],
      "image/png": "[encoded data removed]"
     },
     "metadata": {},
     "output_type": "display_data"
    }
   ],
   "execution_count": 26
  },
  {
   "metadata": {
    "ExecuteTime": {
     "end_time": "2025-05-26T19:36:45.021557Z",
     "start_time": "2025-05-26T19:36:44.843910Z"
    }
   },
   "cell_type": "code",
   "source": [
    "def translate_sentence(sentence, encoder, decoder, eng_vocab, fr_vocab, max_len=20, device='cpu'):\n",
    "    encoder.eval()\n",
    "    decoder.eval()\n",
    "\n",
    "    # Reverse vocab to get words from indices\n",
    "    idx2word = {idx: word for word, idx in fr_vocab.items()}\n",
    "\n",
    "    # Tokenize source sentence (no <sos>/<eos>)\n",
    "    src_tokens = tokenize_sentence(sentence, eng_vocab, add_sos_eos=False, max_len=max_len)\n",
    "    src_tensor = torch.tensor(src_tokens, dtype=torch.long).unsqueeze(0).to(device)  # (1, seq_len)\n",
    "\n",
    "    # Encode input\n",
    "    with torch.no_grad():\n",
    "        encoder_hidden = encoder(src_tensor)\n",
    "\n",
    "    # Start with <sos>\n",
    "    tgt_indices = [fr_vocab[\"<sos>\"]]\n",
    "    for _ in range(max_len):\n",
    "        tgt_tensor = torch.tensor(tgt_indices, dtype=torch.long).unsqueeze(0).to(device)\n",
    "\n",
    "        with torch.no_grad():\n",
    "            output, _ = decoder(tgt_tensor, encoder_hidden)  # (1, len, vocab_size)\n",
    "\n",
    "        next_token = output[0, -1].argmax().item()\n",
    "        if next_token == fr_vocab[\"<eos>\"]:\n",
    "            break\n",
    "        tgt_indices.append(next_token)\n",
    "\n",
    "    # Convert tokens to words\n",
    "    translated_words = [idx2word.get(idx, \"<unk>\") for idx in tgt_indices[1:]]  # Skip <sos>\n",
    "    return \" \".join(translated_words)\n",
    "sentence = \"he is good who can speak\"\n",
    "translation = translate_sentence(sentence, encoder, decoder, eng_vocab, fr_vocab, device=device)\n",
    "print(f\"English: {sentence}\")\n",
    "print(f\"French:  {translation}\")\n"
   ],
   "id": "997a5c44d92e3d21",
   "outputs": [
    {
     "ename": "TypeError",
     "evalue": "Decoder.forward() missing 1 required positional argument: 'encoder_outputs'",
     "output_type": "error",
     "traceback": [
      "\u001B[31m---------------------------------------------------------------------------\u001B[39m",
      "\u001B[31mTypeError\u001B[39m                                 Traceback (most recent call last)",
      "\u001B[36mCell\u001B[39m\u001B[36m \u001B[39m\u001B[32mIn[27]\u001B[39m\u001B[32m, line 33\u001B[39m\n\u001B[32m     31\u001B[39m     \u001B[38;5;28;01mreturn\u001B[39;00m \u001B[33m\"\u001B[39m\u001B[33m \u001B[39m\u001B[33m\"\u001B[39m.join(translated_words)\n\u001B[32m     32\u001B[39m sentence = \u001B[33m\"\u001B[39m\u001B[33mhe is good who can speak\u001B[39m\u001B[33m\"\u001B[39m\n\u001B[32m---> \u001B[39m\u001B[32m33\u001B[39m translation = \u001B[43mtranslate_sentence\u001B[49m\u001B[43m(\u001B[49m\u001B[43msentence\u001B[49m\u001B[43m,\u001B[49m\u001B[43m \u001B[49m\u001B[43mencoder\u001B[49m\u001B[43m,\u001B[49m\u001B[43m \u001B[49m\u001B[43mdecoder\u001B[49m\u001B[43m,\u001B[49m\u001B[43m \u001B[49m\u001B[43meng_vocab\u001B[49m\u001B[43m,\u001B[49m\u001B[43m \u001B[49m\u001B[43mfr_vocab\u001B[49m\u001B[43m,\u001B[49m\u001B[43m \u001B[49m\u001B[43mdevice\u001B[49m\u001B[43m=\u001B[49m\u001B[43mdevice\u001B[49m\u001B[43m)\u001B[49m\n\u001B[32m     34\u001B[39m \u001B[38;5;28mprint\u001B[39m(\u001B[33mf\u001B[39m\u001B[33m\"\u001B[39m\u001B[33mEnglish: \u001B[39m\u001B[38;5;132;01m{\u001B[39;00msentence\u001B[38;5;132;01m}\u001B[39;00m\u001B[33m\"\u001B[39m)\n\u001B[32m     35\u001B[39m \u001B[38;5;28mprint\u001B[39m(\u001B[33mf\u001B[39m\u001B[33m\"\u001B[39m\u001B[33mFrench:  \u001B[39m\u001B[38;5;132;01m{\u001B[39;00mtranslation\u001B[38;5;132;01m}\u001B[39;00m\u001B[33m\"\u001B[39m)\n",
      "\u001B[36mCell\u001B[39m\u001B[36m \u001B[39m\u001B[32mIn[27]\u001B[39m\u001B[32m, line 22\u001B[39m, in \u001B[36mtranslate_sentence\u001B[39m\u001B[34m(sentence, encoder, decoder, eng_vocab, fr_vocab, max_len, device)\u001B[39m\n\u001B[32m     19\u001B[39m tgt_tensor = torch.tensor(tgt_indices, dtype=torch.long).unsqueeze(\u001B[32m0\u001B[39m).to(device)\n\u001B[32m     21\u001B[39m \u001B[38;5;28;01mwith\u001B[39;00m torch.no_grad():\n\u001B[32m---> \u001B[39m\u001B[32m22\u001B[39m     output, _ = \u001B[43mdecoder\u001B[49m\u001B[43m(\u001B[49m\u001B[43mtgt_tensor\u001B[49m\u001B[43m,\u001B[49m\u001B[43m \u001B[49m\u001B[43mencoder_hidden\u001B[49m\u001B[43m)\u001B[49m  \u001B[38;5;66;03m# (1, len, vocab_size)\u001B[39;00m\n\u001B[32m     24\u001B[39m next_token = output[\u001B[32m0\u001B[39m, -\u001B[32m1\u001B[39m].argmax().item()\n\u001B[32m     25\u001B[39m \u001B[38;5;28;01mif\u001B[39;00m next_token == fr_vocab[\u001B[33m\"\u001B[39m\u001B[33m<eos>\u001B[39m\u001B[33m\"\u001B[39m]:\n",
      "\u001B[36mFile \u001B[39m\u001B[32mD:\\Artificial\\.venv\\Lib\\site-packages\\torch\\nn\\modules\\module.py:1751\u001B[39m, in \u001B[36mModule._wrapped_call_impl\u001B[39m\u001B[34m(self, *args, **kwargs)\u001B[39m\n\u001B[32m   1749\u001B[39m     \u001B[38;5;28;01mreturn\u001B[39;00m \u001B[38;5;28mself\u001B[39m._compiled_call_impl(*args, **kwargs)  \u001B[38;5;66;03m# type: ignore[misc]\u001B[39;00m\n\u001B[32m   1750\u001B[39m \u001B[38;5;28;01melse\u001B[39;00m:\n\u001B[32m-> \u001B[39m\u001B[32m1751\u001B[39m     \u001B[38;5;28;01mreturn\u001B[39;00m \u001B[38;5;28;43mself\u001B[39;49m\u001B[43m.\u001B[49m\u001B[43m_call_impl\u001B[49m\u001B[43m(\u001B[49m\u001B[43m*\u001B[49m\u001B[43margs\u001B[49m\u001B[43m,\u001B[49m\u001B[43m \u001B[49m\u001B[43m*\u001B[49m\u001B[43m*\u001B[49m\u001B[43mkwargs\u001B[49m\u001B[43m)\u001B[49m\n",
      "\u001B[36mFile \u001B[39m\u001B[32mD:\\Artificial\\.venv\\Lib\\site-packages\\torch\\nn\\modules\\module.py:1762\u001B[39m, in \u001B[36mModule._call_impl\u001B[39m\u001B[34m(self, *args, **kwargs)\u001B[39m\n\u001B[32m   1757\u001B[39m \u001B[38;5;66;03m# If we don't have any hooks, we want to skip the rest of the logic in\u001B[39;00m\n\u001B[32m   1758\u001B[39m \u001B[38;5;66;03m# this function, and just call forward.\u001B[39;00m\n\u001B[32m   1759\u001B[39m \u001B[38;5;28;01mif\u001B[39;00m \u001B[38;5;129;01mnot\u001B[39;00m (\u001B[38;5;28mself\u001B[39m._backward_hooks \u001B[38;5;129;01mor\u001B[39;00m \u001B[38;5;28mself\u001B[39m._backward_pre_hooks \u001B[38;5;129;01mor\u001B[39;00m \u001B[38;5;28mself\u001B[39m._forward_hooks \u001B[38;5;129;01mor\u001B[39;00m \u001B[38;5;28mself\u001B[39m._forward_pre_hooks\n\u001B[32m   1760\u001B[39m         \u001B[38;5;129;01mor\u001B[39;00m _global_backward_pre_hooks \u001B[38;5;129;01mor\u001B[39;00m _global_backward_hooks\n\u001B[32m   1761\u001B[39m         \u001B[38;5;129;01mor\u001B[39;00m _global_forward_hooks \u001B[38;5;129;01mor\u001B[39;00m _global_forward_pre_hooks):\n\u001B[32m-> \u001B[39m\u001B[32m1762\u001B[39m     \u001B[38;5;28;01mreturn\u001B[39;00m \u001B[43mforward_call\u001B[49m\u001B[43m(\u001B[49m\u001B[43m*\u001B[49m\u001B[43margs\u001B[49m\u001B[43m,\u001B[49m\u001B[43m \u001B[49m\u001B[43m*\u001B[49m\u001B[43m*\u001B[49m\u001B[43mkwargs\u001B[49m\u001B[43m)\u001B[49m\n\u001B[32m   1764\u001B[39m result = \u001B[38;5;28;01mNone\u001B[39;00m\n\u001B[32m   1765\u001B[39m called_always_called_hooks = \u001B[38;5;28mset\u001B[39m()\n",
      "\u001B[31mTypeError\u001B[39m: Decoder.forward() missing 1 required positional argument: 'encoder_outputs'"
     ]
    }
   ],
   "execution_count": 27
  },
  {
   "metadata": {},
   "cell_type": "code",
   "outputs": [],
   "execution_count": null,
   "source": "",
   "id": "73cde0095140fdcf"
  }
 ],
 "metadata": {
  "kernelspec": {
   "display_name": "Python 3 (ipykernel)",
   "language": "python",
   "name": "python3"
  },
  "language_info": {
   "codemirror_mode": {
    "name": "ipython",
    "version": 3
   },
   "file_extension": ".py",
   "mimetype": "text/x-python",
   "name": "python",
   "nbconvert_exporter": "python",
   "pygments_lexer": "ipython3",
   "version": "3.11.0rc1"
  }
 },
 "nbformat": 4,
 "nbformat_minor": 5
}
