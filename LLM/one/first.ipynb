{
 "cells": [
  {
   "cell_type": "code",
   "id": "1fd419f3f563193d",
   "metadata": {
    "ExecuteTime": {
     "end_time": "2025-03-17T07:17:20.251437Z",
     "start_time": "2025-03-17T07:17:19.592555Z"
    }
   },
   "source": [
    "import os\n",
    "import requests\n",
    "from dotenv import load_dotenv\n",
    "from bs4 import BeautifulSoup\n",
    "from IPython.display import Markdown, display\n",
    "from openai import OpenAI"
   ],
   "outputs": [],
   "execution_count": 1
  },
  {
   "metadata": {
    "ExecuteTime": {
     "end_time": "2025-03-17T07:17:20.269048Z",
     "start_time": "2025-03-17T07:17:20.260453Z"
    }
   },
   "cell_type": "code",
   "source": [
    "load_dotenv()\n",
    "api_key = os.getenv(\"OPENAI_API_KEY\")\n",
    "if not api_key:\n",
    "    print(\"API_KEY not set\")\n",
    "else:\n",
    "    print(\"API_KEY set\")"
   ],
   "id": "aa7eafbc5d8cff26",
   "outputs": [
    {
     "name": "stdout",
     "output_type": "stream",
     "text": [
      "API_KEY set\n"
     ]
    }
   ],
   "execution_count": 2
  },
  {
   "metadata": {
    "ExecuteTime": {
     "end_time": "2025-03-17T07:17:20.600441Z",
     "start_time": "2025-03-17T07:17:20.392488Z"
    }
   },
   "cell_type": "code",
   "source": "openai = OpenAI()",
   "id": "f69346f0fb11237",
   "outputs": [],
   "execution_count": 3
  },
  {
   "metadata": {
    "ExecuteTime": {
     "end_time": "2025-03-17T07:17:20.611474Z",
     "start_time": "2025-03-17T07:17:20.607142Z"
    }
   },
   "cell_type": "code",
   "source": [
    "class Website:\n",
    "    url: str\n",
    "    title: str\n",
    "    text: str\n",
    "\n",
    "    def __init__(self, url):\n",
    "        self.url = url\n",
    "        response = requests.get(url)\n",
    "        soup = BeautifulSoup(response.content, \"html.parser\")\n",
    "        self.title = soup.title.string if soup.title else \"No title found\"\n",
    "        for irrevalent in soup.body([\"script\", \"style\", \"img\", \"input\"]):\n",
    "            irrevalent.decompose()\n",
    "        self.text = soup.get_text(separator=\"\\n\", strip=True)"
   ],
   "id": "d9e1c4cea845e08d",
   "outputs": [],
   "execution_count": 4
  },
  {
   "metadata": {
    "ExecuteTime": {
     "end_time": "2025-03-17T07:17:21.212553Z",
     "start_time": "2025-03-17T07:17:20.618047Z"
    }
   },
   "cell_type": "code",
   "source": [
    "ed = Website(\"https://www.google.com\")\n",
    "print(ed.title)\n",
    "print(ed.text)"
   ],
   "id": "d8f3da3dcfb924f8",
   "outputs": [
    {
     "name": "stdout",
     "output_type": "stream",
     "text": [
      "Google\n",
      "Google\n",
      "Search\n",
      "Images\n",
      "Maps\n",
      "Play\n",
      "YouTube\n",
      "News\n",
      "Gmail\n",
      "Drive\n",
      "More\n",
      "»\n",
      "Web History\n",
      "|\n",
      "Settings\n",
      "|\n",
      "Sign in\n",
      "Advanced search\n",
      "Google offered in:\n",
      "हिन्दी\n",
      "বাংলা\n",
      "తెలుగు\n",
      "मराठी\n",
      "தமிழ்\n",
      "ગુજરાતી\n",
      "ಕನ್ನಡ\n",
      "മലയാളം\n",
      "ਪੰਜਾਬੀ\n",
      "Advertising\n",
      "Business Solutions\n",
      "About Google\n",
      "Google.co.in\n",
      "© 2025 -\n",
      "Privacy\n",
      "-\n",
      "Terms\n"
     ]
    }
   ],
   "execution_count": 5
  },
  {
   "metadata": {
    "ExecuteTime": {
     "end_time": "2025-03-17T07:17:21.223030Z",
     "start_time": "2025-03-17T07:17:21.218063Z"
    }
   },
   "cell_type": "code",
   "source": [
    "def user_prompt_for(website):\n",
    "    user_prompt = f\"You are looking at a website titled {website.title}\"\n",
    "    user_prompt += \"\\nThe contents of this website is as follows; \\\n",
    "please provide a short summary of this website in markdown. \\\n",
    "If it includes news or announcements, then summarize these too.\\n\\n\"\n",
    "    user_prompt += website.text\n",
    "    return user_prompt\n",
    "\n",
    "\n",
    "system_prompt = \"You are an assistant that analyzes the contents of a website \\\n",
    "and provides a short summary, ignoring text that might be navigation related. \\\n",
    "Respond in markdown.\""
   ],
   "id": "4969a8ec72e5e7bd",
   "outputs": [],
   "execution_count": 6
  },
  {
   "metadata": {
    "ExecuteTime": {
     "end_time": "2025-03-17T07:17:21.256093Z",
     "start_time": "2025-03-17T07:17:21.244882Z"
    }
   },
   "cell_type": "code",
   "source": "print(user_prompt_for(ed))",
   "id": "c19539383738f5ab",
   "outputs": [
    {
     "name": "stdout",
     "output_type": "stream",
     "text": [
      "You are looking at a website titled Google\n",
      "The contents of this website is as follows; please provide a short summary of this website in markdown. If it includes news or announcements, then summarize these too.\n",
      "\n",
      "Google\n",
      "Search\n",
      "Images\n",
      "Maps\n",
      "Play\n",
      "YouTube\n",
      "News\n",
      "Gmail\n",
      "Drive\n",
      "More\n",
      "»\n",
      "Web History\n",
      "|\n",
      "Settings\n",
      "|\n",
      "Sign in\n",
      "Advanced search\n",
      "Google offered in:\n",
      "हिन्दी\n",
      "বাংলা\n",
      "తెలుగు\n",
      "मराठी\n",
      "தமிழ்\n",
      "ગુજરાતી\n",
      "ಕನ್ನಡ\n",
      "മലയാളം\n",
      "ਪੰਜਾਬੀ\n",
      "Advertising\n",
      "Business Solutions\n",
      "About Google\n",
      "Google.co.in\n",
      "© 2025 -\n",
      "Privacy\n",
      "-\n",
      "Terms\n"
     ]
    }
   ],
   "execution_count": 7
  },
  {
   "metadata": {},
   "cell_type": "code",
   "source": [
    "def message_for(website):\n",
    "    return [\n",
    "        {\"role\": \"system\", \"content\": system_prompt},\n",
    "        {\"role\": \"user\", \"content\": user_prompt_for(website)},\n",
    "    ]\n",
    "\n",
    "\n",
    "def summarize(url):\n",
    "    website = Website(url)\n",
    "    response = openai.chat.completions.create(\n",
    "        model=\"gpt-4o-mini\",\n",
    "        messages=message_for(website),\n",
    "    )\n",
    "    return response.choices[0].message.content"
   ],
   "id": "f5ee815896b89a52",
   "outputs": [],
   "execution_count": null
  },
  {
   "metadata": {
    "collapsed": true,
    "ExecuteTime": {
     "end_time": "2025-03-17T10:09:02.857181Z",
     "start_time": "2025-03-17T10:08:56.424962Z"
    }
   },
   "cell_type": "code",
   "source": [
    "summarize(\"https://www.google.com\")\n",
    "def display_summary(url):\n",
    "    summary = summarize(url)\n",
    "    display(Markdown(f\"### {summary}\"))\n",
    "display_summary(\"https://www.anthropic.com\")"
   ],
   "id": "initial_id",
   "outputs": [
    {
     "data": {
      "text/plain": [
       "<IPython.core.display.Markdown object>"
      ],
      "text/markdown": "### # Anthropic Website Summary\n\nAnthropic is a San Francisco-based AI safety and research company focused on developing reliable and beneficial AI systems. \n\n## Key Offerings:\n- **Claude AI Models**: The latest model, **Claude 3.7 Sonnet**, is highlighted as the most intelligent and is described as the first hybrid reasoning model. \n- **Claude Code**: An agentic tool designed for coding tasks is also part of the new offerings.\n- **Claude for Enterprise**: Tailored solutions for businesses.\n\n## Recent News:\n- **Launch of Claude 3.7 Sonnet**: Announced as the most advanced AI model as of now.\n- **Announcement of Claude Code**: A new feature aimed at enhancing coding capabilities.\n\n## Research and Commitments:\n- Emphasizes AI safety and alignment research, with initiatives focused on understanding AI feedback mechanisms and ensuring responsible scaling of AI technologies.\n\nFor more details, potential users can explore their API and various product offerings, including enterprise solutions and learning resources."
     },
     "metadata": {},
     "output_type": "display_data"
    }
   ],
   "execution_count": 12
  },
  {
   "metadata": {},
   "cell_type": "code",
   "outputs": [],
   "execution_count": null,
   "source": "",
   "id": "1ca7816c7ad4c542"
  }
 ],
 "metadata": {
  "kernelspec": {
   "display_name": "Python 3",
   "language": "python",
   "name": "python3"
  },
  "language_info": {
   "codemirror_mode": {
    "name": "ipython",
    "version": 2
   },
   "file_extension": ".py",
   "mimetype": "text/x-python",
   "name": "python",
   "nbconvert_exporter": "python",
   "pygments_lexer": "ipython2",
   "version": "2.7.6"
  }
 },
 "nbformat": 4,
 "nbformat_minor": 5
}
