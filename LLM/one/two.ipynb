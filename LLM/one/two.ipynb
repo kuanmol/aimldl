{
 "cells": [
  {
   "metadata": {},
   "cell_type": "code",
   "source": [
    "import os\n",
    "import requests\n",
    "from IPython.display import Markdown, display, update_display\n",
    "from dotenv import load_dotenv\n",
    "from bs4 import BeautifulSoup\n",
    "from openai import OpenAI\n",
    "from typing import List\n",
    "import json"
   ],
   "id": "765e8a66d4d19ffd",
   "outputs": [],
   "execution_count": null
  },
  {
   "metadata": {},
   "cell_type": "code",
   "source": [
    "load_dotenv()\n",
    "api_key = os.getenv(\"OPENAI_API_KEY\")\n",
    "if not api_key:\n",
    "    print(\"API_KEY not set\")\n",
    "else:\n",
    "    print(\"API_KEY set\")\n",
    "\n",
    "MODEL = 'gpt-4o-mini'\n",
    "openai = OpenAI()"
   ],
   "id": "54a8ab9c817a26cf",
   "outputs": [],
   "execution_count": null
  },
  {
   "metadata": {},
   "cell_type": "code",
   "source": [
    "class Website:\n",
    "    url: str\n",
    "    title: str\n",
    "    body: str\n",
    "    link: List[str]\n",
    "    text: str\n",
    "\n",
    "    def __init__(self, url):\n",
    "        self.url = url\n",
    "        response = requests.get(url)\n",
    "        self.body = response.content\n",
    "        soup = BeautifulSoup(self.body, 'html.parser')\n",
    "        self.title = soup.title.string if soup.title else \"No title found\"\n",
    "        if soup.body:\n",
    "            for irrelevant in soup.body([\"script\", \"style\", \"img\", \"input\"]):\n",
    "                irrelevant.decompose()\n",
    "            self.text = soup.body.get_text(separator=\"\\n\", strip=True)\n",
    "        else:\n",
    "            self.text = \"\"\n",
    "        links = [link.get('href') for link in soup.find_all('a')]\n",
    "        self.link = [link for link in links if link]\n",
    "\n",
    "    def get_content(self):\n",
    "        return f\"Webpage Title:\\n{self.title}\\nWebpage Contents:\\n{self.text}\\n\\n\""
   ],
   "id": "d16b758a5d7c8222",
   "outputs": [],
   "execution_count": null
  },
  {
   "metadata": {},
   "cell_type": "code",
   "source": [
    "ed = Website(\"https://huggingface.co\")\n",
    "ed.link"
   ],
   "id": "930597e46831526f",
   "outputs": [],
   "execution_count": null
  },
  {
   "metadata": {},
   "cell_type": "code",
   "source": [
    "link_system_prompt = \"You are provided with the link of links found on a webpage. \\\n",
    "                    Your are able to decide which of the links would be most relevant to include in a brochure about the company, \\\n",
    "                    such as links to an About page, or a Company page, or Career/Jobs pages. \\n\"\n",
    "link_system_prompt += \"You should respond in json as in this example:\"\n",
    "link_system_prompt += \"\"\"\n",
    "{\n",
    "    \"links\":[\n",
    "        {\"type\": \"about page\", \"url\": \"https://www.full.url/goes/here/about\"},\n",
    "        {\"type\": \"careers page\", \"url\": \"https://www.full.url/careers/here/about\"},\n",
    "    ]\n",
    "}\n",
    "\"\"\""
   ],
   "id": "efece4f57cdcb7ee",
   "outputs": [],
   "execution_count": null
  },
  {
   "metadata": {},
   "cell_type": "code",
   "source": [
    "def get_links_user_prompt(website):\n",
    "    user_prompt = f\"here is the list of links found on {website.url} - \"\n",
    "    user_prompt += \"please decide which of these are relevent web links for a brochure about the company, respond wuth full https URL. Do not include Terms of Service , Privacy , email links. \\n\"\n",
    "    user_prompt += \"Links (some might be relative links): \\n\"\n",
    "    user_prompt += \"\\n\".join(website.link)\n",
    "    return user_prompt"
   ],
   "id": "3c36832b44e5ffdd",
   "outputs": [],
   "execution_count": null
  },
  {
   "metadata": {},
   "cell_type": "code",
   "source": "print(get_links_user_prompt(ed))",
   "id": "9ce9df61f01ce0d9",
   "outputs": [],
   "execution_count": null
  },
  {
   "metadata": {},
   "cell_type": "code",
   "source": [
    "def get_links(url):\n",
    "    website = Website(url)\n",
    "    response = openai.chat.completions.create(\n",
    "        model=MODEL,\n",
    "        messages=[\n",
    "            {\"role\": \"system\", \"content\": link_system_prompt},\n",
    "            {\"role\": \"user\", \"content\": get_links_user_prompt(website)},\n",
    "        ],\n",
    "        response_format={\"type\": \"json_object\"},\n",
    "    )\n",
    "    result = response.choices[0].message.content  #OpenAI responds, the result is stored in a dictionary-like format.\n",
    "    return json.loads(result)\n",
    "\n",
    "\n",
    "get_links(\"https://huggingface.co\")"
   ],
   "id": "14ac7909e0165fb8",
   "outputs": [],
   "execution_count": null
  },
  {
   "metadata": {},
   "cell_type": "code",
   "source": [
    "def get_all_details(url):\n",
    "    result = \"Landing pages:\\n\"\n",
    "    result += Website(url).get_content()\n",
    "    links = get_links(url)\n",
    "    print(\"Found links:\", links)\n",
    "    for link in links[\"links\"]:\n",
    "        result += f\"\\n\\n{link['type']}\\n\"\n",
    "        result += Website(link[\"url\"]).get_content()\n",
    "    return result\n",
    "\n",
    "\n",
    "#make brochure\n",
    "print(get_all_details(\"https://huggingface.co\"))"
   ],
   "id": "d22cac7e18fb0205",
   "outputs": [],
   "execution_count": null
  },
  {
   "metadata": {},
   "cell_type": "code",
   "source": [
    "system_prompt = \"You are an assistant that analyzes the contents of several relevant pages from a company website \\\n",
    "and creates a short brochure about the company for prospective customers, investors and recruits. Respond in markdown.\\\n",
    "Include details of company culture, customers and careers/jobs if you have the information.\""
   ],
   "id": "fdda2c1c37290960",
   "outputs": [],
   "execution_count": null
  },
  {
   "metadata": {},
   "cell_type": "code",
   "source": [
    "def get_brochure_user_prompt(company_name, url):\n",
    "    user_prompt = f\"You are looking at a company called: {company_name}\\n\"\n",
    "    user_prompt += f\"Here are the contents of its landing page and other relevant pages; use this information to build a short brochure of the company in markdown.\\n\"\n",
    "    user_prompt += get_all_details(url)\n",
    "    user_prompt = user_prompt[:5_000]  # Truncate if more than 5,000 characters\n",
    "    return user_prompt\n",
    "print(get_brochure_user_prompt(\"HuggingFace\", \"https://huggingface.co\"))"
   ],
   "id": "4a694104bfe5c52a",
   "outputs": [],
   "execution_count": null
  },
  {
   "metadata": {},
   "cell_type": "code",
   "source": [
    "def create_brochure(company_name, url):\n",
    "    response = openai.chat.completions.create(\n",
    "        model=MODEL,\n",
    "        messages=[\n",
    "            {\"role\": \"system\", \"content\": system_prompt},\n",
    "            {\"role\": \"user\", \"content\": get_brochure_user_prompt(company_name, url)},\n",
    "        ],\n",
    "    )\n",
    "    result = response.choices[0].message.content\n",
    "    display(Markdown(result))\n",
    "\n",
    "create_brochure(\"HuggingFace\", \"https://huggingface.co\")"
   ],
   "id": "4f79a8f1b765e7c",
   "outputs": [],
   "execution_count": null
  },
  {
   "metadata": {},
   "cell_type": "code",
   "source": [
    "def stream_brochure(company_name, url):\n",
    "    stream = openai.chat.completions.create(\n",
    "        model=MODEL,\n",
    "        messages=[\n",
    "            {\"role\": \"system\", \"content\": system_prompt},\n",
    "            {\"role\": \"user\", \"content\": get_brochure_user_prompt(company_name, url)},\n",
    "        ],\n",
    "        stream=True,\n",
    "    )\n",
    "    response = \"\"\n",
    "    display_handle = display(Markdown(\"\"), display_id=True)\n",
    "    for chunk in stream:\n",
    "        response += chunk.choices[0].delta.content or  ''\n",
    "        response = response.replace(\"```\", \"\").replace(\"markdown\", \"\")\n",
    "        update_display(Markdown(response), display_id=display_handle.display_id)\n",
    "stream_brochure(\"HuggingFace\", \"https://huggingface.co\")"
   ],
   "id": "f4e70fefdebe6f3c",
   "outputs": [],
   "execution_count": null
  },
  {
   "metadata": {},
   "cell_type": "markdown",
   "source": "",
   "id": "8aaa4a6f6ad0414a"
  }
 ],
 "metadata": {
  "kernelspec": {
   "display_name": "Python 3",
   "language": "python",
   "name": "python3"
  },
  "language_info": {
   "codemirror_mode": {
    "name": "ipython",
    "version": 2
   },
   "file_extension": ".py",
   "mimetype": "text/x-python",
   "name": "python",
   "nbconvert_exporter": "python",
   "pygments_lexer": "ipython2",
   "version": "2.7.6"
  }
 },
 "nbformat": 4,
 "nbformat_minor": 5
}
