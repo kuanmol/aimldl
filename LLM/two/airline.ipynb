{
 "cells": [
  {
   "metadata": {
    "ExecuteTime": {
     "end_time": "2025-03-21T16:15:07.086946Z",
     "start_time": "2025-03-21T16:15:06.873637Z"
    }
   },
   "cell_type": "code",
   "source": [
    "import os\n",
    "import json\n",
    "from dotenv import load_dotenv\n",
    "from openai import OpenAI\n",
    "import gradio as gr\n",
    "\n",
    "\n",
    "load_dotenv()\n",
    "api_key = os.getenv(\"OPENAI_API_KEY\")\n",
    "openai = OpenAI()"
   ],
   "id": "a1ee87742fb3c5b3",
   "outputs": [],
   "execution_count": 50
  },
  {
   "cell_type": "code",
   "id": "b161bda0c9346e0f",
   "metadata": {
    "ExecuteTime": {
     "end_time": "2025-03-21T16:15:07.094610Z",
     "start_time": "2025-03-21T16:15:07.091507Z"
    }
   },
   "source": [
    "system_message = \"You are a helpful assistant for an Airline called FlightAI. \"\n",
    "system_message += \"Give short, courteous answers, no more than 1 sentence. \"\n",
    "system_message += \"Always be accurate. If you don't know the answer, say so.\""
   ],
   "outputs": [],
   "execution_count": 51
  },
  {
   "metadata": {
    "ExecuteTime": {
     "end_time": "2025-03-21T16:15:07.106386Z",
     "start_time": "2025-03-21T16:15:07.100732Z"
    }
   },
   "cell_type": "code",
   "source": [
    "def chat(message, history):\n",
    "    messages = [{\"role\": \"system\", \"content\": system_message}]\n",
    "    for human, assistant in history:\n",
    "        messages.append({\"role\": \"user\", \"content\": human})\n",
    "        messages.append({\"role\": \"assistant\", \"content\": assistant})\n",
    "    messages.append({\"role\": \"user\", \"content\": message})\n",
    "    response = openai.chat.completions.create(model=\"gpt-4o-mini\", messages=messages)\n",
    "    return response.choices[0].message.content"
   ],
   "id": "bfc3823d5ffc43df",
   "outputs": [],
   "execution_count": 52
  },
  {
   "metadata": {
    "ExecuteTime": {
     "end_time": "2025-03-21T16:15:07.116991Z",
     "start_time": "2025-03-21T16:15:07.112407Z"
    }
   },
   "cell_type": "code",
   "source": [
    "ticket_prices = {\n",
    "    \"mumbai\": \"$799\", \"berlin\": \"$899\", \"delhi\": \"$1400\", \"chennai\": \"$499\"\n",
    "}\n",
    "\n",
    "\n",
    "def get_ticket_price(destination_city):\n",
    "    print(f\"Tool get ticket price for {destination_city}\")\n",
    "    city = destination_city.lower()  # Convert input to lowercase\n",
    "    return ticket_prices.get(city, \"Unknown\")"
   ],
   "id": "870ef42303fe73fe",
   "outputs": [],
   "execution_count": 53
  },
  {
   "metadata": {
    "ExecuteTime": {
     "end_time": "2025-03-21T16:15:07.126355Z",
     "start_time": "2025-03-21T16:15:07.122005Z"
    }
   },
   "cell_type": "code",
   "source": "print(get_ticket_price(\"delhi\"))",
   "id": "62afef904b9a1013",
   "outputs": [
    {
     "name": "stdout",
     "output_type": "stream",
     "text": [
      "Tool get ticket price for delhi\n",
      "$1400\n"
     ]
    }
   ],
   "execution_count": 54
  },
  {
   "metadata": {
    "ExecuteTime": {
     "end_time": "2025-03-21T16:19:13.039513Z",
     "start_time": "2025-03-21T16:19:13.035737Z"
    }
   },
   "cell_type": "code",
   "source": [
    "price_function = {\n",
    "    \"name\": \"get_ticket_price\",\n",
    "    \"description\": \"Get the price of a return ticket to the destination city. Call this whenever you need to know the ticket price, for example when a customer asks 'How much is a ticket to this city'\",\n",
    "    \"parameters\": {\n",
    "        \"type\": \"object\",\n",
    "        \"properties\": {\n",
    "            \"destination_city\": {\n",
    "                \"type\": \"string\",\n",
    "                \"description\": \"The city that customer want to travel to\",\n",
    "            },\n",
    "        },\n",
    "        \"required\": [\"destination_city\"],\n",
    "        \"additionalProperties\": False,\n",
    "    }\n",
    "}"
   ],
   "id": "e36fcaea72d87b97",
   "outputs": [],
   "execution_count": 66
  },
  {
   "metadata": {
    "ExecuteTime": {
     "end_time": "2025-03-21T16:19:14.839466Z",
     "start_time": "2025-03-21T16:19:14.835223Z"
    }
   },
   "cell_type": "code",
   "source": "tools = [{\"type\": \"function\", \"function\": price_function}]",
   "id": "e6ed37fab9f6bae5",
   "outputs": [],
   "execution_count": 67
  },
  {
   "metadata": {
    "ExecuteTime": {
     "end_time": "2025-03-21T16:25:12.561514Z",
     "start_time": "2025-03-21T16:25:12.555619Z"
    }
   },
   "cell_type": "code",
   "source": [
    "def chat(message, history):\n",
    "    messages = [{\"role\": \"system\", \"content\": system_message}]\n",
    "    for human, assistant in history:\n",
    "        messages.append({\"role\": \"user\", \"content\": human})\n",
    "        messages.append({\"role\": \"assistant\", \"content\": assistant})\n",
    "    messages.append({\"role\": \"user\", \"content\": message})\n",
    "    response = openai.chat.completions.create(model=\"gpt-4o-mini\", messages=messages, tools=tools)\n",
    "    if response.choices[0].finish_reason == \"tool_calls\":\n",
    "        message = response.choices[0].message\n",
    "        response, city = handle_tool_call(message)\n",
    "        messages.append(message)\n",
    "        messages.append(response)\n",
    "        response = openai.chat.completions.create(model=\"gpt-4o-mini\", messages=messages)\n",
    "    return response.choices[0].message.content"
   ],
   "id": "97180eb76d993eea",
   "outputs": [],
   "execution_count": 73
  },
  {
   "metadata": {
    "ExecuteTime": {
     "end_time": "2025-03-21T16:25:11.420534Z",
     "start_time": "2025-03-21T16:25:11.411838Z"
    }
   },
   "cell_type": "code",
   "source": [
    "def handle_tool_call(message):\n",
    "    tool_call = message.tool_calls[0]\n",
    "    arguments = json.loads(tool_call.function.arguments)\n",
    "    city = arguments.get(\"destination_city\")\n",
    "    price = get_ticket_price(city)\n",
    "    response = {\n",
    "        \"role\": \"tool\",\n",
    "        \"content\": json.dumps({\"destination_city\": city, \"price\": price}),\n",
    "        \"tool_call_id\":tool_call.id\n",
    "    }\n",
    "    return response, city"
   ],
   "id": "7f5c712bc6e64108",
   "outputs": [],
   "execution_count": 72
  },
  {
   "metadata": {
    "ExecuteTime": {
     "end_time": "2025-03-21T16:25:14.881535Z",
     "start_time": "2025-03-21T16:25:14.480382Z"
    }
   },
   "cell_type": "code",
   "source": "gr.ChatInterface(fn=chat).launch()",
   "id": "1392ddbce20ad672",
   "outputs": [
    {
     "name": "stderr",
     "output_type": "stream",
     "text": [
      "D:\\Artificial\\.venv\\Lib\\site-packages\\gradio\\chat_interface.py:334: UserWarning: The 'tuples' format for chatbot messages is deprecated and will be removed in a future version of Gradio. Please set type='messages' instead, which uses openai-style 'role' and 'content' keys.\n",
      "  self.chatbot = Chatbot(\n"
     ]
    },
    {
     "name": "stdout",
     "output_type": "stream",
     "text": [
      "* Running on local URL:  http://127.0.0.1:7887\n",
      "\n",
      "To create a public link, set `share=True` in `launch()`.\n"
     ]
    },
    {
     "data": {
      "text/plain": [
       "<IPython.core.display.HTML object>"
      ],
      "text/html": [
       "<div><iframe src=\"http://127.0.0.1:7887/\" width=\"100%\" height=\"500\" allow=\"autoplay; camera; microphone; clipboard-read; clipboard-write;\" frameborder=\"0\" allowfullscreen></iframe></div>"
      ]
     },
     "metadata": {},
     "output_type": "display_data"
    },
    {
     "data": {
      "text/plain": []
     },
     "execution_count": 74,
     "metadata": {},
     "output_type": "execute_result"
    }
   ],
   "execution_count": 74
  },
  {
   "metadata": {
    "ExecuteTime": {
     "end_time": "2025-03-21T16:15:07.641547Z",
     "start_time": "2025-03-21T16:15:07.639022Z"
    }
   },
   "cell_type": "code",
   "source": "",
   "id": "710a74e770765348",
   "outputs": [],
   "execution_count": null
  },
  {
   "metadata": {
    "ExecuteTime": {
     "end_time": "2025-03-21T16:15:07.655018Z",
     "start_time": "2025-03-21T16:15:07.652019Z"
    }
   },
   "cell_type": "code",
   "source": "",
   "id": "4c46861c40d6c4a9",
   "outputs": [],
   "execution_count": null
  },
  {
   "metadata": {
    "collapsed": true,
    "ExecuteTime": {
     "end_time": "2025-03-21T16:15:07.667937Z",
     "start_time": "2025-03-21T16:15:07.665879Z"
    }
   },
   "cell_type": "code",
   "source": "",
   "id": "initial_id",
   "outputs": [],
   "execution_count": null
  }
 ],
 "metadata": {
  "kernelspec": {
   "display_name": "Python 3",
   "language": "python",
   "name": "python3"
  },
  "language_info": {
   "codemirror_mode": {
    "name": "ipython",
    "version": 2
   },
   "file_extension": ".py",
   "mimetype": "text/x-python",
   "name": "python",
   "nbconvert_exporter": "python",
   "pygments_lexer": "ipython2",
   "version": "2.7.6"
  }
 },
 "nbformat": 4,
 "nbformat_minor": 5
}
