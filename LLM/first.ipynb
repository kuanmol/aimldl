{
 "cells": [
  {
   "cell_type": "code",
   "id": "1fd419f3f563193d",
   "metadata": {
    "ExecuteTime": {
     "end_time": "2025-03-16T13:53:35.131682Z",
     "start_time": "2025-03-16T13:53:35.125084Z"
    }
   },
   "source": [
    "import os\n",
    "import requests\n",
    "from dotenv import load_dotenv\n",
    "from bs4 import BeautifulSoup\n",
    "from IPython.display import Markdown, display\n",
    "from openai import OpenAI"
   ],
   "outputs": [],
   "execution_count": 24
  },
  {
   "metadata": {
    "ExecuteTime": {
     "end_time": "2025-03-16T13:53:36.169119Z",
     "start_time": "2025-03-16T13:53:36.164371Z"
    }
   },
   "cell_type": "code",
   "source": [
    "load_dotenv()\n",
    "api_key = os.getenv(\"OPENAI_API_KEY\")\n",
    "if not api_key:\n",
    "    print(\"API_KEY not set\")\n",
    "else:\n",
    "    print(\"API_KEY set\")"
   ],
   "id": "aa7eafbc5d8cff26",
   "outputs": [
    {
     "name": "stdout",
     "output_type": "stream",
     "text": [
      "API_KEY set\n"
     ]
    }
   ],
   "execution_count": 25
  },
  {
   "metadata": {
    "ExecuteTime": {
     "end_time": "2025-03-16T13:47:54.812952Z",
     "start_time": "2025-03-16T13:47:54.478129Z"
    }
   },
   "cell_type": "code",
   "source": "openai=OpenAI()",
   "id": "f69346f0fb11237",
   "outputs": [],
   "execution_count": 21
  },
  {
   "metadata": {
    "ExecuteTime": {
     "end_time": "2025-03-16T13:53:37.510754Z",
     "start_time": "2025-03-16T13:53:37.505374Z"
    }
   },
   "cell_type": "code",
   "source": [
    "class Website:\n",
    "    url: str\n",
    "    title: str\n",
    "    text: str\n",
    "\n",
    "    def __init__(self, url):\n",
    "        self.url = url\n",
    "        response = requests.get(url)\n",
    "        soup = BeautifulSoup(response.content, \"html.parser\")\n",
    "        self.title = soup.title.string if soup.title else \"No title found\"\n",
    "        for irrevalent in soup.body([\"script\", \"style\",\"img\",\"input\"]):\n",
    "            irrevalent.decompose()\n",
    "        self.text = soup.get_text(separator=\"\\n\", strip=True)"
   ],
   "id": "d9e1c4cea845e08d",
   "outputs": [],
   "execution_count": 26
  },
  {
   "metadata": {
    "ExecuteTime": {
     "end_time": "2025-03-16T13:55:27.234553Z",
     "start_time": "2025-03-16T13:55:26.580360Z"
    }
   },
   "cell_type": "code",
   "source": [
    "ed=Website(\"https://www.google.com\")\n",
    "print(ed.title)\n",
    "print(ed.text)"
   ],
   "id": "d8f3da3dcfb924f8",
   "outputs": [
    {
     "name": "stdout",
     "output_type": "stream",
     "text": [
      "Google\n",
      "Google\n",
      "Search\n",
      "Images\n",
      "Maps\n",
      "Play\n",
      "YouTube\n",
      "News\n",
      "Gmail\n",
      "Drive\n",
      "More\n",
      "»\n",
      "Web History\n",
      "|\n",
      "Settings\n",
      "|\n",
      "Sign in\n",
      "Advanced search\n",
      "Google offered in:\n",
      "हिन्दी\n",
      "বাংলা\n",
      "తెలుగు\n",
      "मराठी\n",
      "தமிழ்\n",
      "ગુજરાતી\n",
      "ಕನ್ನಡ\n",
      "മലയാളം\n",
      "ਪੰਜਾਬੀ\n",
      "Advertising\n",
      "Business Solutions\n",
      "About Google\n",
      "Google.co.in\n",
      "© 2025 -\n",
      "Privacy\n",
      "-\n",
      "Terms\n"
     ]
    }
   ],
   "execution_count": 29
  },
  {
   "metadata": {},
   "cell_type": "code",
   "source": [
    "def user_prompt_for(website):\n",
    "    user_prompt = f\"You are looking at a website titled {website.title}\"\n",
    "    user_prompt += \"\\nThe contents of this website is as follows; \\\n",
    "please provide a short summary of this website in markdown. \\\n",
    "If it includes news or announcements, then summarize these too.\\n\\n\"\n",
    "    user_prompt += website.text\n",
    "    return user_prompt\n",
    "system_prompt = \"You are an assistant that analyzes the contents of a website \\\n",
    "and provides a short summary, ignoring text that might be navigation related. \\\n",
    "Respond in markdown.\""
   ],
   "id": "4969a8ec72e5e7bd",
   "outputs": [],
   "execution_count": null
  },
  {
   "metadata": {
    "ExecuteTime": {
     "end_time": "2025-03-16T16:04:12.274825Z",
     "start_time": "2025-03-16T16:04:12.269638Z"
    }
   },
   "cell_type": "code",
   "source": "print(user_prompt_for(ed))",
   "id": "c19539383738f5ab",
   "outputs": [
    {
     "name": "stdout",
     "output_type": "stream",
     "text": [
      "You are looking at a website titled Google\n",
      "The contents of this website is as follows; please provide a short summary of this website in markdown. If it includes news or announcements, then summarize these too.\n",
      "\n",
      "Google\n",
      "Search\n",
      "Images\n",
      "Maps\n",
      "Play\n",
      "YouTube\n",
      "News\n",
      "Gmail\n",
      "Drive\n",
      "More\n",
      "»\n",
      "Web History\n",
      "|\n",
      "Settings\n",
      "|\n",
      "Sign in\n",
      "Advanced search\n",
      "Google offered in:\n",
      "हिन्दी\n",
      "বাংলা\n",
      "తెలుగు\n",
      "मराठी\n",
      "தமிழ்\n",
      "ગુજરાતી\n",
      "ಕನ್ನಡ\n",
      "മലയാളം\n",
      "ਪੰਜਾਬੀ\n",
      "Advertising\n",
      "Business Solutions\n",
      "About Google\n",
      "Google.co.in\n",
      "© 2025 -\n",
      "Privacy\n",
      "-\n",
      "Terms\n"
     ]
    }
   ],
   "execution_count": 38
  },
  {
   "metadata": {
    "collapsed": true,
    "ExecuteTime": {
     "end_time": "2025-03-16T16:10:00.385601Z",
     "start_time": "2025-03-16T16:10:00.372308Z"
    }
   },
   "cell_type": "code",
   "source": [
    "def message_for(website):\n",
    "    return [\n",
    "        {\"role\": \"system\", \"content\": system_prompt},\n",
    "        {\"role\": \"user\", \"content\": user_prompt_for(website)},\n",
    "    ]\n",
    "\n",
    "def summarize(url):\n",
    "    website = Website(url)\n",
    "    response = openai.chat.completions.create(\n",
    "        model=\"gpt-4o-mini\",\n",
    "        messages=message_for(website),\n",
    "    )\n",
    "    return response.choices[0].message.content\n",
    "\n",
    "\n",
    "#summarize(\"https://www.google.com\")\n",
    "message_for(ed)\n"
   ],
   "id": "initial_id",
   "outputs": [
    {
     "data": {
      "text/plain": [
       "[{'role': 'system',\n",
       "  'content': 'You are an assistant that analyzes the contents of a website and provides a short summary, ignoring text that might be navigation related. Respond in markdown.'},\n",
       " {'role': 'user',\n",
       "  'content': 'You are looking at a website titled Google\\nThe contents of this website is as follows; please provide a short summary of this website in markdown. If it includes news or announcements, then summarize these too.\\n\\nGoogle\\nSearch\\nImages\\nMaps\\nPlay\\nYouTube\\nNews\\nGmail\\nDrive\\nMore\\n»\\nWeb History\\n|\\nSettings\\n|\\nSign in\\nAdvanced search\\nGoogle offered in:\\nहिन्दी\\nবাংলা\\nతెలుగు\\nमराठी\\nதமிழ்\\nગુજરાતી\\nಕನ್ನಡ\\nമലയാളം\\nਪੰਜਾਬੀ\\nAdvertising\\nBusiness Solutions\\nAbout Google\\nGoogle.co.in\\n© 2025 -\\nPrivacy\\n-\\nTerms'}]"
      ]
     },
     "execution_count": 40,
     "metadata": {},
     "output_type": "execute_result"
    }
   ],
   "execution_count": 40
  }
 ],
 "metadata": {
  "kernelspec": {
   "display_name": "Python 3",
   "language": "python",
   "name": "python3"
  },
  "language_info": {
   "codemirror_mode": {
    "name": "ipython",
    "version": 2
   },
   "file_extension": ".py",
   "mimetype": "text/x-python",
   "name": "python",
   "nbconvert_exporter": "python",
   "pygments_lexer": "ipython2",
   "version": "2.7.6"
  }
 },
 "nbformat": 4,
 "nbformat_minor": 5
}
